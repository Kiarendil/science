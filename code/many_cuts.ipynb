{
 "cells": [
  {
   "cell_type": "heading",
   "metadata": {},
   "level": 2,
   "source": [
    "Importing and activation PyROOT"
   ]
  },
  {
   "cell_type": "code",
   "execution_count": 24,
   "metadata": {},
   "outputs": [
    {
     "name": "stdout",
     "output_type": "stream",
     "text": [
      "/Users/kirillivanov/soft/pyroot/lib\n/Users/kirillivanov/Documents/ФОПФ+/База Данилов/ROOT/4 сем/code\n"
     ]
    }
   ],
   "source": [
    "%cd /Users/kirillivanov/soft/pyroot/lib/\n",
    "import ROOT\n",
    "%cd /Users/kirillivanov/Documents/ФОПФ+/База Данилов/ROOT/4 сем/code"
   ]
  },
  {
   "cell_type": "code",
   "execution_count": 10,
   "metadata": {},
   "outputs": [],
   "source": [
    "import glob"
   ]
  },
  {
   "cell_type": "code",
   "execution_count": 25,
   "metadata": {},
   "outputs": [
    {
     "name": "stdout",
     "output_type": "stream",
     "text": [
      "Adding chain done 1 files \n"
     ]
    }
   ],
   "source": [
    "ch = ROOT.TChain(\"mytree\")\n",
    "MyFileNames12 = glob.glob('../data/data.root')\n",
    "for fName in MyFileNames12:\n",
    "    ch.Add(fName)\n",
    "\n",
    "print(\"Adding chain done\", ch.GetNtrees(), 'files ')\n",
    "ff = ROOT.TFile(\"../data/B_cuts.root\", \"recreate\")"
   ]
  },
  {
   "cell_type": "code",
   "execution_count": null,
   "metadata": {},
   "outputs": [],
   "source": []
  }
 ],
 "metadata": {
  "kernelspec": {
   "display_name": "Python 2",
   "language": "python",
   "name": "python2"
  },
  "language_info": {
   "codemirror_mode": {
    "name": "ipython",
    "version": 2
   },
   "file_extension": ".py",
   "mimetype": "text/x-python",
   "name": "python",
   "nbconvert_exporter": "python",
   "pygments_lexer": "ipython2",
   "version": "2.7.6"
  }
 },
 "nbformat": 4,
 "nbformat_minor": 0
}
