{
 "cells": [
  {
   "cell_type": "code",
   "execution_count": 2,
   "metadata": {},
   "outputs": [
    {
     "name": "stdout",
     "output_type": "stream",
     "text": [
      "/Users/kirillivanov/soft/pyroot/lib\n"
     ]
    },
    {
     "name": "stdout",
     "output_type": "stream",
     "text": [
      "Welcome to JupyROOT 6.12/06\n/Users/kirillivanov/Documents/ФОПФ+/База Данилов/ROOT/4 сем/code\n"
     ]
    }
   ],
   "source": [
    "%cd /Users/kirillivanov/soft/pyroot/lib/\n",
    "import ROOT\n",
    "%cd /Users/kirillivanov/Documents/ФОПФ+/База Данилов/ROOT/4 сем/code"
   ]
  },
  {
   "cell_type": "code",
   "execution_count": 3,
   "metadata": {},
   "outputs": [
    {
     "name": "stdout",
     "output_type": "stream",
     "text": [
      "Adding chain done 1 files \n"
     ]
    }
   ],
   "source": [
    "import glob\n",
    "\n",
    "ch = ROOT.TChain(\"mytree\")\n",
    "MyFileNames12 = glob.glob('../data/data.root')\n",
    "for fName in MyFileNames12:\n",
    "    ch.Add(fName)\n",
    "\n",
    "print(\"Adding chain done\", ch.GetNtrees(), 'files ')"
   ]
  },
  {
   "cell_type": "code",
   "execution_count": 19,
   "metadata": {},
   "outputs": [
    {
     "name": "stderr",
     "output_type": "stream",
     "text": [
      "Warning in <TROOT::Append>: Replacing existing TH1: hBmas1 (Potential memory leak).\nWarning in <TROOT::Append>: Replacing existing TH1: hBmas2 (Potential memory leak).\nWarning in <TROOT::Append>: Replacing existing TH1: hBmas3 (Potential memory leak).\nWarning in <TROOT::Append>: Replacing existing TH1: hBmas4 (Potential memory leak).\nWarning in <TROOT::Append>: Replacing existing TH1: hBmas5 (Potential memory leak).\nWarning in <TROOT::Append>: Replacing existing TH1: hBmas6 (Potential memory leak).\nWarning in <TROOT::Append>: Replacing existing TH1: hBmas7 (Potential memory leak).\n"
     ]
    }
   ],
   "source": [
    "hBmas1 = ROOT.TH1F('hBmas1', 'B_mass', 150, 5.27963 - 0.19, 5.27963 + 0.18)\n",
    "hBmas2 = ROOT.TH1F('hBmas2', 'B_mass', 150, 5.27963 - 0.19, 5.27963 + 0.18)\n",
    "hBmas3 = ROOT.TH1F('hBmas3', 'B_mass', 150, 5.27963 - 0.19, 5.27963 + 0.18)\n",
    "hBmas4 = ROOT.TH1F('hBmas4', 'B_mass', 150, 5.27963 - 0.19, 5.27963 + 0.18)\n",
    "hBmas5 = ROOT.TH1F('hBmas5', 'B_mass', 150, 5.27963 - 0.19, 5.27963 + 0.18)\n",
    "hBmas6 = ROOT.TH1F('hBmas6', 'B_mass', 150, 5.27963 - 0.19, 5.27963 + 0.18)\n",
    "hBmas7 = ROOT.TH1F('hBmas7', 'B_mass', 150, 5.27963 - 0.19, 5.27963 + 0.18)"
   ]
  },
  {
   "cell_type": "code",
   "execution_count": 20,
   "metadata": {},
   "outputs": [],
   "source": [
    "cut_sign = 'B_pvdistsignif2_Cjp > 5'\n",
    "\n",
    "cut_cos = ' && B_pvcos2_Cjp > 0.9995'\n",
    "\n",
    "cut_bpt = [' && B_pt_Cjp > 8', ' && B_pt_Cjp > 10', ' && B_pt_Cjp > 15', ' && B_pt_Cjp > 20', ' && B_pt_Cjp > 25',\n",
    "           ' && B_pt_Cjp > 30', ' && B_pt_Cjp > 35']\n",
    "\n",
    "cuts = []\n",
    "\n",
    "for cut in cut_bpt:\n",
    "    cuts.append(cut_sign + cut_cos + cut)\n"
   ]
  },
  {
   "cell_type": "code",
   "execution_count": 21,
   "metadata": {},
   "outputs": [
    {
     "data": {
      "text/plain": [
       "36519"
      ]
     },
     "execution_count": 21,
     "metadata": {},
     "output_type": "execute_result"
    }
   ],
   "source": [
    "ch.Draw('B_mass_Cjp >> hBmas1', cuts[0])\n",
    "ch.Draw('B_mass_Cjp >> hBmas2', cuts[1])\n",
    "ch.Draw('B_mass_Cjp >> hBmas3', cuts[2])\n",
    "ch.Draw('B_mass_Cjp >> hBmas4', cuts[3])\n",
    "ch.Draw('B_mass_Cjp >> hBmas5', cuts[4])\n",
    "ch.Draw('B_mass_Cjp >> hBmas6', cuts[5])\n",
    "ch.Draw('B_mass_Cjp >> hBmas7', cuts[6])"
   ]
  },
  {
   "cell_type": "code",
   "execution_count": 22,
   "metadata": {},
   "outputs": [],
   "source": [
    "ff = ROOT.TFile(\"../data/B_cut_bpt.root\", \"recreate\")\n",
    "\n",
    "hBmas1.Write()\n",
    "hBmas2.Write()\n",
    "hBmas3.Write()\n",
    "hBmas4.Write()\n",
    "hBmas5.Write()\n",
    "hBmas6.Write()\n",
    "hBmas7.Write()\n",
    "\n",
    "ff.Close()"
   ]
  },
  {
   "cell_type": "code",
   "execution_count": 47,
   "metadata": {},
   "outputs": [],
   "source": [
    "from math import sqrt\n",
    "from array import array\n",
    "\n",
    "f = ROOT.TFile('../data/B_cut_bpt.root', 'read')  # file where to read from\n",
    "\n",
    "signals, signals_err = array('d'), array('d')"
   ]
  },
  {
   "cell_type": "code",
   "execution_count": 48,
   "metadata": {
    "collapsed": true
   },
   "outputs": [
    {
     "name": "stdout",
     "output_type": "stream",
     "text": [
      "Signif = -0.0\n"
     ]
    },
    {
     "name": "stdout",
     "output_type": "stream",
     "text": [
      "Signif = 0.0020980141368151647\n"
     ]
    },
    {
     "name": "stdout",
     "output_type": "stream",
     "text": [
      "Signif = -0.0\n"
     ]
    },
    {
     "name": "stdout",
     "output_type": "stream",
     "text": [
      "Signif = 0.007854720116504465\n"
     ]
    },
    {
     "name": "stdout",
     "output_type": "stream",
     "text": [
      "Signif = 0.0037968178409230596\nSignif = 0.004641168324135559\n"
     ]
    },
    {
     "name": "stdout",
     "output_type": "stream",
     "text": [
      "Signif = 0.005741695996093867\n **********\n **    1 **SET PRINT           1\n **********\n **********\n **    2 **SET NOGRAD\n **********\n PARAMETER DEFINITIONS:\n    NO.   NAME         VALUE      STEP SIZE      LIMITS\n     1 B            2.33167e+04  2.60198e+02    1.00000e+00  9.00000e+08\n MINUIT WARNING IN PARAM DEF\n ============== LIMITS ON PARAM1 TOO FAR APART.\n PARAMETER DEFINITIONS:\n    NO.   NAME         VALUE      STEP SIZE      LIMITS\n     2 B_1          6.07014e-01  5.85286e-03    0.00000e+00  1.00000e+00\n     3 B_2          2.13750e-11  6.88050e-04    0.00000e+00  1.00000e+00\n MINUIT WARNING IN PARAMETR\n ============== VARIABLE3 IS AT ITS LOWER ALLOWED LIMIT.\n MINUIT WARNING IN PARAMETR\n ============== VARIABLE3 BROUGHT BACK INSIDE LIMITS.\n     4 B_3          1.48895e-07  1.70111e-02    0.00000e+00  1.00000e+00\n MINUIT WARNING IN PARAMETR\n ============== VARIABLE4 BROUGHT BACK INSIDE LIMITS.\n     5 B_4          3.31135e-01  8.59326e-03    0.00000e+00  1.00000e+00\n     6 S            1.12869e+05  3.96553e+02    4.00000e+00  9.00000e+05\n     7 S1_mean      5.27843e+00  6.37386e-05    5.17963e+00  5.37963e+00\n     8 S1_sigma     1.64921e-02  5.92931e-05    1.00000e-03  5.00000e-02\n     9 S2_frac      2.00000e-01  1.00000e-01    0.00000e+00  1.00000e+00\n    10 S2_sigma     4.01114e-02  4.83474e-04    7.00000e-03  8.00000e-02\n **********\n **    3 **SET ERR         0.5\n **********\n **********\n **    4 **SET PRINT           1\n **********\n **********\n **    5 **SET STR           1\n **********\n NOW USING STRATEGY  1: TRY TO BALANCE SPEED AGAINST RELIABILITY\n **********\n **    6 **MIGRAD        5000           1\n **********\n FIRST CALL TO USER FUNCTION AT NEW START POINT, WITH IFLAG=4.\n MINUIT WARNING IN MIGrad    \n ============== VARIABLE3 IS AT ITS LOWER ALLOWED LIMIT.\n START MIGRAD MINIMIZATION.  STRATEGY  1.  CONVERGENCE WHEN EDM .LT. 1.00e-03\n FCN=-1.73284e+06 FROM MIGRAD    STATUS=INITIATE       30 CALLS          31 TOTAL\n                     EDM= unknown      STRATEGY= 1      NO ERROR MATRIX       \n  EXT PARAMETER               CURRENT GUESS       STEP         FIRST   \n  NO.   NAME      VALUE            ERROR          SIZE      DERIVATIVE \n   1  B            2.33167e+04   2.60198e+02   5.68030e-05  -6.91473e+01\n   2  B_1          6.07014e-01   5.85286e-03   1.19837e-02   3.32754e-01\n   3  B_2          9.53674e-07   6.88050e-04   2.52753e-02   7.81039e-01\n   4  B_3          1.48895e-07   1.70111e-02   1.31005e-01** at limit **\n   5  B_4          3.31135e-01   8.59326e-03   1.82608e-02   1.13478e+00\n   6  S            1.12869e+05   3.96553e+02   1.33045e-03   7.40630e-01\n   7  S1_mean      5.27843e+00   6.37386e-05   6.37432e-04  -4.26241e-01\n   8  S1_sigma     1.64921e-02   5.92931e-05   2.60241e-03   3.16497e-01\n   9  S2_frac      2.00000e-01   1.00000e-01   2.57889e-01  -1.01836e+03\n  10  S2_sigma     4.01114e-02   4.83474e-04   1.33037e-02  -4.40262e-02\n                               ERR DEF= 0.5\n MIGRAD MINIMIZATION HAS CONVERGED.\n FCN=-1.73302e+06 FROM MIGRAD    STATUS=CONVERGED     287 CALLS         288 TOTAL\n                     EDM=6.64933e-05    STRATEGY= 1  ERROR MATRIX UNCERTAINTY   2.0 per cent\n  EXT PARAMETER                                   STEP         FIRST   \n  NO.   NAME      VALUE            ERROR          SIZE      DERIVATIVE \n   1  B            2.37409e+04   2.39708e+02  -1.96120e-07   2.03497e+01\n   2  B_1          6.02154e-01   4.95265e-03   9.28328e-06   8.49813e-01\n   3  B_2          2.99715e-11   6.53447e-04  -4.03441e-07** at limit **\n   4  B_3          1.51128e-09   1.22822e-03   4.74842e-05** at limit **\n   5  B_4          3.36663e-01   7.59970e-03  -4.48282e-05   3.36966e-01\n   6  S            1.12443e+05   3.77367e+02   8.91774e-06  -5.25880e+00\n   7  S1_mean      5.27844e+00   6.36652e-05   1.70749e-07  -1.29179e-01\n   8  S1_sigma     1.42837e-02   1.31307e-04   2.76444e-05   1.43241e-01\n   9  S2_frac      3.83049e-01   1.09276e-02  -1.27769e-04   2.10856e-01\n  10  S2_sigma     3.14169e-02   4.61759e-04   9.18580e-05  -2.22000e-01\n                               ERR DEF= 0.5\n EXTERNAL ERROR MATRIX.    NDIM=  25    NPAR= 10    ERR DEF=0.5\n  5.746e+04 -5.311e-01 -4.642e-07 -1.536e-07  9.720e-01 -3.202e+04 -1.342e-03 -8.884e-03  7.929e-01 -5.386e-02 \n -5.311e-01  2.453e-05  2.570e-12  4.879e-10 -3.226e-05  5.072e-01  4.797e-08  1.555e-07 -1.343e-05  8.523e-07 \n -4.642e-07  2.570e-12  7.836e-14 -4.208e-15 -1.030e-11 -1.400e-06  4.102e-15  2.527e-13 -2.150e-11  1.589e-12 \n -1.536e-07  4.879e-10 -4.208e-15  7.428e-12 -4.304e-10  4.324e-06  1.101e-12  4.050e-13 -5.580e-10  1.418e-11 \n  9.720e-01 -3.226e-05 -1.030e-11 -4.304e-10  5.776e-05 -8.972e-01 -7.075e-08 -2.682e-07  2.248e-05 -1.439e-06 \n -3.202e+04  5.072e-01 -1.400e-06  4.324e-06 -8.972e-01  1.424e+05  1.224e-03  1.175e-02 -1.000e+00  5.850e-02 \n -1.342e-03  4.797e-08  4.102e-15  1.101e-12 -7.075e-08  1.224e-03  4.053e-09  3.439e-10 -2.718e-08  1.919e-09 \n -8.884e-03  1.555e-07  2.527e-13  4.050e-13 -2.682e-07  1.175e-02  3.439e-10  1.724e-08 -1.259e-06  4.619e-08 \n  7.929e-01 -1.343e-05 -2.150e-11 -5.580e-10  2.248e-05 -1.000e+00 -2.718e-08 -1.259e-06  1.194e-04 -4.503e-06 \n -5.386e-02  8.523e-07  1.589e-12  1.418e-11 -1.439e-06  5.850e-02  1.919e-09  4.619e-08 -4.503e-06  2.132e-07 \n PARAMETER  CORRELATION COEFFICIENTS  \n       NO.  GLOBAL      1      2      3      4      5      6      7      8      9     10\n        1  0.65663   1.000 -0.447 -0.007 -0.000  0.534 -0.354 -0.088 -0.282  0.303 -0.487\n        2  0.85830  -0.447  1.000  0.002  0.036 -0.857  0.271  0.152  0.239 -0.248  0.373\n        3  0.02634  -0.007  0.002  1.000 -0.006 -0.005 -0.013  0.000  0.007 -0.007  0.012\n        4  0.06013  -0.000  0.036 -0.006  1.000 -0.021  0.004  0.006  0.001 -0.019  0.011\n        5  0.87536   0.534 -0.857 -0.005 -0.021  1.000 -0.313 -0.146 -0.269  0.271 -0.410\n        6  0.42122  -0.354  0.271 -0.013  0.004 -0.313  1.000  0.051  0.237 -0.243  0.336\n        7  0.15617  -0.088  0.152  0.000  0.006 -0.146  0.051  1.000  0.041 -0.039  0.065\n        8  0.88106  -0.282  0.239  0.007  0.001 -0.269  0.237  0.041  1.000 -0.877  0.762\n        9  0.94997   0.303 -0.248 -0.007 -0.019  0.271 -0.243 -0.039 -0.877  1.000 -0.892\n       10  0.92685  -0.487  0.373  0.012  0.011 -0.410  0.336  0.065  0.762 -0.892  1.000\n **********\n **    7 **SET ERR         0.5\n **********\n **********\n **    8 **SET PRINT           1\n **********\n **********\n **    9 **HESSE        5000\n **********\n COVARIANCE MATRIX CALCULATED SUCCESSFULLY\n FCN=-1.73302e+06 FROM HESSE     STATUS=OK            102 CALLS         390 TOTAL\n                     EDM=0.000393702    STRATEGY= 1      ERROR MATRIX ACCURATE \n  EXT PARAMETER                                INTERNAL      INTERNAL  \n  NO.   NAME      VALUE            ERROR       STEP SIZE       VALUE   \n   1  B            2.37409e+04   2.56476e+02   3.51288e-05  -1.56052e+00\n   2  B_1          6.02154e-01   6.13275e-03   4.76190e-03   2.05757e-01\n   3  B_2          2.99715e-11   6.06877e-04   4.39077e-02  -1.57079e+00\n                                 WARNING -   - ABOVE PARAMETER IS AT LIMIT.\n   4  B_3          1.51128e-09   2.29734e-03   7.35173e-02  -1.57087e+00\n                                 WARNING -   - ABOVE PARAMETER IS AT LIMIT.\n   5  B_4          3.36663e-01   9.18206e-03   7.00772e-03  -3.32783e-01\n   6  S            1.12443e+05   3.93034e+02   1.05320e-03  -8.48264e-01\n   7  S1_mean      5.27844e+00   6.33975e-05   5.65678e-04  -1.19490e-02\n   8  S1_sigma     1.42837e-02   1.45386e-04   2.66554e-03  -4.75528e-01\n   9  S2_frac      3.83049e-01   1.19102e-02   6.60269e-03  -2.36090e-01\n  10  S2_sigma     3.14169e-02   4.94167e-04   4.72730e-03  -3.37409e-01\n                               ERR DEF= 0.5\n EXTERNAL ERROR MATRIX.    NDIM=  25    NPAR= 10    ERR DEF=0.5\n  6.578e+04 -8.971e-01  2.401e-06  8.662e-05  1.412e+00 -4.203e+04 -1.947e-03 -1.135e-02  1.031e+00 -7.020e-02 \n -8.971e-01  3.761e-05 -1.367e-10 -2.887e-09 -4.931e-05  8.967e-01  7.209e-08  2.226e-07 -1.981e-05  1.390e-06 \n  2.401e-06 -1.367e-10  7.277e-14  2.633e-16  5.732e-12 -2.399e-06  5.082e-14 -4.356e-13  3.623e-11 -3.016e-12 \n  8.662e-05 -2.887e-09  2.633e-16  1.390e-11 -3.862e-09 -8.651e-05  1.475e-12 -9.211e-12  5.943e-10 -7.470e-11 \n  1.412e+00 -4.931e-05  5.732e-12 -3.862e-09  8.432e-05 -1.411e+00 -1.065e-07 -3.459e-07  3.076e-05 -2.174e-06 \n -4.203e+04  8.967e-01 -2.399e-06 -8.651e-05 -1.411e+00  1.545e+05  1.947e-03  1.136e-02 -1.032e+00  7.026e-02 \n -1.947e-03  7.209e-08  5.082e-14  1.475e-12 -1.065e-07  1.947e-03  4.019e-09  4.503e-10 -3.875e-08  2.933e-09 \n -1.135e-02  2.226e-07 -4.356e-13 -9.211e-12 -3.459e-07  1.136e-02  4.503e-10  2.114e-08 -1.548e-06  5.433e-08 \n  1.031e+00 -1.981e-05  3.623e-11  5.943e-10  3.076e-05 -1.032e+00 -3.875e-08 -1.548e-06  1.419e-04 -5.177e-06 \n -7.020e-02  1.390e-06 -3.016e-12 -7.470e-11 -2.174e-06  7.026e-02  2.933e-09  5.433e-08 -5.177e-06  2.442e-07 \n PARAMETER  CORRELATION COEFFICIENTS  \n       NO.  GLOBAL      1      2      3      4      5      6      7      8      9     10\n        1  0.71761   1.000 -0.570  0.035  0.091  0.599 -0.417 -0.120 -0.304  0.337 -0.554\n        2  0.90840  -0.570  1.000 -0.083 -0.126 -0.876  0.372  0.185  0.250 -0.271  0.459\n        3  0.19346   0.035 -0.083  1.000  0.000  0.002 -0.023  0.003 -0.011  0.011 -0.023\n        4  0.51142   0.091 -0.126  0.000  1.000 -0.113 -0.059  0.006 -0.017  0.013 -0.041\n        5  0.91791   0.599 -0.876  0.002 -0.113  1.000 -0.391 -0.183 -0.259  0.281 -0.479\n        6  0.48014  -0.417  0.372 -0.023 -0.059 -0.391  1.000  0.078  0.199 -0.220  0.362\n        7  0.19159  -0.120  0.185  0.003  0.006 -0.183  0.078  1.000  0.049 -0.051  0.094\n        8  0.89836  -0.304  0.250 -0.011 -0.017 -0.259  0.199  0.049  1.000 -0.894  0.756\n        9  0.95506   0.337 -0.271  0.011  0.013  0.281 -0.220 -0.051 -0.894  1.000 -0.880\n       10  0.93198  -0.554  0.459 -0.023 -0.041 -0.479  0.362  0.094  0.756 -0.880  1.000\n **********\n **    1 **SET PRINT           1\n **********\n **********\n **    2 **SET NOGRAD\n **********\n PARAMETER DEFINITIONS:\n    NO.   NAME         VALUE      STEP SIZE      LIMITS\n     1 B            2.32171e+04  9.49544e+01    1.00000e+00  9.00000e+08\n MINUIT WARNING IN PARAM DEF\n ============== LIMITS ON PARAM1 TOO FAR APART.\n PARAMETER DEFINITIONS:\n    NO.   NAME         VALUE      STEP SIZE      LIMITS\n     2 B_1          6.07370e-01  1.34963e-02    0.00000e+00  1.00000e+00\n     3 B_2          1.23079e-09  1.84905e-04    0.00000e+00  1.00000e+00\n MINUIT WARNING IN PARAMETR\n ============== VARIABLE3 IS AT ITS LOWER ALLOWED LIMIT.\n MINUIT WARNING IN PARAMETR\n ============== VARIABLE3 BROUGHT BACK INSIDE LIMITS.\n     4 B_3          4.26223e-08  7.60896e-03    0.00000e+00  1.00000e+00\n MINUIT WARNING IN PARAMETR\n ============== VARIABLE4 BROUGHT BACK INSIDE LIMITS.\n     5 B_4          3.30858e-01  2.75290e-02    0.00000e+00  1.00000e+00\n     6 S            1.12677e+05  1.81103e+02    4.00000e+00  9.00000e+05\n     7 S1_mean      5.27843e+00  3.28273e-05    5.17963e+00  5.37963e+00\n     8 S1_sigma     1.64830e-02  3.01583e-05    1.00000e-03  5.00000e-02\n     9 S2_frac      2.00000e-01  1.00000e-01    0.00000e+00  1.00000e+00\n    10 S2_sigma     4.00076e-02  1.90574e-04    7.00000e-03  8.00000e-02\n **********\n **    3 **SET ERR         0.5\n **********\n **********\n **    4 **SET PRINT           1\n **********\n **********\n **    5 **SET STR           1\n **********\n NOW USING STRATEGY  1: TRY TO BALANCE SPEED AGAINST RELIABILITY\n **********\n **    6 **MIGRAD        5000           1\n **********\n FIRST CALL TO USER FUNCTION AT NEW START POINT, WITH IFLAG=4.\n MINUIT WARNING IN MIGrad    \n ============== VARIABLE3 IS AT ITS LOWER ALLOWED LIMIT.\n START MIGRAD MINIMIZATION.  STRATEGY  1.  CONVERGENCE WHEN EDM .LT. 1.00e-03\n FCN=-1.72907e+06 FROM MIGRAD    STATUS=INITIATE       42 CALLS          43 TOTAL\n                     EDM= unknown      STRATEGY= 1      NO ERROR MATRIX       \n  EXT PARAMETER               CURRENT GUESS       STEP         FIRST   \n  NO.   NAME      VALUE            ERROR          SIZE      DERIVATIVE \n   1  B            2.32171e+04   9.49544e+01   2.07733e-05  -2.70494e+00\n   2  B_1          6.07370e-01   1.34963e-02   2.76414e-02  -8.39283e-02\n   3  B_2          9.53674e-07   1.84905e-04   1.26569e-02   7.92868e-01\n   4  B_3          4.26223e-08   7.60896e-03   8.79043e-02** at limit **\n   5  B_4          3.30858e-01   2.75290e-02   5.85538e-02   8.66702e-01\n   6  S            1.12677e+05   1.81103e+02   6.08049e-04  -1.74614e-01\n   7  S1_mean      5.27843e+00   3.28273e-05   3.28297e-04   8.78452e-02\n   8  S1_sigma     1.64830e-02   3.01583e-05   1.32388e-03  -3.23478e-01\n   9  S2_frac      2.00000e-01   1.00000e-01   2.57889e-01  -1.01384e+03\n  10  S2_sigma     4.00076e-02   1.90574e-04   5.24528e-03  -2.93950e-01\n                               ERR DEF= 0.5\n MIGRAD MINIMIZATION HAS CONVERGED.\n FCN=-1.72925e+06 FROM MIGRAD    STATUS=CONVERGED     270 CALLS         271 TOTAL\n                     EDM=5.82139e-05    STRATEGY= 1  ERROR MATRIX UNCERTAINTY   2.3 per cent\n  EXT PARAMETER                                   STEP         FIRST   \n  NO.   NAME      VALUE            ERROR          SIZE      DERIVATIVE \n   1  B            2.36368e+04   2.39601e+02  -1.70301e-07   5.28759e+01\n   2  B_1          6.02481e-01   5.00444e-03   1.58361e-05   1.89597e-01\n   3  B_2          5.86915e-10   6.39618e-04  -3.26651e-05** at limit **\n   4  B_3          2.35249e-09   1.45610e-03   1.49574e-04** at limit **\n   5  B_4          3.36428e-01   7.62621e-03  -3.18425e-05  -7.45212e-02\n   6  S            1.12257e+05   3.78145e+02   5.66059e-06  -2.49454e+00\n   7  S1_mean      5.27844e+00   6.36524e-05   3.23042e-07  -4.82056e-01\n   8  S1_sigma     1.42710e-02   1.41332e-04   4.15658e-05  -4.71305e-01\n   9  S2_frac      3.83757e-01   1.17806e-02  -1.76256e-04   4.15743e-01\n  10  S2_sigma     3.13414e-02   4.75256e-04   1.02312e-04   2.40339e-01\n                               ERR DEF= 0.5\n EXTERNAL ERROR MATRIX.    NDIM=  25    NPAR= 10    ERR DEF=0.5\n  5.741e+04 -5.690e-01 -5.562e-06  1.396e-05  9.835e-01 -3.181e+04 -1.362e-03 -9.888e-03  8.808e-01 -5.659e-02 \n -5.690e-01  2.505e-05  6.117e-12 -5.011e-10 -3.245e-05  5.048e-01  4.796e-08  1.709e-07 -1.430e-05  8.810e-07 \n -5.562e-06  6.117e-12  1.502e-12  6.227e-15 -9.353e-11 -3.317e-06  2.019e-16  1.176e-12 -1.044e-10  1.315e-11 \n  1.396e-05 -5.011e-10  6.227e-15  1.371e-11  6.829e-10 -7.412e-05 -9.832e-13 -1.567e-12  5.988e-10 -7.328e-11 \n  9.835e-01 -3.245e-05 -9.353e-11  6.829e-10  5.816e-05 -8.977e-01 -6.966e-08 -2.759e-07  2.285e-05 -1.450e-06 \n -3.181e+04  5.048e-01 -3.317e-06 -7.412e-05 -8.977e-01  1.430e+05  1.150e-03  1.230e-02 -1.005e+00  5.595e-02 \n -1.362e-03  4.796e-08  2.019e-16 -9.832e-13 -6.966e-08  1.150e-03  4.052e-09  3.967e-10 -3.041e-08  1.908e-09 \n -9.888e-03  1.709e-07  1.176e-12 -1.567e-12 -2.759e-07  1.230e-02  3.967e-10  1.997e-08 -1.494e-06  5.287e-08 \n  8.808e-01 -1.430e-05 -1.044e-10  5.988e-10  2.285e-05 -1.005e+00 -3.041e-08 -1.494e-06  1.388e-04 -4.998e-06 \n -5.659e-02  8.810e-07  1.315e-11 -7.328e-11 -1.450e-06  5.595e-02  1.908e-09  5.287e-08 -4.998e-06  2.259e-07 \n PARAMETER  CORRELATION COEFFICIENTS  \n       NO.  GLOBAL      1      2      3      4      5      6      7      8      9     10\n        1  0.66431   1.000 -0.475 -0.019  0.016  0.538 -0.351 -0.089 -0.292  0.312 -0.497\n        2  0.85159  -0.475  1.000  0.001 -0.027 -0.850  0.267  0.151  0.242 -0.243  0.370\n        3  0.04470  -0.019  0.001  1.000  0.001 -0.010 -0.007  0.000  0.007 -0.007  0.023\n        4  0.08523   0.016 -0.027  0.001  1.000  0.024 -0.053 -0.004 -0.003  0.014 -0.042\n        5  0.86679   0.538 -0.850 -0.010  0.024  1.000 -0.311 -0.143 -0.256  0.254 -0.400\n        6  0.41002  -0.351  0.267 -0.007 -0.053 -0.311  1.000  0.048  0.230 -0.226  0.311\n        7  0.15413  -0.089  0.151  0.000 -0.004 -0.143  0.048  1.000  0.044 -0.041  0.063\n        8  0.89940  -0.292  0.242  0.007 -0.003 -0.256  0.230  0.044  1.000 -0.897  0.787\n        9  0.95278   0.312 -0.243 -0.007  0.014  0.254 -0.226 -0.041 -0.897  1.000 -0.893\n       10  0.92690  -0.497  0.370  0.023 -0.042 -0.400  0.311  0.063  0.787 -0.893  1.000\n **********\n **    7 **SET ERR         0.5\n **********\n **********\n **    8 **SET PRINT           1\n **********\n **********\n **    9 **HESSE        5000\n **********\n COVARIANCE MATRIX CALCULATED SUCCESSFULLY\n FCN=-1.72925e+06 FROM HESSE     STATUS=OK            104 CALLS         375 TOTAL\n                     EDM=0.000468009    STRATEGY= 1      ERROR MATRIX ACCURATE \n  EXT PARAMETER                                INTERNAL      INTERNAL  \n  NO.   NAME      VALUE            ERROR       STEP SIZE       VALUE   \n   1  B            2.36368e+04   2.55221e+02   3.50825e-05  -1.56055e+00\n   2  B_1          6.02481e-01   6.13817e-03   4.76544e-03   2.06426e-01\n   3  B_2          5.86915e-10   5.97374e-04   4.35669e-02  -1.57075e+00\n                                 WARNING -   - ABOVE PARAMETER IS AT LIMIT.\n   4  B_3          2.35249e-09   2.24795e-03   7.31797e-02  -1.57089e+00\n                                 WARNING -   - ABOVE PARAMETER IS AT LIMIT.\n   5  B_4          3.36428e-01   9.18605e-03   7.01075e-03  -3.33280e-01\n   6  S            1.12257e+05   3.92112e+02   1.05181e-03  -8.48892e-01\n   7  S1_mean      5.27844e+00   6.33929e-05   5.65046e-04  -1.19196e-02\n   8  S1_sigma     1.42710e-02   1.45585e-04   2.66618e-03  -4.76112e-01\n   9  S2_frac      3.83757e-01   1.19524e-02   6.60824e-03  -2.34632e-01\n  10  S2_sigma     3.13414e-02   4.91830e-04   4.70432e-03  -3.39603e-01\n                               ERR DEF= 0.5\n EXTERNAL ERROR MATRIX.    NDIM=  25    NPAR= 10    ERR DEF=0.5\n  6.514e+04 -8.914e-01  1.028e-05  1.043e-04  1.404e+00 -4.149e+04 -1.935e-03 -1.126e-02  1.026e+00 -6.928e-02 \n -8.914e-01  3.768e-05 -5.907e-10 -3.499e-09 -4.942e-05  8.909e-01  7.210e-08  2.225e-07 -1.989e-05  1.382e-06 \n  1.028e-05 -5.907e-10  1.403e-12  1.305e-15  2.320e-11 -1.028e-05  2.205e-13 -1.869e-12  1.562e-10 -1.289e-11 \n  1.043e-04 -3.499e-09  1.305e-15  2.117e-11 -4.702e-09 -1.042e-04  1.794e-12 -1.112e-11  7.219e-10 -8.983e-11 \n  1.404e+00 -4.942e-05  2.320e-11 -4.702e-09  8.439e-05 -1.403e+00 -1.064e-07 -3.457e-07  3.086e-05 -2.161e-06 \n -4.149e+04  8.909e-01 -1.028e-05 -1.042e-04 -1.403e+00  1.538e+05  1.934e-03  1.127e-02 -1.028e+00  6.934e-02 \n -1.935e-03  7.210e-08  2.205e-13  1.794e-12 -1.064e-07  1.934e-03  4.019e-09  4.538e-10 -3.917e-08  2.924e-09 \n -1.126e-02  2.225e-07 -1.869e-12 -1.112e-11 -3.457e-07  1.127e-02  4.538e-10  2.120e-08 -1.556e-06  5.414e-08 \n  1.026e+00 -1.989e-05  1.562e-10  7.219e-10  3.086e-05 -1.028e+00 -3.917e-08 -1.556e-06  1.429e-04 -5.173e-06 \n -6.928e-02  1.382e-06 -1.289e-11 -8.983e-11 -2.161e-06  6.934e-02  2.924e-09  5.414e-08 -5.173e-06  2.419e-07 \n PARAMETER  CORRELATION COEFFICIENTS  \n       NO.  GLOBAL      1      2      3      4      5      6      7      8      9     10\n        1  0.71593   1.000 -0.569  0.034  0.089  0.599 -0.415 -0.120 -0.303  0.336 -0.552\n        2  0.90825  -0.569  1.000 -0.081 -0.124 -0.876  0.370  0.185  0.249 -0.271  0.458\n        3  0.19054   0.034 -0.081  1.000  0.000  0.002 -0.022  0.003 -0.011  0.011 -0.022\n        4  0.50477   0.089 -0.124  0.000  1.000 -0.111 -0.058  0.006 -0.017  0.013 -0.040\n        5  0.91777   0.599 -0.876  0.002 -0.111  1.000 -0.389 -0.183 -0.259  0.281 -0.478\n        6  0.47788  -0.415  0.370 -0.022 -0.058 -0.389  1.000  0.078  0.197 -0.219  0.360\n        7  0.19137  -0.120  0.185  0.003  0.006 -0.183  0.078  1.000  0.049 -0.052  0.094\n        8  0.89843  -0.303  0.249 -0.011 -0.017 -0.259  0.197  0.049  1.000 -0.894  0.756\n        9  0.95517   0.336 -0.271  0.011  0.013  0.281 -0.219 -0.052 -0.894  1.000 -0.880\n       10  0.93195  -0.552  0.458 -0.022 -0.040 -0.478  0.360  0.094  0.756 -0.880  1.000\n **********\n **    1 **SET PRINT           1\n **********\n **********\n **    2 **SET NOGRAD\n **********\n PARAMETER DEFINITIONS:\n    NO.   NAME         VALUE      STEP SIZE      LIMITS\n     1 B            2.02088e+04  2.13944e+02    1.00000e+00  9.00000e+08\n MINUIT WARNING IN PARAM DEF\n ============== LIMITS ON PARAM1 TOO FAR APART.\n PARAMETER DEFINITIONS:\n    NO.   NAME         VALUE      STEP SIZE      LIMITS\n     2 B_1          6.11406e-01  1.72025e-02    0.00000e+00  1.00000e+00\n     3 B_2          1.51173e-09  4.75004e-04    0.00000e+00  1.00000e+00\n MINUIT WARNING IN PARAMETR\n ============== VARIABLE3 IS AT ITS LOWER ALLOWED LIMIT.\n MINUIT WARNING IN PARAMETR\n ============== VARIABLE3 BROUGHT BACK INSIDE LIMITS.\n     4 B_3          2.00903e-07  4.37932e-02    0.00000e+00  1.00000e+00\n MINUIT WARNING IN PARAMETR\n ============== VARIABLE4 BROUGHT BACK INSIDE LIMITS.\n     5 B_4          3.27112e-01  3.59494e-02    0.00000e+00  1.00000e+00\n     6 S            1.03719e+05  3.18059e+02    4.00000e+00  9.00000e+05\n     7 S1_mean      5.27846e+00  5.56540e-05    5.17963e+00  5.37963e+00\n     8 S1_sigma     1.63761e-02  5.35942e-05    1.00000e-03  5.00000e-02\n     9 S2_frac      2.00000e-01  1.00000e-01    0.00000e+00  1.00000e+00\n    10 S2_sigma     3.92302e-02  3.28222e-04    7.00000e-03  8.00000e-02\n **********\n **    3 **SET ERR         0.5\n **********\n **********\n **    4 **SET PRINT           1\n **********\n **********\n **    5 **SET STR           1\n **********\n NOW USING STRATEGY  1: TRY TO BALANCE SPEED AGAINST RELIABILITY\n **********\n **    6 **MIGRAD        5000           1\n **********\n FIRST CALL TO USER FUNCTION AT NEW START POINT, WITH IFLAG=4.\n MINUIT WARNING IN MIGrad    \n ============== VARIABLE3 IS AT ITS LOWER ALLOWED LIMIT.\n START MIGRAD MINIMIZATION.  STRATEGY  1.  CONVERGENCE WHEN EDM .LT. 1.00e-03\n FCN=-1.56852e+06 FROM MIGRAD    STATUS=INITIATE       40 CALLS          41 TOTAL\n                     EDM= unknown      STRATEGY= 1      NO ERROR MATRIX       \n  EXT PARAMETER               CURRENT GUESS       STEP         FIRST   \n  NO.   NAME      VALUE            ERROR          SIZE      DERIVATIVE \n   1  B            2.02088e+04   2.13944e+02   5.01685e-05  -2.91206e+01\n   2  B_1          6.11406e-01   1.72025e-02   3.53007e-02   1.37668e+00\n   3  B_2          9.53674e-07   4.75004e-04   2.08416e-02   7.84887e-01\n   4  B_3          2.00903e-07   4.37932e-02   2.10907e-01** at limit **\n   5  B_4          3.27112e-01   3.59494e-02   7.67314e-02   1.62735e+00\n   6  S            1.03719e+05   3.18059e+02   1.10676e-03   6.58196e-01\n   7  S1_mean      5.27846e+00   5.56540e-05   5.56578e-04  -6.40380e-01\n   8  S1_sigma     1.63761e-02   5.35942e-05   2.35707e-03  -3.32314e-01\n   9  S2_frac      2.00000e-01   1.00000e-01   2.57889e-01  -9.07759e+02\n  10  S2_sigma     3.92302e-02   3.28222e-04   9.05467e-03  -2.66511e-01\n                               ERR DEF= 0.5\n MIGRAD MINIMIZATION HAS CONVERGED.\n MIGRAD WILL VERIFY CONVERGENCE AND ERROR MATRIX.\n COVARIANCE MATRIX CALCULATED SUCCESSFULLY\n FCN=-1.56868e+06 FROM MIGRAD    STATUS=CONVERGED     374 CALLS         375 TOTAL\n                     EDM=0.000416905    STRATEGY= 1      ERROR MATRIX ACCURATE \n  EXT PARAMETER                                   STEP         FIRST   \n  NO.   NAME      VALUE            ERROR          SIZE      DERIVATIVE \n   1  B            2.05932e+04   2.35504e+02   3.33925e-05   5.45147e+01\n   2  B_1          6.05733e-01   6.58098e-03   4.85461e-03  -6.62208e-01\n   3  B_2          3.15135e-10   6.08453e-04   4.21103e-02** at limit **\n   4  B_3          1.34902e-08   2.16437e-03   7.09775e-02** at limit **\n   5  B_4          3.33962e-01   9.83332e-03   7.13927e-03  -1.38049e+00\n   6  S            1.03334e+05   3.71748e+02   9.94548e-04  -1.48620e+00\n   7  S1_mean      5.27846e+00   6.53932e-05   5.55410e-04  -4.27383e-01\n   8  S1_sigma     1.41961e-02   1.51085e-04   2.63583e-03  -7.14138e-02\n   9  S2_frac      3.84365e-01   1.26340e-02   6.59296e-03   3.93366e-03\n  10  S2_sigma     3.08544e-02   4.97021e-04   4.54199e-03   1.09621e-01\n                               ERR DEF= 0.5\n EXTERNAL ERROR MATRIX.    NDIM=  25    NPAR= 10    ERR DEF=0.5\n  5.546e+04 -8.769e-01  6.272e-06  1.999e-04  1.386e+00 -3.486e+04 -1.825e-03 -1.057e-02  9.923e-01 -6.358e-02 \n -8.769e-01  4.331e-05 -4.240e-10 -7.797e-09 -5.717e-05  8.765e-01  7.916e-08  2.470e-07 -2.277e-05  1.494e-06 \n  6.272e-06 -4.240e-10  7.671e-13  1.515e-15  1.323e-11 -6.267e-06  1.512e-13 -1.259e-12  1.089e-10 -8.526e-12 \n  1.999e-04 -7.797e-09  1.515e-15  1.169e-10 -1.078e-08 -1.996e-04  3.960e-12 -2.347e-11  1.605e-09 -1.867e-10 \n  1.386e+00 -5.717e-05  1.323e-11 -1.078e-08  9.671e-05 -1.386e+00 -1.165e-07 -3.837e-07  3.530e-05 -2.337e-06 \n -3.486e+04  8.765e-01 -6.267e-06 -1.996e-04 -1.386e+00  1.382e+05  1.825e-03  1.059e-02 -9.937e-01  6.363e-02 \n -1.825e-03  7.916e-08  1.512e-13  3.960e-12 -1.165e-07  1.825e-03  4.276e-09  5.303e-10 -4.614e-08  3.099e-09 \n -1.057e-02  2.470e-07 -1.259e-12 -2.347e-11 -3.837e-07  1.059e-02  5.303e-10  2.283e-08 -1.707e-06  5.677e-08 \n  9.923e-01 -2.277e-05  1.089e-10  1.605e-09  3.530e-05 -9.937e-01 -4.614e-08 -1.707e-06  1.597e-04 -5.542e-06 \n -6.358e-02  1.494e-06 -8.526e-12 -1.867e-10 -2.337e-06  6.363e-02  3.099e-09  5.677e-08 -5.542e-06  2.470e-07 \n PARAMETER  CORRELATION COEFFICIENTS  \n       NO.  GLOBAL      1      2      3      4      5      6      7      8      9     10\n        1  0.70841   1.000 -0.566  0.030  0.079  0.599 -0.398 -0.119 -0.297  0.333 -0.543\n        2  0.90907  -0.566  1.000 -0.074 -0.110 -0.883  0.358  0.184  0.248 -0.274  0.457\n        3  0.17444   0.030 -0.074  1.000  0.000  0.002 -0.019  0.003 -0.010  0.010 -0.020\n        4  0.46573   0.079 -0.110  0.000  1.000 -0.101 -0.050  0.006 -0.014  0.012 -0.035\n        5  0.91842   0.599 -0.883  0.002 -0.101  1.000 -0.379 -0.181 -0.258  0.284 -0.478\n        6  0.46075  -0.398  0.358 -0.019 -0.050 -0.379  1.000  0.075  0.188 -0.212  0.344\n        7  0.18938  -0.119  0.184  0.003  0.006 -0.181  0.075  1.000  0.054 -0.056  0.095\n        8  0.89880  -0.297  0.248 -0.010 -0.014 -0.258  0.188  0.054  1.000 -0.894  0.756\n        9  0.95597   0.333 -0.274  0.010  0.012  0.284 -0.212 -0.056 -0.894  1.000 -0.882\n       10  0.93225  -0.543  0.457 -0.020 -0.035 -0.478  0.344  0.095  0.756 -0.882  1.000\n **********\n **    7 **SET ERR         0.5\n **********\n **********\n **    8 **SET PRINT           1\n **********\n **********\n **    9 **HESSE        5000\n **********\n EIGENVALUES OF SECOND-DERIVATIVE MATRIX:\n        -3.3916e+00  4.5394e-02  1.7044e-01  6.1935e-01  9.7834e-01  9.9987e-01  1.0040e+00  1.1369e+00  2.2639e+00  6.1734e+00\n MINUIT WARNING IN HESSE   \n ============== MATRIX FORCED POS-DEF BY ADDING 3.397756 TO DIAGONAL.\n FCN=-1.56868e+06 FROM HESSE     STATUS=NOT POSDEF     92 CALLS         467 TOTAL\n                     EDM=0.0108505    STRATEGY= 1      ERR MATRIX NOT POS-DEF\n  EXT PARAMETER                APPROXIMATE     INTERNAL      INTERNAL  \n  NO.   NAME      VALUE            ERROR       STEP SIZE       VALUE   \n   1  B            2.05932e+04   7.98795e+01   1.33570e-06  -1.56123e+00\n   2  B_1          6.05733e-01   1.34522e-02   1.94184e-04   2.13075e-01\n   3  B_2          3.15135e-10   1.38907e-04   1.68441e-03  -1.57076e+00\n                                 WARNING -   - ABOVE PARAMETER IS AT LIMIT.\n   4  B_3          1.34902e-08   6.92458e-03   5.00000e-01  -1.57056e+00\n                                 WARNING -   - ABOVE PARAMETER IS AT LIMIT.\n   5  B_4          3.33962e-01   2.77603e-02   2.85571e-04  -3.38504e-01\n   6  S            1.03334e+05   1.57611e+02   3.97819e-05  -8.79430e-01\n   7  S1_mean      5.27846e+00   3.06512e-05   1.11082e-04  -1.17182e-02\n   8  S1_sigma     1.41961e-02   3.20433e-05   1.05433e-04  -4.79552e-01\n   9  S2_frac      3.84365e-01   1.81915e-03   2.63718e-04  -2.33383e-01\n  10  S2_sigma     3.08544e-02   8.75917e-05   1.81680e-04  -3.53790e-01\n                               ERR DEF= 0.5\n EXTERNAL ERROR MATRIX.    NDIM=  25    NPAR= 10    ERR DEF=0.5\n  6.381e+03 -7.041e-02 -1.308e-07  1.003e-04 -1.363e-01 -4.607e+02  2.388e-06 -1.704e-05 -4.875e-03 -5.011e-04 \n -7.041e-02  1.810e-04  3.544e-10 -2.591e-07  3.706e-04  5.885e-02 -1.740e-08  8.251e-09  2.468e-08 -8.698e-08 \n -1.308e-07  3.544e-10  1.751e-13 -5.134e-13  7.342e-10  1.094e-07 -3.416e-14  1.597e-14 -2.206e-14 -1.777e-13 \n  1.003e-04 -2.591e-07 -5.134e-13  3.745e-10 -5.363e-07 -8.381e-05  2.593e-11 -1.190e-11 -2.325e-11  1.275e-10 \n -1.363e-01  3.706e-04  7.342e-10 -5.363e-07  7.715e-04  1.139e-01 -3.759e-08  1.675e-08 -2.716e-08 -1.876e-07 \n -4.607e+02  5.885e-02  1.094e-07 -8.381e-05  1.139e-01  2.484e+04 -1.995e-06  1.424e-05  4.075e-03  4.189e-04 \n  2.388e-06 -1.740e-08 -3.416e-14  2.593e-11 -3.759e-08 -1.995e-06  9.395e-10  4.509e-13  9.548e-11  1.375e-11 \n -1.704e-05  8.251e-09  1.597e-14 -1.190e-11  1.675e-08  1.424e-05  4.509e-13  1.027e-09 -9.388e-09 -5.411e-11 \n -4.875e-03  2.468e-08 -2.206e-14 -2.325e-11 -2.716e-08  4.075e-03  9.548e-11 -9.388e-09  3.309e-06 -2.532e-08 \n -5.011e-04 -8.698e-08 -1.777e-13  1.275e-10 -1.876e-07  4.189e-04  1.375e-11 -5.411e-11 -2.532e-08  7.672e-09 \nERR MATRIX NOT POS-DEF\n PARAMETER  CORRELATION COEFFICIENTS  \n       NO.  GLOBAL      1      2      3      4      5      6      7      8      9     10\n        1  0.12411   1.000 -0.066 -0.004  0.065 -0.061 -0.037  0.001 -0.007 -0.034 -0.072\n        2  0.99527  -0.066  1.000  0.063 -0.995  0.992  0.028 -0.042  0.019  0.001 -0.074\n        3  0.06343  -0.004  0.063  1.000 -0.063  0.063  0.002 -0.003  0.001 -0.000 -0.005\n        4  0.99870   0.065 -0.995 -0.063  1.000 -0.998 -0.027  0.044 -0.019 -0.001  0.075\n        5  0.99777  -0.061  0.992  0.063 -0.998  1.000  0.026 -0.044  0.019 -0.001 -0.077\n        6  0.05950  -0.037  0.028  0.002 -0.027  0.026  1.000 -0.000  0.003  0.014  0.030\n        7  0.04610   0.001 -0.042 -0.003  0.044 -0.044 -0.000  1.000  0.000  0.002  0.005\n        8  0.16903  -0.007  0.019  0.001 -0.019  0.019  0.003  0.000  1.000 -0.161 -0.019\n        9  0.23504  -0.034  0.001 -0.000 -0.001 -0.001  0.014  0.002 -0.161  1.000 -0.159\n       10  0.20377  -0.072 -0.074 -0.005  0.075 -0.077  0.030  0.005 -0.019 -0.159  1.000\n ERR MATRIX NOT POS-DEF\n **********\n **    1 **SET PRINT           1\n **********\n **********\n **    2 **SET NOGRAD\n **********\n PARAMETER DEFINITIONS:\n    NO.   NAME         VALUE      STEP SIZE      LIMITS\n     1 B            1.47809e+04  1.43128e+02    1.00000e+00  9.00000e+08\n MINUIT WARNING IN PARAM DEF\n ============== LIMITS ON PARAM1 TOO FAR APART.\n PARAMETER DEFINITIONS:\n    NO.   NAME         VALUE      STEP SIZE      LIMITS\n     2 B_1          6.35485e-01  1.89770e-02    0.00000e+00  1.00000e+00\n     3 B_2          9.49274e-09  4.61504e-04    0.00000e+00  1.00000e+00\n MINUIT WARNING IN PARAMETR\n ============== VARIABLE3 IS AT ITS LOWER ALLOWED LIMIT.\n MINUIT WARNING IN PARAMETR\n ============== VARIABLE3 BROUGHT BACK INSIDE LIMITS.\n     4 B_3          1.09786e-09  4.22161e-02    0.00000e+00  1.00000e+00\n MINUIT WARNING IN PARAMETR\n ============== VARIABLE4 IS AT ITS LOWER ALLOWED LIMIT.\n MINUIT WARNING IN PARAMETR\n ============== VARIABLE4 BROUGHT BACK INSIDE LIMITS.\n     5 B_4          3.14447e-01  3.82573e-02    0.00000e+00  1.00000e+00\n     6 S            8.19051e+04  2.45314e+02    4.00000e+00  9.00000e+05\n     7 S1_mean      5.27848e+00  5.74656e-05    5.17963e+00  5.37963e+00\n     8 S1_sigma     1.63179e-02  5.40786e-05    1.00000e-03  5.00000e-02\n     9 S2_frac      2.00000e-01  1.00000e-01    0.00000e+00  1.00000e+00\n    10 S2_sigma     3.86970e-02  3.17471e-04    7.00000e-03  8.00000e-02\n **********\n **    3 **SET ERR         0.5\n **********\n **********\n **    4 **SET PRINT           1\n **********\n **********\n **    5 **SET STR           1\n **********\n NOW USING STRATEGY  1: TRY TO BALANCE SPEED AGAINST RELIABILITY\n **********\n **    6 **MIGRAD        5000           1\n **********\n FIRST CALL TO USER FUNCTION AT NEW START POINT, WITH IFLAG=4.\n MINUIT WARNING IN MIGrad    \n ============== VARIABLE3 IS AT ITS LOWER ALLOWED LIMIT.\n MINUIT WARNING IN MIGrad    \n ============== VARIABLE4 IS AT ITS LOWER ALLOWED LIMIT.\n START MIGRAD MINIMIZATION.  STRATEGY  1.  CONVERGENCE WHEN EDM .LT. 1.00e-03\n FCN=-1.20265e+06 FROM MIGRAD    STATUS=INITIATE       38 CALLS          39 TOTAL\n                     EDM= unknown      STRATEGY= 1      NO ERROR MATRIX       \n  EXT PARAMETER               CURRENT GUESS       STEP         FIRST   \n  NO.   NAME      VALUE            ERROR          SIZE      DERIVATIVE \n   1  B            1.47809e+04   1.43128e+02   3.92442e-05   2.62642e+00\n   2  B_1          6.35485e-01   1.89770e-02   3.94418e-02  -1.30416e-01\n   3  B_2          9.53674e-07   4.61504e-04   2.05299e-02   6.93081e-01\n   4  B_3          9.53674e-07   4.22161e-02   2.05965e-01   1.98707e-01\n   5  B_4          3.14447e-01   3.82573e-02   8.25374e-02   6.75853e-02\n   6  S            8.19051e+04   2.45314e+02   9.47709e-04  -2.42159e-01\n   7  S1_mean      5.27848e+00   5.74656e-05   5.74694e-04  -1.25011e-02\n   8  S1_sigma     1.63179e-02   5.40786e-05   2.38082e-03   1.36196e-01\n   9  S2_frac      2.00000e-01   1.00000e-01   2.57889e-01  -7.27678e+02\n  10  S2_sigma     3.86970e-02   3.17471e-04   8.77425e-03   1.99084e-01\n                               ERR DEF= 0.5\n MIGRAD MINIMIZATION HAS CONVERGED.\n MIGRAD WILL VERIFY CONVERGENCE AND ERROR MATRIX.\n COVARIANCE MATRIX CALCULATED SUCCESSFULLY\n FCN=-1.20279e+06 FROM MIGRAD    STATUS=CONVERGED     370 CALLS         371 TOTAL\n                     EDM=0.000315005    STRATEGY= 1      ERROR MATRIX ACCURATE \n  EXT PARAMETER                                   STEP         FIRST   \n  NO.   NAME      VALUE            ERROR          SIZE      DERIVATIVE \n   1  B            1.50815e+04   2.05023e+02   2.92229e-05  -4.31937e+01\n   2  B_1          6.28325e-01   8.41715e-03   4.79081e-03   3.47158e-02\n   3  B_2          1.28600e-11   6.81326e-04   3.94508e-02** at limit **\n   4  B_3          1.04612e-08   2.31842e-03   6.82834e-02** at limit **\n   5  B_4          3.23249e-01   1.21583e-02   6.84925e-03  -5.62639e-01\n   6  S            8.16031e+04   3.29465e+02   8.57497e-04  -3.78823e+00\n   7  S1_mean      5.27849e+00   7.31779e-05   5.43080e-04  -5.97538e-01\n   8  S1_sigma     1.40967e-02   1.70906e-04   2.60137e-03  -5.61304e-01\n   9  S2_frac      3.88952e-01   1.43834e-02   6.48772e-03  -2.14413e-01\n  10  S2_sigma     3.04666e-02   5.46652e-04   4.30716e-03   1.36642e-01\n                               ERR DEF= 0.5\n EXTERNAL ERROR MATRIX.    NDIM=  25    NPAR= 10    ERR DEF=0.5\n  4.203e+04 -1.042e+00  1.043e-06  1.241e-04  1.570e+00 -2.694e+04 -1.927e-03 -1.086e-02  1.035e+00 -6.262e-02 \n -1.042e+00  7.086e-05 -9.709e-11 -6.834e-09 -9.376e-05  1.041e+00  1.210e-07  3.999e-07 -3.773e-05  2.311e-06 \n  1.043e-06 -9.709e-11  3.506e-14  8.064e-16  1.155e-11 -1.042e-06  1.894e-14 -2.825e-13  2.503e-11 -1.817e-12 \n  1.241e-04 -6.834e-09  8.064e-16  9.709e-11 -1.007e-08 -1.239e-04  3.834e-12 -1.764e-11  1.193e-09 -1.392e-10 \n  1.570e+00 -9.376e-05  1.155e-11 -1.007e-08  1.479e-04 -1.569e+00 -1.722e-07 -5.921e-07  5.575e-05 -3.442e-06 \n -2.694e+04  1.041e+00 -1.042e-06 -1.239e-04 -1.569e+00  1.085e+05  1.926e-03  1.087e-02 -1.037e+00  6.266e-02 \n -1.927e-03  1.210e-07  1.894e-14  3.834e-12 -1.722e-07  1.926e-03  5.355e-09  6.749e-10 -6.159e-08  4.092e-09 \n -1.086e-02  3.999e-07 -2.825e-13 -1.764e-11 -5.921e-07  1.087e-02  6.749e-10  2.921e-08 -2.202e-06  7.081e-08 \n  1.035e+00 -3.773e-05  2.503e-11  1.193e-09  5.575e-05 -1.037e+00 -6.159e-08 -2.202e-06  2.069e-04 -6.955e-06 \n -6.262e-02  2.311e-06 -1.817e-12 -1.392e-10 -3.442e-06  6.266e-02  4.092e-09  7.081e-08 -6.955e-06  2.989e-07 \n PARAMETER  CORRELATION COEFFICIENTS  \n       NO.  GLOBAL      1      2      3      4      5      6      7      8      9     10\n        1  0.72055   1.000 -0.604  0.027  0.061  0.630 -0.399 -0.128 -0.310  0.351 -0.559\n        2  0.93196  -0.604  1.000 -0.062 -0.082 -0.916  0.375  0.196  0.278 -0.312  0.502\n        3  0.15760   0.027 -0.062  1.000  0.000  0.005 -0.017  0.001 -0.009  0.009 -0.018\n        4  0.42879   0.061 -0.082  0.000  1.000 -0.084 -0.038  0.005 -0.010  0.008 -0.026\n        5  0.93793   0.630 -0.916  0.005 -0.084  1.000 -0.392 -0.194 -0.285  0.319 -0.518\n        6  0.45961  -0.399  0.375 -0.017 -0.038 -0.392  1.000  0.080  0.193 -0.219  0.348\n        7  0.20018  -0.128  0.196  0.001  0.005 -0.194  0.080  1.000  0.054 -0.059  0.102\n        8  0.90011  -0.310  0.278 -0.009 -0.010 -0.285  0.193  0.054  1.000 -0.895  0.758\n        9  0.95694   0.351 -0.312  0.009  0.008  0.319 -0.219 -0.059 -0.895  1.000 -0.884\n       10  0.93498  -0.559  0.502 -0.018 -0.026 -0.518  0.348  0.102  0.758 -0.884  1.000\n **********\n **    7 **SET ERR         0.5\n **********\n **********\n **    8 **SET PRINT           1\n **********\n **********\n **    9 **HESSE        5000\n **********\n COVARIANCE MATRIX CALCULATED SUCCESSFULLY\n FCN=-1.20279e+06 FROM HESSE     STATUS=OK             92 CALLS         463 TOTAL\n                     EDM=0.000192304    STRATEGY= 1      ERROR MATRIX ACCURATE \n  EXT PARAMETER                                INTERNAL      INTERNAL  \n  NO.   NAME      VALUE            ERROR       STEP SIZE       VALUE   \n   1  B            1.50815e+04   1.85108e+02   1.16891e-06  -1.56261e+00\n   2  B_1          6.28325e-01   6.25794e-03   1.91633e-04   2.59554e-01\n   3  B_2          1.28600e-11   6.81071e-04   7.89016e-03  -1.57079e+00\n                                 WARNING -   - ABOVE PARAMETER IS AT LIMIT.\n   4  B_3          1.04612e-08   8.53564e-05   5.00000e-01  -1.57100e+00\n                                 WARNING -   - ABOVE PARAMETER IS AT LIMIT.\n   5  B_4          3.23249e-01   9.06065e-03   2.73970e-04  -3.61312e-01\n   6  S            8.16031e+04   3.17462e+02   1.71499e-04  -9.59087e-01\n   7  S1_mean      5.27849e+00   7.25090e-05   1.08616e-04  -1.14447e-02\n   8  S1_sigma     1.40967e-02   1.72025e-04   1.04055e-04  -4.84134e-01\n   9  S2_frac      3.88952e-01   1.42733e-02   2.59509e-04  -2.23964e-01\n  10  S2_sigma     3.04666e-02   5.12972e-04   1.72287e-04  -3.65139e-01\n                               ERR DEF= 0.5\n EXTERNAL ERROR MATRIX.    NDIM=  25    NPAR= 10    ERR DEF=0.5\n  3.426e+04 -5.426e-01  1.507e-07 -4.097e-07  8.810e-01 -1.918e+04 -1.072e-03 -8.062e-03  7.624e-01 -4.556e-02 \n -5.426e-01  3.916e-05 -1.568e-11  2.078e-11 -4.946e-05  5.425e-01  6.641e-08  2.155e-07 -2.012e-05  1.218e-06 \n  1.507e-07 -1.568e-11  3.504e-14  9.829e-16 -3.028e-12 -1.502e-07  1.049e-14 -3.429e-14  2.875e-12 -2.337e-13 \n -4.097e-07  2.078e-11  9.829e-16  3.572e-12 -2.791e-11  1.901e-06  4.151e-13  3.886e-13 -3.117e-11  1.635e-12 \n  8.810e-01 -4.946e-05 -3.028e-12 -2.791e-11  8.211e-05 -8.808e-01 -9.237e-08 -3.309e-07  3.067e-05 -1.902e-06 \n -1.918e+04  5.425e-01 -1.502e-07  1.901e-06 -8.808e-01  1.008e+05  1.072e-03  8.062e-03 -7.624e-01  4.555e-02 \n -1.072e-03  6.641e-08  1.049e-14  4.151e-13 -9.237e-08  1.072e-03  5.258e-09  3.431e-10 -3.067e-08  2.190e-09 \n -8.062e-03  2.155e-07 -3.429e-14  3.886e-13 -3.309e-07  8.062e-03  3.431e-10  2.959e-08 -2.202e-06  6.679e-08 \n  7.624e-01 -2.012e-05  2.875e-12 -3.117e-11  3.067e-05 -7.624e-01 -3.067e-08 -2.202e-06  2.038e-04 -6.477e-06 \n -4.556e-02  1.218e-06 -2.337e-13  1.635e-12 -1.902e-06  4.555e-02  2.190e-09  6.679e-08 -6.477e-06  2.632e-07 \n PARAMETER  CORRELATION COEFFICIENTS  \n       NO.  GLOBAL      1      2      3      4      5      6      7      8      9     10\n        1  0.64045   1.000 -0.468  0.004 -0.001  0.525 -0.326 -0.080 -0.253  0.289 -0.480\n        2  0.87300  -0.468  1.000 -0.013  0.002 -0.872  0.273  0.146  0.200 -0.225  0.379\n        3  0.03137   0.004 -0.013  1.000  0.003 -0.002 -0.003  0.001 -0.001  0.001 -0.002\n        4  0.00523  -0.001  0.002  0.003  1.000 -0.002  0.003  0.003  0.001 -0.001  0.002\n        5  0.88498   0.525 -0.872 -0.002 -0.002  1.000 -0.306 -0.141 -0.212  0.237 -0.409\n        6  0.38790  -0.326  0.273 -0.003  0.003 -0.306  1.000  0.047  0.148 -0.168  0.280\n        7  0.14927  -0.080  0.146  0.001  0.003 -0.141  0.047  1.000  0.028 -0.030  0.059\n        8  0.90148  -0.253  0.200 -0.001  0.001 -0.212  0.148  0.028  1.000 -0.897  0.757\n        9  0.95626   0.289 -0.225  0.001 -0.001  0.237 -0.168 -0.030 -0.897  1.000 -0.885\n       10  0.92581  -0.480  0.379 -0.002  0.002 -0.409  0.280  0.059  0.757 -0.885  1.000\n **********\n **    1 **SET PRINT           1\n **********\n **********\n **    2 **SET NOGRAD\n **********\n PARAMETER DEFINITIONS:\n    NO.   NAME         VALUE      STEP SIZE      LIMITS\n     1 B            1.10975e+04  1.69037e+02    1.00000e+00  9.00000e+08\n MINUIT WARNING IN PARAM DEF\n ============== LIMITS ON PARAM1 TOO FAR APART.\n PARAMETER DEFINITIONS:\n    NO.   NAME         VALUE      STEP SIZE      LIMITS\n     2 B_1          6.53596e-01  7.84597e-03    0.00000e+00  1.00000e+00\n     3 B_2          1.53897e-08  1.12430e-03    0.00000e+00  1.00000e+00\n MINUIT WARNING IN PARAMETR\n ============== VARIABLE3 BROUGHT BACK INSIDE LIMITS.\n     4 B_3          3.99131e-09  1.04231e-03    0.00000e+00  1.00000e+00\n MINUIT WARNING IN PARAMETR\n ============== VARIABLE4 IS AT ITS LOWER ALLOWED LIMIT.\n MINUIT WARNING IN PARAMETR\n ============== VARIABLE4 BROUGHT BACK INSIDE LIMITS.\n     5 B_4          3.07447e-01  1.09007e-02    0.00000e+00  1.00000e+00\n     6 S            6.21542e+04  2.82190e+02    4.00000e+00  9.00000e+05\n     7 S1_mean      5.27846e+00  8.52956e-05    5.17963e+00  5.37963e+00\n     8 S1_sigma     1.65657e-02  7.90019e-05    1.00000e-03  5.00000e-02\n     9 S2_frac      2.00000e-01  1.00000e-01    0.00000e+00  1.00000e+00\n    10 S2_sigma     3.93065e-02  5.85299e-04    7.00000e-03  8.00000e-02\n **********\n **    3 **SET ERR         0.5\n **********\n **********\n **    4 **SET PRINT           1\n **********\n **********\n **    5 **SET STR           1\n **********\n NOW USING STRATEGY  1: TRY TO BALANCE SPEED AGAINST RELIABILITY\n **********\n **    6 **MIGRAD        5000           1\n **********\n FIRST CALL TO USER FUNCTION AT NEW START POINT, WITH IFLAG=4.\n MINUIT WARNING IN MIGrad    \n ============== VARIABLE4 IS AT ITS LOWER ALLOWED LIMIT.\n START MIGRAD MINIMIZATION.  STRATEGY  1.  CONVERGENCE WHEN EDM .LT. 1.00e-03\n FCN=-890345 FROM MIGRAD    STATUS=INITIATE       32 CALLS          33 TOTAL\n                     EDM= unknown      STRATEGY= 1      NO ERROR MATRIX       \n  EXT PARAMETER               CURRENT GUESS       STEP         FIRST   \n  NO.   NAME      VALUE            ERROR          SIZE      DERIVATIVE \n   1  B            1.10975e+04   1.69037e+02   5.34913e-05  -3.72663e+00\n   2  B_1          6.53596e-01   7.84597e-03   1.64902e-02   5.09462e-01\n   3  B_2          1.53897e-08   1.12430e-03   3.42655e-02** at limit **\n   4  B_3          9.53674e-07   1.04231e-03   3.13287e-02   1.27638e-01\n   5  B_4          3.07447e-01   1.09007e-02   2.36267e-02   3.73452e-01\n   6  S            6.21542e+04   2.82190e+02   1.23663e-03   2.25987e+00\n   7  S1_mean      5.27846e+00   8.52956e-05   8.53014e-04  -1.09671e-01\n   8  S1_sigma     1.65657e-02   7.90019e-05   3.46305e-03  -2.79732e-01\n   9  S2_frac      2.00000e-01   1.00000e-01   2.57889e-01  -5.50783e+02\n  10  S2_sigma     3.93065e-02   5.85299e-04   1.61432e-02   2.74441e-02\n                               ERR DEF= 0.5\n MIGRAD MINIMIZATION HAS CONVERGED.\n MIGRAD WILL VERIFY CONVERGENCE AND ERROR MATRIX.\n COVARIANCE MATRIX CALCULATED SUCCESSFULLY\n FCN=-890450 FROM MIGRAD    STATUS=CONVERGED     370 CALLS         371 TOTAL\n                     EDM=0.000367708    STRATEGY= 1      ERROR MATRIX ACCURATE \n  EXT PARAMETER                                   STEP         FIRST   \n  NO.   NAME      VALUE            ERROR          SIZE      DERIVATIVE \n   1  B            1.13443e+04   1.92040e+02   2.51757e-05   2.12767e+01\n   2  B_1          6.45385e-01   1.15761e-02   4.53697e-03  -4.45034e-01\n   3  B_2          2.73654e-11   1.01816e-03   4.10645e-02** at limit **\n   4  B_3          7.17488e-08   3.58940e-03   6.82979e-02** at limit **\n   5  B_4          3.17332e-01   1.61331e-02   6.26660e-03  -8.60034e-01\n   6  S            6.19063e+04   2.95687e+02   7.29073e-04  -1.58587e+00\n   7  S1_mean      5.27846e+00   8.60011e-05   5.44506e-04  -4.63601e-01\n   8  S1_sigma     1.42635e-02   2.06695e-04   2.60895e-03   1.56195e-01\n   9  S2_frac      3.92894e-01   1.71962e-02   6.41649e-03  -1.03726e-01\n  10  S2_sigma     3.07970e-02   6.71590e-04   4.24850e-03  -8.44360e-02\n                               ERR DEF= 0.5\n EXTERNAL ERROR MATRIX.    NDIM=  25    NPAR= 10    ERR DEF=0.5\n  3.688e+04 -1.506e+00  2.322e-06  3.570e-04  2.143e+00 -2.553e+04 -2.715e-03 -1.420e-02  1.328e+00 -7.905e-02 \n -1.506e+00  1.340e-04 -2.686e-10 -2.633e-08 -1.764e-04  1.505e+00  2.330e-07  8.100e-07 -7.515e-05  4.507e-06 \n  2.322e-06 -2.686e-10  1.115e-13  1.273e-14  8.821e-11 -2.321e-06 -3.608e-14 -9.452e-13  8.386e-11 -5.707e-12 \n  3.570e-04 -2.633e-08  1.273e-14  1.031e-09 -4.260e-08 -3.565e-04  1.890e-11 -5.972e-11  3.617e-09 -4.875e-10 \n  2.143e+00 -1.764e-04  8.821e-11 -4.260e-08  2.604e-04 -2.142e+00 -3.218e-07 -1.142e-06  1.058e-04 -6.375e-06 \n -2.553e+04  1.505e+00 -2.321e-06 -3.565e-04 -2.142e+00  8.743e+04  2.714e-03  1.421e-02 -1.330e+00  7.908e-02 \n -2.715e-03  2.330e-07 -3.608e-14  1.890e-11 -3.218e-07  2.714e-03  7.396e-09  1.439e-09 -1.283e-07  7.933e-09 \n -1.420e-02  8.100e-07 -9.452e-13 -5.972e-11 -1.142e-06  1.421e-02  1.439e-09  4.272e-08 -3.208e-06  1.070e-07 \n  1.328e+00 -7.515e-05  8.386e-11  3.617e-09  1.058e-04 -1.330e+00 -1.283e-07 -3.208e-06  2.958e-04 -1.027e-05 \n -7.905e-02  4.507e-06 -5.707e-12 -4.875e-10 -6.375e-06  7.908e-02  7.933e-09  1.070e-07 -1.027e-05  4.511e-07 \n PARAMETER  CORRELATION COEFFICIENTS  \n       NO.  GLOBAL      1      2      3      4      5      6      7      8      9     10\n        1  0.76598   1.000 -0.677  0.036  0.058  0.692 -0.450 -0.164 -0.358  0.402 -0.613\n        2  0.95781  -0.677  1.000 -0.069 -0.071 -0.944  0.440  0.234  0.338 -0.377  0.580\n        3  0.18676   0.036 -0.069  1.000  0.001  0.016 -0.024 -0.001 -0.014  0.015 -0.025\n        4  0.48143   0.058 -0.071  0.001  1.000 -0.082 -0.038  0.007 -0.009  0.007 -0.023\n        5  0.96090   0.692 -0.944  0.016 -0.082  1.000 -0.449 -0.232 -0.342  0.381 -0.588\n        6  0.50709  -0.450  0.440 -0.024 -0.038 -0.449  1.000  0.107  0.233 -0.261  0.398\n        7  0.23701  -0.164  0.234 -0.001  0.007 -0.232  0.107  1.000  0.081 -0.087  0.137\n        8  0.90679  -0.358  0.338 -0.014 -0.009 -0.342  0.233  0.081  1.000 -0.902  0.771\n        9  0.96013   0.402 -0.377  0.015  0.007  0.381 -0.261 -0.087 -0.902  1.000 -0.889\n       10  0.94318  -0.613  0.580 -0.025 -0.023 -0.588  0.398  0.137  0.771 -0.889  1.000\n **********\n **    7 **SET ERR         0.5\n **********\n **********\n **    8 **SET PRINT           1\n **********\n **********\n **    9 **HESSE        5000\n **********\n COVARIANCE MATRIX CALCULATED SUCCESSFULLY\n FCN=-890450 FROM HESSE     STATUS=OK             92 CALLS         463 TOTAL\n                     EDM=0.000174906    STRATEGY= 1      ERROR MATRIX ACCURATE \n  EXT PARAMETER                                INTERNAL      INTERNAL  \n  NO.   NAME      VALUE            ERROR       STEP SIZE       VALUE   \n   1  B            1.13443e+04   1.60792e+02   1.00703e-06  -1.56370e+00\n   2  B_1          6.45385e-01   7.28012e-03   1.81479e-04   2.95032e-01\n   3  B_2          2.73654e-11   1.01685e-03   1.64258e-03  -1.57079e+00\n                                 WARNING -   - ABOVE PARAMETER IS AT LIMIT.\n   4  B_3          7.17488e-08   1.28271e-04   5.00000e-01  -1.57133e+00\n                                 WARNING -   - ABOVE PARAMETER IS AT LIMIT.\n   5  B_4          3.17332e-01   1.01680e-02   2.50664e-04  -3.73993e-01\n   6  S            6.19063e+04   2.76434e+02   2.91629e-05  -1.04007e+00\n   7  S1_mean      5.27846e+00   8.45118e-05   1.08901e-04  -1.16526e-02\n   8  S1_sigma     1.42635e-02   2.04532e-04   1.04358e-04  -4.76455e-01\n   9  S2_frac      3.92894e-01   1.67018e-02   2.56660e-04  -2.15885e-01\n  10  S2_sigma     3.07970e-02   5.97479e-04   1.69940e-04  -3.55467e-01\n                               ERR DEF= 0.5\n EXTERNAL ERROR MATRIX.    NDIM=  25    NPAR= 10    ERR DEF=0.5\n  2.585e+04 -5.578e-01  5.309e-08 -3.463e-07  8.573e-01 -1.451e+04 -1.061e-03 -8.516e-03  7.910e-01 -4.635e-02 \n -5.578e-01  5.300e-05 -7.337e-12  5.293e-11 -6.580e-05  5.578e-01  9.121e-08  3.126e-07 -2.869e-05  1.695e-06 \n  5.309e-08 -7.337e-12  1.113e-13  1.190e-15 -1.269e-12 -5.308e-08  4.817e-15 -1.642e-14  1.353e-12 -1.086e-13 \n -3.463e-07  5.293e-11  1.190e-15  3.681e-11 -6.339e-11  1.448e-06  1.579e-12  1.205e-12 -8.346e-11  3.845e-12 \n  8.573e-01 -6.580e-05 -1.269e-12 -6.339e-11  1.034e-04 -8.572e-01 -1.225e-07 -4.558e-07  4.157e-05 -2.510e-06 \n -1.451e+04  5.578e-01 -5.308e-08  1.448e-06 -8.572e-01  7.642e+04  1.061e-03  8.516e-03 -7.910e-01  4.635e-02 \n -1.061e-03  9.121e-08  4.817e-15  1.579e-12 -1.225e-07  1.061e-03  7.142e-09  5.522e-10 -4.637e-08  2.987e-09 \n -8.516e-03  3.126e-07 -1.642e-14  1.205e-12 -4.558e-07  8.516e-03  5.522e-10  4.183e-08 -3.076e-06  9.325e-08 \n  7.910e-01 -2.869e-05  1.353e-12 -8.346e-11  4.157e-05 -7.910e-01 -4.637e-08 -3.076e-06  2.791e-04 -8.858e-06 \n -4.635e-02  1.695e-06 -1.086e-13  3.845e-12 -2.510e-06  4.635e-02  2.987e-09  9.325e-08 -8.858e-06  3.570e-07 \n PARAMETER  CORRELATION COEFFICIENTS  \n       NO.  GLOBAL      1      2      3      4      5      6      7      8      9     10\n        1  0.64069   1.000 -0.477  0.001 -0.000  0.524 -0.326 -0.078 -0.259  0.294 -0.482\n        2  0.88940  -0.477  1.000 -0.003  0.001 -0.889  0.277  0.148  0.210 -0.236  0.390\n        3  0.00748   0.001 -0.003  1.000  0.001 -0.000 -0.001  0.000 -0.000  0.000 -0.001\n        4  0.00344  -0.000  0.001  0.001  1.000 -0.001  0.001  0.003  0.001 -0.001  0.001\n        5  0.89816   0.524 -0.889 -0.000 -0.001  1.000 -0.305 -0.143 -0.219  0.245 -0.413\n        6  0.38737  -0.326  0.277 -0.001  0.001 -0.305  1.000  0.045  0.151 -0.171  0.281\n        7  0.15038  -0.078  0.148  0.000  0.003 -0.143  0.045  1.000  0.032 -0.033  0.059\n        8  0.90471  -0.259  0.210 -0.000  0.001 -0.219  0.151  0.032  1.000 -0.900  0.763\n        9  0.95768   0.294 -0.236  0.000 -0.001  0.245 -0.171 -0.033 -0.900  1.000 -0.887\n       10  0.92763  -0.482  0.390 -0.001  0.001 -0.413  0.281  0.059  0.763 -0.887  1.000\n **********\n **    1 **SET PRINT           1\n **********\n **********\n **    2 **SET NOGRAD\n **********\n PARAMETER DEFINITIONS:\n    NO.   NAME         VALUE      STEP SIZE      LIMITS\n     1 B            7.95089e+03  1.45561e+02    1.00000e+00  9.00000e+08\n MINUIT WARNING IN PARAM DEF\n ============== LIMITS ON PARAM1 TOO FAR APART.\n PARAMETER DEFINITIONS:\n    NO.   NAME         VALUE      STEP SIZE      LIMITS\n     2 B_1          6.59908e-01  9.42644e-03    0.00000e+00  1.00000e+00\n     3 B_2          7.77909e-09  1.84157e-03    0.00000e+00  1.00000e+00\n MINUIT WARNING IN PARAMETR\n ============== VARIABLE3 IS AT ITS LOWER ALLOWED LIMIT.\n MINUIT WARNING IN PARAMETR\n ============== VARIABLE3 BROUGHT BACK INSIDE LIMITS.\n     4 B_3          2.06542e-10  2.73116e-03    0.00000e+00  1.00000e+00\n MINUIT WARNING IN PARAMETR\n ============== VARIABLE4 IS AT ITS LOWER ALLOWED LIMIT.\n MINUIT WARNING IN PARAMETR\n ============== VARIABLE4 BROUGHT BACK INSIDE LIMITS.\n     5 B_4          3.06495e-01  1.27513e-02    0.00000e+00  1.00000e+00\n     6 S            4.46822e+04  2.40666e+02    4.00000e+00  9.00000e+05\n     7 S1_mean      5.27852e+00  1.02205e-04    5.17963e+00  5.37963e+00\n     8 S1_sigma     1.67873e-02  9.46605e-05    1.00000e-03  5.00000e-02\n     9 S2_frac      2.00000e-01  1.00000e-01    0.00000e+00  1.00000e+00\n    10 S2_sigma     4.03402e-02  7.17918e-04    7.00000e-03  8.00000e-02\n **********\n **    3 **SET ERR         0.5\n **********\n **********\n **    4 **SET PRINT           1\n **********\n **********\n **    5 **SET STR           1\n **********\n NOW USING STRATEGY  1: TRY TO BALANCE SPEED AGAINST RELIABILITY\n **********\n **    6 **MIGRAD        5000           1\n **********\n FIRST CALL TO USER FUNCTION AT NEW START POINT, WITH IFLAG=4.\n MINUIT WARNING IN MIGrad    \n ============== VARIABLE3 IS AT ITS LOWER ALLOWED LIMIT.\n MINUIT WARNING IN MIGrad    \n ============== VARIABLE4 IS AT ITS LOWER ALLOWED LIMIT.\n START MIGRAD MINIMIZATION.  STRATEGY  1.  CONVERGENCE WHEN EDM .LT. 1.00e-03\n FCN=-621737 FROM MIGRAD    STATUS=INITIATE       32 CALLS          33 TOTAL\n                     EDM= unknown      STRATEGY= 1      NO ERROR MATRIX       \n  EXT PARAMETER               CURRENT GUESS       STEP         FIRST   \n  NO.   NAME      VALUE            ERROR          SIZE      DERIVATIVE \n   1  B            7.95089e+03   1.45561e+02   5.44206e-05   1.39212e+00\n   2  B_1          6.59908e-01   9.42644e-03   1.98997e-02   3.11383e-02\n   3  B_2          9.53674e-07   1.84157e-03   4.19612e-02   2.97450e-01\n   4  B_3          9.53674e-07   2.73116e-03   5.13169e-02   3.82523e-02\n   5  B_4          3.06495e-01   1.27513e-02   2.76633e-02   8.59549e-02\n   6  S            4.46822e+04   2.40666e+02   1.23113e-03   9.24847e-02\n   7  S1_mean      5.27852e+00   1.02205e-04   1.02211e-03   1.39542e-02\n   8  S1_sigma     1.67873e-02   9.46605e-05   4.13395e-03   3.44616e-01\n   9  S2_frac      2.00000e-01   1.00000e-01   2.57889e-01  -4.20151e+02\n  10  S2_sigma     4.03402e-02   7.17918e-04   1.97444e-02  -6.68270e-03\n                               ERR DEF= 0.5\n MIGRAD MINIMIZATION HAS CONVERGED.\n FCN=-621816 FROM MIGRAD    STATUS=CONVERGED     294 CALLS         295 TOTAL\n                     EDM=6.98985e-05    STRATEGY= 1  ERROR MATRIX UNCERTAINTY   3.5 per cent\n  EXT PARAMETER                                   STEP         FIRST   \n  NO.   NAME      VALUE            ERROR          SIZE      DERIVATIVE \n   1  B            8.11859e+03   1.35852e+02   1.63843e-06   1.10715e+02\n   2  B_1          6.52545e-01   8.58245e-03  -2.29762e-04   4.75258e-01\n   3  B_2          1.00068e-08   1.70963e-03   7.47808e-04** at limit **\n   4  B_3          4.94933e-08   2.90641e-03  -5.46495e-06** at limit **\n   5  B_4          3.14783e-01   1.19131e-02   5.69316e-04   3.88279e-01\n   6  S            4.45150e+04   2.37658e+02  -5.40993e-06   9.90548e-01\n   7  S1_mean      5.27852e+00   1.02153e-04  -1.94857e-06  -1.89617e-01\n   8  S1_sigma     1.44549e-02   2.02222e-04  -8.78825e-05  -6.30961e-01\n   9  S2_frac      3.90104e-01   1.64717e-02   5.90737e-05  -2.35599e-01\n  10  S2_sigma     3.16098e-02   6.78002e-04  -2.89330e-04  -1.88058e-01\n                               ERR DEF= 0.5\n EXTERNAL ERROR MATRIX.    NDIM=  25    NPAR= 10    ERR DEF=0.5\n  1.846e+04 -5.522e-01 -3.367e-05 -2.555e-04  8.260e-01 -1.039e+04 -1.001e-03 -6.867e-03  6.188e-01 -4.450e-02 \n -5.522e-01  7.367e-05  8.391e-10  1.081e-08 -9.145e-05  5.623e-01  1.256e-07  4.445e-07 -3.907e-05  2.457e-06 \n -3.367e-05  8.391e-10  6.847e-11  3.993e-13 -2.675e-09 -5.686e-06  2.502e-12  1.382e-11 -9.019e-10  3.100e-11 \n -2.555e-04  1.081e-08  3.993e-13  5.759e-10  1.255e-09  2.397e-04 -6.546e-12  2.518e-11 -2.281e-09  4.684e-10 \n  8.260e-01 -9.145e-05 -2.675e-09  1.255e-09  1.420e-04 -8.616e-01 -1.675e-07 -6.208e-07  5.399e-05 -3.485e-06 \n -1.039e+04  5.623e-01 -5.686e-06  2.397e-04 -8.616e-01  5.648e+04  8.480e-04  8.913e-03 -8.021e-01  5.021e-02 \n -1.001e-03  1.256e-07  2.502e-12 -6.546e-12 -1.675e-07  8.480e-04  1.044e-08  8.458e-10 -5.770e-08  3.719e-09 \n -6.867e-03  4.445e-07  1.382e-11  2.518e-11 -6.208e-07  8.913e-03  8.458e-10  4.090e-08 -2.883e-06  1.002e-07 \n  6.188e-01 -3.907e-05 -9.019e-10 -2.281e-09  5.399e-05 -8.021e-01 -5.770e-08 -2.883e-06  2.714e-04 -9.785e-06 \n -4.450e-02  2.457e-06  3.100e-11  4.684e-10 -3.485e-06  5.021e-02  3.719e-09  1.002e-07 -9.785e-06  4.597e-07 \n PARAMETER  CORRELATION COEFFICIENTS  \n       NO.  GLOBAL      1      2      3      4      5      6      7      8      9     10\n        1  0.64308   1.000 -0.474 -0.030 -0.078  0.510 -0.322 -0.072 -0.250  0.276 -0.483\n        2  0.89728  -0.474  1.000  0.012  0.052 -0.894  0.276  0.143  0.256 -0.276  0.422\n        3  0.05037  -0.030  0.012  1.000  0.002 -0.027 -0.003  0.003  0.008 -0.007  0.006\n        4  0.15806  -0.078  0.052  0.002  1.000  0.004  0.042 -0.003  0.005 -0.006  0.029\n        5  0.90313   0.510 -0.894 -0.027  0.004  1.000 -0.304 -0.138 -0.258  0.275 -0.431\n        6  0.39513  -0.322  0.276 -0.003  0.042 -0.304  1.000  0.035  0.185 -0.205  0.312\n        7  0.14655  -0.072  0.143  0.003 -0.003 -0.138  0.035  1.000  0.041 -0.034  0.054\n        8  0.86924  -0.250  0.256  0.008  0.005 -0.258  0.185  0.041  1.000 -0.865  0.731\n        9  0.94409   0.276 -0.276 -0.007 -0.006  0.275 -0.205 -0.034 -0.865  1.000 -0.876\n       10  0.91965  -0.483  0.422  0.006  0.029 -0.431  0.312  0.054  0.731 -0.876  1.000\n **********\n **    7 **SET ERR         0.5\n **********\n **********\n **    8 **SET PRINT           1\n **********\n **********\n **    9 **HESSE        5000\n **********\n COVARIANCE MATRIX CALCULATED SUCCESSFULLY\n FCN=-621816 FROM HESSE     STATUS=OK            102 CALLS         397 TOTAL\n                     EDM=0.000338583    STRATEGY= 1      ERROR MATRIX ACCURATE \n  EXT PARAMETER                                INTERNAL      INTERNAL  \n  NO.   NAME      VALUE            ERROR       STEP SIZE       VALUE   \n   1  B            8.11859e+03   1.84399e+02   2.11124e-05  -1.56479e+00\n   2  B_1          6.52545e-01   1.69594e-02   4.36505e-03   3.10034e-01\n   3  B_2          1.00068e-08   1.59518e-03   4.26874e-02  -1.57060e+00\n                                 WARNING -   - ABOVE PARAMETER IS AT LIMIT.\n   4  B_3          4.94933e-08   5.95164e-03   7.13175e-02  -1.57035e+00\n                                 WARNING -   - ABOVE PARAMETER IS AT LIMIT.\n   5  B_4          3.14783e-01   2.31277e-02   5.90487e-03  -3.79476e-01\n   6  S            4.45150e+04   2.65301e+02   6.03259e-04  -1.12227e+00\n   7  S1_mean      5.27852e+00   1.04552e-04   5.44734e-04  -1.11267e-02\n   8  S1_sigma     1.44549e-02   2.46838e-04   2.57926e-03  -4.67686e-01\n   9  S2_frac      3.90104e-01   1.99685e-02   6.24679e-03  -2.21602e-01\n  10  S2_sigma     3.16098e-02   8.68268e-04   4.29608e-03  -3.31814e-01\n                               ERR DEF= 0.5\n EXTERNAL ERROR MATRIX.    NDIM=  25    NPAR= 10    ERR DEF=0.5\n  3.400e+04 -2.375e+00  7.415e-05  3.374e-04  3.265e+00 -2.587e+04 -4.278e-03 -1.871e-02  1.675e+00 -1.092e-01 \n -2.375e+00  2.877e-04 -1.099e-08 -3.434e-08 -3.777e-04  2.374e+00  5.107e-07  1.672e-06 -1.485e-04  9.757e-06 \n  7.415e-05 -1.099e-08  6.388e-11  5.270e-13  6.106e-09 -7.410e-05 -5.607e-12 -4.273e-11  3.669e-09 -2.646e-10 \n  3.374e-04 -3.434e-08  5.270e-13  1.181e-09 -6.992e-08 -3.368e-04  3.820e-11 -4.399e-11  8.917e-10 -5.023e-10 \n  3.265e+00 -3.777e-04  6.106e-09 -6.992e-08  5.353e-04 -3.263e+00 -6.932e-07 -2.290e-06  2.033e-04 -1.339e-05 \n -2.587e+04  2.374e+00 -7.410e-05 -3.368e-04 -3.263e+00  7.038e+04  4.276e-03  1.872e-02 -1.675e+00  1.092e-01 \n -4.278e-03  5.107e-07 -5.607e-12  3.820e-11 -6.932e-07  4.276e-03  1.093e-08  3.220e-09 -2.687e-07  1.742e-08 \n -1.871e-02  1.672e-06 -4.273e-11 -4.399e-11 -2.290e-06  1.872e-02  3.220e-09  6.093e-08 -4.456e-06  1.658e-07 \n  1.675e+00 -1.485e-04  3.669e-09  8.917e-10  2.033e-04 -1.675e+00 -2.687e-07 -4.456e-06  3.990e-04 -1.533e-05 \n -1.092e-01  9.757e-06 -2.646e-10 -5.023e-10 -1.339e-05  1.092e-01  1.742e-08  1.658e-07 -1.533e-05  7.540e-07 \n PARAMETER  CORRELATION COEFFICIENTS  \n       NO.  GLOBAL      1      2      3      4      5      6      7      8      9     10\n        1  0.82278   1.000 -0.759  0.050  0.053  0.765 -0.529 -0.222 -0.411  0.455 -0.682\n        2  0.97444  -0.759  1.000 -0.081 -0.059 -0.962  0.527  0.288  0.399 -0.438  0.662\n        3  0.21655   0.050 -0.081  1.000  0.002  0.033 -0.035 -0.007 -0.022  0.023 -0.038\n        4  0.55906   0.053 -0.059  0.002  1.000 -0.088 -0.037  0.011 -0.005  0.001 -0.017\n        5  0.97616   0.765 -0.962  0.033 -0.088  1.000 -0.532 -0.287 -0.401  0.440 -0.666\n        6  0.57961  -0.529  0.527 -0.035 -0.037 -0.532  1.000  0.154  0.286 -0.316  0.474\n        7  0.29107  -0.222  0.288 -0.007  0.011 -0.287  0.154  1.000  0.125 -0.129  0.192\n        8  0.90768  -0.411  0.399 -0.022 -0.005 -0.401  0.286  0.125  1.000 -0.904  0.773\n        9  0.95994   0.455 -0.438  0.023  0.001  0.440 -0.316 -0.129 -0.904  1.000 -0.884\n       10  0.94962  -0.682  0.662 -0.038 -0.017 -0.666  0.474  0.192  0.773 -0.884  1.000\n **********\n **    1 **SET PRINT           1\n **********\n **********\n **    2 **SET NOGRAD\n **********\n PARAMETER DEFINITIONS:\n    NO.   NAME         VALUE      STEP SIZE      LIMITS\n     1 B            5.52251e+03  1.22290e+02    1.00000e+00  9.00000e+08\n MINUIT WARNING IN PARAM DEF\n ============== LIMITS ON PARAM1 TOO FAR APART.\n PARAMETER DEFINITIONS:\n    NO.   NAME         VALUE      STEP SIZE      LIMITS\n     2 B_1          6.49096e-01  1.11777e-02    0.00000e+00  1.00000e+00\n     3 B_2          9.20118e-09  1.15965e-03    0.00000e+00  1.00000e+00\n MINUIT WARNING IN PARAMETR\n ============== VARIABLE3 IS AT ITS LOWER ALLOWED LIMIT.\n MINUIT WARNING IN PARAMETR\n ============== VARIABLE3 BROUGHT BACK INSIDE LIMITS.\n     4 B_3          4.75081e-09  1.15965e-03    0.00000e+00  1.00000e+00\n MINUIT WARNING IN PARAMETR\n ============== VARIABLE4 IS AT ITS LOWER ALLOWED LIMIT.\n MINUIT WARNING IN PARAMETR\n ============== VARIABLE4 BROUGHT BACK INSIDE LIMITS.\n     5 B_4          3.27330e-01  1.45156e-02    0.00000e+00  1.00000e+00\n     6 S            3.05334e+04  1.99912e+02    4.00000e+00  9.00000e+05\n     7 S1_mean      5.27854e+00  1.25983e-04    5.17963e+00  5.37963e+00\n     8 S1_sigma     1.70754e-02  1.16637e-04    1.00000e-03  5.00000e-02\n     9 S2_frac      2.00000e-01  1.00000e-01    0.00000e+00  1.00000e+00\n    10 S2_sigma     4.08832e-02  8.98308e-04    7.00000e-03  8.00000e-02\n **********\n **    3 **SET ERR         0.5\n **********\n **********\n **    4 **SET PRINT           1\n **********\n **********\n **    5 **SET STR           1\n **********\n NOW USING STRATEGY  1: TRY TO BALANCE SPEED AGAINST RELIABILITY\n **********\n **    6 **MIGRAD        5000           1\n **********\n FIRST CALL TO USER FUNCTION AT NEW START POINT, WITH IFLAG=4.\n MINUIT WARNING IN MIGrad    \n ============== VARIABLE3 IS AT ITS LOWER ALLOWED LIMIT.\n MINUIT WARNING IN MIGrad    \n ============== VARIABLE4 IS AT ITS LOWER ALLOWED LIMIT.\n START MIGRAD MINIMIZATION.  STRATEGY  1.  CONVERGENCE WHEN EDM .LT. 1.00e-03\n FCN=-411776 FROM MIGRAD    STATUS=INITIATE       32 CALLS          33 TOTAL\n                     EDM= unknown      STRATEGY= 1      NO ERROR MATRIX       \n  EXT PARAMETER               CURRENT GUESS       STEP         FIRST   \n  NO.   NAME      VALUE            ERROR          SIZE      DERIVATIVE \n   1  B            5.52251e+03   1.22290e+02   5.48617e-05  -1.17797e+01\n   2  B_1          6.49096e-01   1.11777e-02   2.34236e-02  -2.28350e-02\n   3  B_2          9.53674e-07   1.15965e-03   3.30977e-02   2.04851e-01\n   4  B_3          9.53674e-07   1.15965e-03   3.30977e-02   7.02586e-02\n   5  B_4          3.27330e-01   1.45156e-02   3.09413e-02   3.63629e-01\n   6  S            3.05334e+04   1.99912e+02   1.22703e-03  -2.77545e-01\n   7  S1_mean      5.27854e+00   1.25983e-04   1.25990e-03   1.09825e-01\n   8  S1_sigma     1.70754e-02   1.16637e-04   5.06989e-03  -9.02883e-02\n   9  S2_frac      2.00000e-01   1.00000e-01   2.57889e-01  -2.70750e+02\n  10  S2_sigma     4.08832e-02   8.98308e-04   2.46772e-02  -6.70237e-02\n                               ERR DEF= 0.5\n MIGRAD MINIMIZATION HAS CONVERGED.\n MIGRAD WILL VERIFY CONVERGENCE AND ERROR MATRIX.\n EIGENVALUES OF SECOND-DERIVATIVE MATRIX:\n        -5.1096e-03  5.6435e-02  5.0921e-01  6.0801e-01  9.2509e-01  9.6599e-01  1.0133e+00  1.1384e+00  2.2625e+00  2.5262e+00\n MINUIT WARNING IN HESSE   \n ============== MATRIX FORCED POS-DEF BY ADDING 0.007636 TO DIAGONAL.\n FCN=-411828 FROM HESSE     STATUS=NOT POSDEF    102 CALLS         396 TOTAL\n                     EDM=0.00108259    STRATEGY= 1      ERR MATRIX NOT POS-DEF\n  EXT PARAMETER                APPROXIMATE        STEP         FIRST   \n  NO.   NAME      VALUE            ERROR          SIZE      DERIVATIVE \n   1  B            5.64822e+03   3.23905e+02   1.72624e-05  -9.94723e+00\n   2  B_1          6.42054e-01   5.40469e-02   3.94955e-03  -2.27166e-01\n   3  B_2          7.03971e-11   2.44943e-03   4.22696e-02** at limit **\n   4  B_3          4.08768e-07   9.58576e-03   6.98168e-02  -3.31873e-02\n   5  B_4          3.35189e-01   7.07440e-02   5.09444e-03  -4.75270e-01\n   6  S            3.04071e+04   3.59272e+02   4.87509e-04  -3.77597e+00\n   7  S1_mean      5.27853e+00   1.57616e-04   5.46142e-04  -9.79123e-01\n   8  S1_sigma     1.46663e-02   3.98091e-04   2.59313e-03   7.48941e-03\n   9  S2_frac      3.94338e-01   3.32396e-02   6.21788e-03   1.32642e-01\n  10  S2_sigma     3.18604e-02   1.92657e-03   4.27177e-03   2.83143e-01\n                               ERR DEF= 0.5\n MIGRAD FAILS TO FIND IMPROVEMENT\n MIGRAD MINIMIZATION HAS CONVERGED.\n MIGRAD WILL VERIFY CONVERGENCE AND ERROR MATRIX.\n EIGENVALUES OF SECOND-DERIVATIVE MATRIX:\n        -5.2472e-03  5.6405e-02  4.7577e-01  6.0462e-01  9.2461e-01  9.6591e-01  1.0133e+00  1.1384e+00  2.2629e+00  2.5633e+00\n MINUIT WARNING IN HESSE   \n ============== MATRIX FORCED POS-DEF BY ADDING 0.007810 TO DIAGONAL.\n FCN=-411828 FROM MIGRAD    STATUS=CONVERGED     605 CALLS         606 TOTAL\n                     EDM=7.83431e-05    STRATEGY= 1      ERR MATRIX NOT POS-DEF\n  EXT PARAMETER                APPROXIMATE        STEP         FIRST   \n  NO.   NAME      VALUE            ERROR          SIZE      DERIVATIVE \n   1  B            5.64878e+03   3.21351e+02   1.72625e-05   1.77743e+01\n   2  B_1          6.41982e-01   5.36395e-02   3.95048e-03  -3.67496e-01\n   3  B_2          1.59601e-09   2.44997e-03   4.25066e-02** at limit **\n   4  B_3          2.17386e-08   9.97977e-03   7.19112e-02** at limit **\n   5  B_4          3.35286e-01   7.02949e-02   5.09633e-03  -3.45816e-01\n   6  S            3.04073e+04   3.56966e+02   4.87515e-04   3.04516e-01\n   7  S1_mean      5.27853e+00   1.57184e-04   5.46139e-04   1.65716e-01\n   8  S1_sigma     1.46661e-02   3.95223e-04   2.59307e-03  -1.43571e-02\n   9  S2_frac      3.94361e-01   3.29799e-02   6.21822e-03  -2.93911e-02\n  10  S2_sigma     3.18573e-02   1.90929e-03   4.27192e-03  -4.23924e-02\n                               ERR DEF= 0.5\n EXTERNAL ERROR MATRIX.    NDIM=  25    NPAR= 10    ERR DEF=0.5\n  1.033e+05 -1.642e+01  1.707e-04 -7.684e-04  2.155e+01 -9.744e+04 -2.996e-02 -9.202e-02  8.128e+00 -5.619e-01 \n -1.642e+01  2.889e-03 -3.120e-08  1.429e-07 -3.773e-03  1.638e+01  5.266e-06  1.537e-05 -1.354e-03  9.389e-05 \n  1.707e-04 -3.120e-08  1.565e-11 -1.369e-12  3.582e-08 -1.703e-04 -4.834e-11 -1.550e-10  1.359e-08 -9.552e-10 \n -7.684e-04  1.429e-07 -1.369e-12  8.707e-10 -3.119e-07  7.671e-04  3.711e-10  9.081e-10 -8.333e-08  5.298e-09 \n  2.155e+01 -3.773e-03  3.582e-08 -3.119e-07  4.978e-03 -2.151e+01 -6.908e-06 -2.017e-05  1.778e-03 -1.233e-04 \n -9.744e+04  1.638e+01 -1.703e-04  7.671e-04 -2.151e+01  1.274e+05  2.989e-02  9.184e-02 -8.112e+00  5.608e-01 \n -2.996e-02  5.266e-06 -4.834e-11  3.711e-10 -6.908e-06  2.989e-02  2.471e-08  2.828e-08 -2.450e-06  1.701e-07 \n -9.202e-02  1.537e-05 -1.550e-10  9.081e-10 -2.017e-05  9.184e-02  2.828e-08  1.562e-07 -1.231e-05  6.520e-07 \n  8.128e+00 -1.354e-03  1.359e-08 -8.333e-08  1.778e-03 -8.112e+00 -2.450e-06 -1.231e-05  1.089e-03 -5.842e-05 \n -5.619e-01  9.389e-05 -9.552e-10  5.298e-09 -1.233e-04  5.608e-01  1.701e-07  6.520e-07 -5.842e-05  3.649e-06 \nERR MATRIX NOT POS-DEF\n PARAMETER  CORRELATION COEFFICIENTS  \n       NO.  GLOBAL      1      2      3      4      5      6      7      8      9     10\n        1  0.96223   1.000 -0.950  0.134 -0.081  0.951 -0.849 -0.593 -0.725  0.766 -0.915\n        2  0.99686  -0.950  1.000 -0.147  0.090 -0.995  0.854  0.623  0.723 -0.763  0.914\n        3  0.26412   0.134 -0.147  1.000 -0.012  0.128 -0.121 -0.078 -0.099  0.104 -0.126\n        4  0.62396  -0.081  0.090 -0.012  1.000 -0.150  0.073  0.080  0.078 -0.086  0.094\n        5  0.99706   0.951 -0.995  0.128 -0.150  1.000 -0.854 -0.623 -0.723  0.764 -0.915\n        6  0.86650  -0.849  0.854 -0.121  0.073 -0.854  1.000  0.533  0.651 -0.689  0.822\n        7  0.62456  -0.593  0.623 -0.078  0.080 -0.623  0.533  1.000  0.455 -0.472  0.566\n        8  0.94603  -0.725  0.723 -0.099  0.078 -0.723  0.651  0.455  1.000 -0.944  0.864\n        9  0.97835   0.766 -0.763  0.104 -0.086  0.764 -0.689 -0.472 -0.944  1.000 -0.927\n       10  0.98476  -0.915  0.914 -0.126  0.094 -0.915  0.822  0.566  0.864 -0.927  1.000\n ERR MATRIX NOT POS-DEF\n **********\n **    7 **HESSE        5000\n **********\n COVARIANCE MATRIX CALCULATED SUCCESSFULLY\n FCN=-411828 FROM HESSE     STATUS=OK             98 CALLS         704 TOTAL\n                     EDM=1.74261e-05    STRATEGY= 1      ERROR MATRIX ACCURATE \n  EXT PARAMETER                                INTERNAL      INTERNAL  \n  NO.   NAME      VALUE            ERROR       STEP SIZE       VALUE   \n   1  B            5.64878e+03   1.16371e+02   6.90501e-07  -1.56579e+00\n   2  B_1          6.41982e-01   1.05383e-02   1.58019e-04   2.87926e-01\n   3  B_2          1.59601e-09   4.57929e-04   5.00000e-01  -1.57088e+00\n                                 WARNING -   - ABOVE PARAMETER IS AT LIMIT.\n   4  B_3          2.17386e-08   4.57929e-04   5.00000e-01  -1.57109e+00\n                                 WARNING -   - ABOVE PARAMETER IS AT LIMIT.\n   5  B_4          3.35286e-01   1.37933e-02   2.03853e-04  -3.35699e-01\n   6  S            3.04073e+04   1.95706e+02   1.95006e-05  -1.20110e+00\n   7  S1_mean      5.27853e+00   1.24761e-04   1.09228e-04  -1.10043e-02\n   8  S1_sigma     1.46661e-02   3.05900e-04   1.03723e-04  -4.58048e-01\n   9  S2_frac      3.94361e-01   2.40468e-02   2.48729e-04  -2.12883e-01\n  10  S2_sigma     3.18573e-02   9.03388e-04   1.70877e-04  -3.24652e-01\n                               ERR DEF= 0.5\n EXTERNAL ERROR MATRIX.    NDIM=  25    NPAR= 10    ERR DEF=0.5\n  1.354e+04 -6.055e-01 -6.667e-08 -2.460e-07  8.499e-01 -7.893e+03 -1.126e-03 -9.685e-03  8.571e-01 -5.250e-02 \n -6.055e-01  1.111e-04  2.889e-11  1.066e-10 -1.328e-04  6.055e-01  1.989e-07  6.900e-07 -6.001e-05  3.762e-06 \n -6.667e-08  2.889e-11  2.924e-12  5.396e-12 -3.056e-11  5.449e-07  1.258e-12  7.959e-13 -4.791e-11  2.352e-12 \n -2.460e-07  1.066e-10  5.396e-12  3.983e-11 -1.128e-10  2.011e-06  4.641e-12  2.937e-12 -1.768e-10  8.681e-12 \n  8.499e-01 -1.328e-04 -3.056e-11 -1.128e-10  1.903e-04 -8.499e-01 -2.512e-07 -9.305e-07  8.054e-05 -5.135e-06 \n -7.893e+03  6.055e-01  5.449e-07  2.011e-06 -8.499e-01  3.830e+04  1.127e-03  9.685e-03 -8.571e-01  5.250e-02 \n -1.126e-03  1.989e-07  1.258e-12  4.641e-12 -2.512e-07  1.127e-03  1.557e-08  1.480e-09 -8.715e-08  5.585e-09 \n -9.685e-03  6.900e-07  7.959e-13  2.937e-12 -9.305e-07  9.685e-03  1.480e-09  9.358e-08 -6.645e-06  2.122e-07 \n  8.571e-01 -6.001e-05 -4.791e-11 -1.768e-10  8.054e-05 -8.571e-01 -8.715e-08 -6.645e-06  5.787e-04 -1.930e-05 \n -5.250e-02  3.762e-06  2.352e-12  8.681e-12 -5.135e-06  5.250e-02  5.585e-09  2.122e-07 -1.930e-05  8.163e-07 \n PARAMETER  CORRELATION COEFFICIENTS  \n       NO.  GLOBAL      1      2      3      4      5      6      7      8      9     10\n        1  0.65606   1.000 -0.494 -0.000 -0.000  0.529 -0.347 -0.078 -0.272  0.306 -0.499\n        2  0.91401  -0.494  1.000  0.002  0.002 -0.914  0.294  0.151  0.214 -0.237  0.395\n        3  0.50003  -0.000  0.002  1.000  0.500 -0.001  0.002  0.006  0.002 -0.001  0.002\n        4  0.50003  -0.000  0.002  0.500  1.000 -0.001  0.002  0.006  0.002 -0.001  0.002\n        5  0.91913   0.529 -0.914 -0.001 -0.001  1.000 -0.315 -0.146 -0.220  0.243 -0.412\n        6  0.40565  -0.347  0.294  0.002  0.002 -0.315  1.000  0.046  0.162 -0.182  0.297\n        7  0.15593  -0.078  0.151  0.006  0.006 -0.146  0.046  1.000  0.039 -0.029  0.050\n        8  0.90737  -0.272  0.214  0.002  0.002 -0.220  0.162  0.039  1.000 -0.903  0.768\n        9  0.95851   0.306 -0.237 -0.001 -0.001  0.243 -0.182 -0.029 -0.903  1.000 -0.888\n       10  0.92939  -0.499  0.395  0.002  0.002 -0.412  0.297  0.050  0.768 -0.888  1.000\n **********\n **    8 **SET ERR         0.5\n **********\n **********\n **    9 **SET PRINT           1\n **********\n **********\n **   10 **HESSE        5000\n **********\n COVARIANCE MATRIX CALCULATED SUCCESSFULLY\n FCN=-411828 FROM HESSE     STATUS=OK             98 CALLS         802 TOTAL\n                     EDM=1.73786e-05    STRATEGY= 1      ERROR MATRIX ACCURATE \n  EXT PARAMETER                                INTERNAL      INTERNAL  \n  NO.   NAME      VALUE            ERROR       STEP SIZE       VALUE   \n   1  B            5.64878e+03   1.15871e+02   3.73313e-07  -1.56579e+00\n   2  B_1          6.41982e-01   1.03783e-02   3.16038e-05   2.87926e-01\n   3  B_2          1.59601e-09   4.57912e-04   5.00000e-01  -1.57088e+00\n                                 WARNING -   - ABOVE PARAMETER IS AT LIMIT.\n   4  B_3          2.17386e-08   4.57911e-04   5.00000e-01  -1.57109e+00\n                                 WARNING -   - ABOVE PARAMETER IS AT LIMIT.\n   5  B_4          3.35286e-01   1.35840e-02   4.07706e-05  -3.35699e-01\n   6  S            3.04073e+04   1.95408e+02   3.90012e-06  -1.20110e+00\n   7  S1_mean      5.27853e+00   1.24712e-04   2.18456e-05  -1.10043e-02\n   8  S1_sigma     1.46661e-02   3.05960e-04   2.07446e-05  -4.58048e-01\n   9  S2_frac      3.94361e-01   2.40409e-02   4.97457e-05  -2.12883e-01\n  10  S2_sigma     3.18573e-02   9.01172e-04   3.41754e-05  -3.24652e-01\n                               ERR DEF= 0.5\n EXTERNAL ERROR MATRIX.    NDIM=  25    NPAR= 10    ERR DEF=0.5\n  1.343e+04 -5.857e-01  8.052e-08  2.972e-07  8.241e-01 -7.777e+03 -1.090e-03 -9.563e-03  8.461e-01 -5.179e-02 \n -5.857e-01  1.077e-04  2.438e-12  8.998e-12 -1.284e-04  5.857e-01  1.928e-07  6.684e-07 -5.812e-05  3.641e-06 \n  8.052e-08  2.438e-12  2.924e-12  5.395e-12 -5.042e-12  7.559e-08  2.513e-13  1.169e-13 -5.720e-12  1.775e-13 \n  2.972e-07  8.998e-12  5.395e-12  3.982e-11 -1.861e-11  2.790e-07  9.274e-13  4.316e-13 -2.111e-11  6.550e-13 \n  8.241e-01 -1.284e-04 -5.042e-12 -1.861e-11  1.846e-04 -8.241e-01 -2.431e-07 -9.023e-07  7.806e-05 -4.977e-06 \n -7.777e+03  5.857e-01  7.559e-08  2.790e-07 -8.241e-01  3.818e+04  1.090e-03  9.562e-03 -8.461e-01  5.179e-02 \n -1.090e-03  1.928e-07  2.513e-13  9.274e-13 -2.431e-07  1.090e-03  1.555e-08  1.436e-09 -8.372e-08  5.362e-09 \n -9.563e-03  6.684e-07  1.169e-13  4.316e-13 -9.023e-07  9.562e-03  1.436e-09  9.362e-08 -6.645e-06  2.117e-07 \n  8.461e-01 -5.812e-05 -5.720e-12 -2.111e-11  7.806e-05 -8.461e-01 -8.372e-08 -6.645e-06  5.784e-04 -1.925e-05 \n -5.179e-02  3.641e-06  1.775e-13  6.550e-13 -4.977e-06  5.179e-02  5.362e-09  2.117e-07 -1.925e-05  8.123e-07 \n PARAMETER  CORRELATION COEFFICIENTS  \n       NO.  GLOBAL      1      2      3      4      5      6      7      8      9     10\n        1  0.65230   1.000 -0.487  0.000  0.000  0.524 -0.343 -0.075 -0.270  0.304 -0.496\n        2  0.91121  -0.487  1.000  0.000  0.000 -0.911  0.289  0.149  0.210 -0.233  0.389\n        3  0.50000   0.000  0.000  1.000  0.500 -0.000  0.000  0.001  0.000 -0.000  0.000\n        4  0.50000   0.000  0.000  0.500  1.000 -0.000  0.000  0.001  0.000 -0.000  0.000\n        5  0.91650   0.524 -0.911 -0.000 -0.000  1.000 -0.310 -0.143 -0.217  0.239 -0.406\n        6  0.40250  -0.343  0.289  0.000  0.000 -0.310  1.000  0.045  0.160 -0.180  0.294\n        7  0.15345  -0.075  0.149  0.001  0.001 -0.143  0.045  1.000  0.038 -0.028  0.048\n        8  0.90741  -0.270  0.210  0.000  0.000 -0.217  0.160  0.038  1.000 -0.903  0.768\n        9  0.95849   0.304 -0.233 -0.000 -0.000  0.239 -0.180 -0.028 -0.903  1.000 -0.888\n       10  0.92903  -0.496  0.389  0.000  0.000 -0.406  0.294  0.048  0.768 -0.888  1.000\n"
     ]
    },
    {
     "name": "stderr",
     "output_type": "stream",
     "text": [
      "Warning in <TCanvas::Constructor>: Deleting canvas with same name: cB\nInfo in <TCanvas::Print>: png file ../pictures/Pic_mass_bin_1.png has been created\nError in <TMath::NormQuantile>: probability outside (0, 1)\nWarning in <TCanvas::Constructor>: Deleting canvas with same name: cB\nInfo in <TCanvas::Print>: png file ../pictures/Pic_mass_bin_2.png has been created\nWarning in <TCanvas::Constructor>: Deleting canvas with same name: cB\nInfo in <TCanvas::Print>: png file ../pictures/Pic_mass_bin_3.png has been created\nError in <TMath::NormQuantile>: probability outside (0, 1)\nWarning in <TCanvas::Constructor>: Deleting canvas with same name: cB\nInfo in <TCanvas::Print>: png file ../pictures/Pic_mass_bin_4.png has been created\nWarning in <TCanvas::Constructor>: Deleting canvas with same name: cB\nInfo in <TCanvas::Print>: png file ../pictures/Pic_mass_bin_5.png has been created\nWarning in <TCanvas::Constructor>: Deleting canvas with same name: cB\nInfo in <TCanvas::Print>: png file ../pictures/Pic_mass_bin_6.png has been created\nWarning in <TCanvas::Constructor>: Deleting canvas with same name: cB\nInfo in <TCanvas::Print>: png file ../pictures/Pic_mass_bin_7.png has been created\n"
     ]
    }
   ],
   "source": [
    "for i in range(1, 8):\n",
    "    pname = 'Pic_mass_bin_' + str(i) + '.png'\n",
    "\n",
    "    histname = \"hBmas\" + str(i)\n",
    "\n",
    "    mbmin = 5.10\n",
    "    mbmax = 5.46\n",
    "    mbNbins = 150  # range of plot + N(bins)\n",
    "\n",
    "    varname = \"M(B) , [GeV]\"\n",
    "    TwoGaus = 1\n",
    "\n",
    "    canvW = 1000\n",
    "    canvH = 600\n",
    "    _PicName = '../pictures/' + pname  # name of file with picture\n",
    "\n",
    "    fit_M0 = 5.27963\n",
    "    fit_Sigma0 = 0.015\n",
    "    fit_N0 = 80000\n",
    "\n",
    "    mb = ROOT.RooRealVar(\"mb\", varname, mbmin, mbmax)\n",
    "\n",
    "    exec('hh = f.%s.Clone();' % histname)\n",
    "    hh.SetName('hh')\n",
    "\n",
    "    datahist = ROOT.RooDataHist('datahist', 'datahist', ROOT.RooArgList(mb), hh)  ## create RooHist from histogram\n",
    "\n",
    "    ###                                          initial  lower   upper\n",
    "    ###                                          values   bound   bound\n",
    "\n",
    "    S1 = ROOT.RooRealVar(\"S1\", \"Signal\", fit_N0, 1, 900000)\n",
    "    S1_mean = ROOT.RooRealVar(\"S1_mean\", \"mean \", fit_M0, fit_M0 - 0.1, fit_M0 + 0.1)\n",
    "    S1_sigma = ROOT.RooRealVar(\"S1_sigma\", \"sigma\", fit_Sigma0, 0.001, 0.05)\n",
    "\n",
    "    B = ROOT.RooRealVar(\"B\", \"B\", 40000, 1, 900000000)\n",
    "    B_c = ROOT.RooRealVar(\"B_c\", \"B_c \", -2.3, -20, 100)\n",
    "    B_1 = ROOT.RooRealVar(\"B_1\", \"B_1 \", 0.1, 0.0, 1.0)\n",
    "    B_2 = ROOT.RooRealVar(\"B_2\", \"B_2 \", 0.1, 0.0, 1.0)\n",
    "    B_3 = ROOT.RooRealVar(\"B_3\", \"B_3 \", 0.1, 0.0, 1.0)\n",
    "    B_4 = ROOT.RooRealVar(\"B_4\", \"B_4 \", 0.1, 0.0, 1.0)\n",
    "    BX1 = ROOT.RooFormulaVar(\"BX1\", \"BX1\", '1.0 - @0', ROOT.RooArgList(B_1))\n",
    "    BX2 = ROOT.RooFormulaVar(\"BX2\", \"BX2\", '1.0 - @0 -@1', ROOT.RooArgList(B_1, B_2))\n",
    "    BX3 = ROOT.RooFormulaVar(\"BX3\", \"BX3\", '1.0 - @0 -@1 -@2', ROOT.RooArgList(B_1, B_2, B_3))\n",
    "    BX4 = ROOT.RooFormulaVar(\"BX4\", \"BX4\", '1.0 - @0 -@1 -@2 -@3', ROOT.RooArgList(B_1, B_2, B_3, B_4))\n",
    "\n",
    "    if TwoGaus:\n",
    "        S = ROOT.RooRealVar(\"S\", \"Signal\", fit_N0, 4, 900000)\n",
    "        S2_frac = ROOT.RooRealVar(\"S2_frac\", \"frac\", 0.2, 0., 1.0)\n",
    "        S1 = ROOT.RooFormulaVar(\"S1\", \"Signal\", 'S * (1.0 - S2_frac)', ROOT.RooArgList(S, S2_frac))\n",
    "        S2 = ROOT.RooFormulaVar(\"S2\", \"Signal\", 'S * S2_frac', ROOT.RooArgList(S, S2_frac))\n",
    "        S2_sigma = ROOT.RooRealVar(\"S2_sigma\", \"sigma\", fit_Sigma0 * 1.5, 0.007, 0.08)\n",
    "        pdfS2 = ROOT.RooGaussian(\"pdfS2\", \"gaus\", mb, S1_mean, S2_sigma)\n",
    "\n",
    "    pdfS1 = ROOT.RooGaussian(\"pdfS1\", \"gaus\", mb, S1_mean, S1_sigma)\n",
    "\n",
    "    # pdfB    = RooExponential(\"pdfB\" , \"pdfB\"    , mb    , B_c)\n",
    "    # pdfB    = RooBernstein(\"pdfB\" , \"pdfB\"    , mb, RooArgList(B_1, BX1)) ## 1st order\n",
    "    # pdfB    = RooBernstein(\"pdfB\" , \"pdfB\"    , mb, RooArgList(B_1, B_2, BX2)) ## 2nd order\n",
    "    # pdfB    = ROOT.RooBernstein(\"pdfB\" , \"pdfB\"    , mb, ROOT.RooArgList(B_1, B_2, B_3, BX3)) ## 3rd order\n",
    "    pdfB = ROOT.RooBernstein(\"pdfB\", \"pdfB\", mb, ROOT.RooArgList(B_1, B_2, B_3, B_4, BX4))  # 4rd order\n",
    "\n",
    "    alist1 = ROOT.RooArgList(pdfS1, pdfB);\n",
    "    alist2 = ROOT.RooArgList(S1, B);\n",
    "\n",
    "    if TwoGaus:\n",
    "        alist1 = ROOT.RooArgList(pdfS1, pdfS2, pdfB);\n",
    "        alist2 = ROOT.RooArgList(S1, S2, B);\n",
    "\n",
    "    pdfSum = ROOT.RooAddPdf(\"model\", \"model\", alist1, alist2)\n",
    "\n",
    "    # FIX Mass and Sigma\n",
    "    # S1_mean.setConstant(True)\n",
    "    # S1_sigma.setConstant(True)\n",
    "    if TwoGaus: S2_frac.setConstant(True)\n",
    "    if TwoGaus: S2_sigma.setConstant(True)\n",
    "\n",
    "    rrr = pdfSum.fitTo(datahist, ROOT.RooFit.NumCPU(4), ROOT.RooFit.PrintLevel(-1), ROOT.RooFit.Save())\n",
    "    # S1_sigma.setConstant(False)\n",
    "    if TwoGaus: S2_sigma.setConstant(False)\n",
    "\n",
    "    rrr = pdfSum.fitTo(datahist, ROOT.RooFit.NumCPU(4), ROOT.RooFit.PrintLevel(-1), ROOT.RooFit.Save())\n",
    "    # S1_mean.setConstant(False)\n",
    "    rrr = pdfSum.fitTo(datahist, ROOT.RooFit.NumCPU(4), ROOT.RooFit.PrintLevel(-1), ROOT.RooFit.Save())\n",
    "    if TwoGaus: S2_frac.setConstant(False)\n",
    "    rrr = pdfSum.fitTo(datahist, ROOT.RooFit.Save())\n",
    "\n",
    "    cB = ROOT.TCanvas(\"cB\", \"cB\", canvW, canvH)\n",
    "    mframe = 0\n",
    "    mframe = mb.frame(mbNbins)\n",
    "    datahist.plotOn(mframe, ROOT.RooFit.MarkerSize(0.6))\n",
    "    pdfSum.plotOn(mframe, ROOT.RooFit.Components('pdfB'), ROOT.RooFit.LineColor(ROOT.kBlue),\n",
    "                  ROOT.RooFit.LineStyle(ROOT.kDashed), ROOT.RooFit.LineWidth(2))\n",
    "    pdfSum.plotOn(mframe, ROOT.RooFit.Components('pdfS1'), ROOT.RooFit.LineColor(ROOT.kGreen), ROOT.RooFit.LineWidth(1))\n",
    "\n",
    "    # if TwoGaus : pdfSum.plotOn(mframe, ROOT.RooFit().Components('pdfS2'), ROOT.RooFit().LineColor(kGreen), ROOT.RooFit().LineWidth(1))\n",
    "\n",
    "    pdfSum.plotOn(mframe, ROOT.RooFit.LineColor(ROOT.kRed))\n",
    "    pdfSum.paramOn(mframe, ROOT.RooFit.Layout(0.57, 0.98, 0.94))\n",
    "    datahist.plotOn(mframe, ROOT.RooFit.MarkerSize(0.6))\n",
    "    mframe.SetTitle(_PicName)\n",
    "    mframe.Draw()\n",
    "    # L1=TLine(3.706, 0, 3.706, 300)\n",
    "    # L2=TLine(3.666, 0, 3.666, 300)\n",
    "    # L1.Draw(\"same\")\n",
    "    # L2.Draw(\"same\")\n",
    "\n",
    "    cB.SaveAs(_PicName)\n",
    "\n",
    "    rrr.Print()\n",
    "\n",
    "    LS = rrr.minNll()\n",
    "\n",
    "    S1_sigma.setConstant(True)\n",
    "    S1_mean.setConstant(True)\n",
    "\n",
    "    if TwoGaus:\n",
    "        S2_sigma.setConstant(True)\n",
    "    # S1.setVal(0)\n",
    "    # S1.setConstant(True)\n",
    "\n",
    "    rrr = pdfSum.fitTo(datahist, ROOT.RooFit.NumCPU(4), ROOT.RooFit.PrintLevel(-1), ROOT.RooFit.Save())\n",
    "    # rrr = pdfSum.fitTo( datahist, RooFit.NumCPU(4), RooFit.PrintLevel(-1), RooFit.Save())\n",
    "    # rrr = pdfSum.fitTo( datahist, RooFit.NumCPU(4), RooFit.PrintLevel(-1), RooFit.Save())\n",
    "\n",
    "    L0 = rrr.minNll()\n",
    "\n",
    "    prob = ROOT.TMath.Prob(L0 - LS, 1)\n",
    "    print('Signif =', ROOT.TMath.ErfcInverse(prob) * sqrt(2.))\n",
    "\n",
    "    signals.append(int(S.getValV()))\n",
    "    signals_err.append(int(S.getError()))\n",
    "    # print('\\n\\n\\n\\n\\n\\n   S1 = ' + str(S.getValV()) + '\\n\\n\\n\\n\\n\\n')\n",
    "\n",
    "    # END\n"
   ]
  },
  {
   "cell_type": "code",
   "execution_count": 49,
   "metadata": {},
   "outputs": [
    {
     "data": {
      "text/plain": [
       "(array('d', [112445.0, 112257.0, 103334.0, 81604.0, 61906.0, 44514.0, 30407.0]),\n array('d', [174.0, 175.0, 156.0, 303.0, 263.0, 224.0, 75.0]))"
      ]
     },
     "execution_count": 49,
     "metadata": {},
     "output_type": "execute_result"
    }
   ],
   "source": [
    "signals, signals_err\n"
   ]
  },
  {
   "cell_type": "code",
   "execution_count": 40,
   "metadata": {},
   "outputs": [],
   "source": [
    "sign = array('d')\n",
    "\n",
    "for i in range(0, 7):\n",
    "    sign.append(signals[i] / signals_err[i])\n",
    "\n",
    "cuts = array('d')\n",
    "cuts.append(8)\n",
    "cuts.append(10)\n",
    "cuts.append(15)\n",
    "cuts.append(20)\n",
    "cuts.append(25)\n",
    "cuts.append(30)\n",
    "cuts.append(35)"
   ]
  },
  {
   "cell_type": "code",
   "execution_count": 41,
   "metadata": {},
   "outputs": [
    {
     "data": {
      "text/plain": [
       "(array('d', [1315.4285714285713, 1313.9880952380952, 962.2924528301887, 256.42088607594934, 222.77818181818182, 187.66666666666666, 154.30927835051546]),\n array('d', [8.0, 10.0, 15.0, 20.0, 25.0, 30.0, 35.0]))"
      ]
     },
     "execution_count": 41,
     "metadata": {},
     "output_type": "execute_result"
    }
   ],
   "source": [
    "sign, cuts"
   ]
  },
  {
   "cell_type": "code",
   "execution_count": 39,
   "metadata": {},
   "outputs": [
    {
     "data": {
      "text/plain": [
       "(43914.0, 234.0, 187.66666666666666)"
      ]
     },
     "execution_count": 39,
     "metadata": {},
     "output_type": "execute_result"
    }
   ],
   "source": [
    "signals[5], signals_err[5], signals[5] / signals_err[5]"
   ]
  },
  {
   "cell_type": "code",
   "execution_count": 42,
   "metadata": {},
   "outputs": [],
   "source": [
    "graph = ROOT.TGraph(7, cuts, sign)\n",
    "\n",
    "gf = ROOT.TFile(\"../data/graf.root\", \"recreate\")\n",
    "\n",
    "graph.Write()\n",
    "\n",
    "gf.Close()"
   ]
  },
  {
   "cell_type": "code",
   "execution_count": null,
   "metadata": {},
   "outputs": [],
   "source": []
  }
 ],
 "metadata": {
  "kernelspec": {
   "display_name": "Python 2",
   "language": "python",
   "name": "python2"
  },
  "language_info": {
   "codemirror_mode": {
    "name": "ipython",
    "version": 2
   },
   "file_extension": ".py",
   "mimetype": "text/x-python",
   "name": "python",
   "nbconvert_exporter": "python",
   "pygments_lexer": "ipython2",
   "version": "2.7.6"
  }
 },
 "nbformat": 4,
 "nbformat_minor": 0
}
