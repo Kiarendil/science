{
 "cells": [
  {
   "cell_type": "code",
   "execution_count": 1,
   "metadata": {},
   "outputs": [
    {
     "name": "stdout",
     "output_type": "stream",
     "text": [
      "/Users/kirillivanov/soft/pyroot/lib\n"
     ]
    },
    {
     "name": "stdout",
     "output_type": "stream",
     "text": [
      "Welcome to JupyROOT 6.12/06\n/Users/kirillivanov/Documents/ФОПФ+/База Данилов/ROOT/4 сем/code\n"
     ]
    }
   ],
   "source": [
    "%cd /Users/kirillivanov/soft/pyroot/lib/\n",
    "import ROOT\n",
    "%cd /Users/kirillivanov/Documents/ФОПФ+/База Данилов/ROOT/4 сем/code"
   ]
  },
  {
   "cell_type": "code",
   "execution_count": 2,
   "metadata": {},
   "outputs": [
    {
     "name": "stdout",
     "output_type": "stream",
     "text": [
      "Adding chain done 1 files \n"
     ]
    }
   ],
   "source": [
    "import glob\n",
    "\n",
    "ch = ROOT.TChain(\"mytree\")\n",
    "MyFileNames12 = glob.glob('../data/data.root')\n",
    "for fName in MyFileNames12:\n",
    "    ch.Add(fName)\n",
    "\n",
    "print(\"Adding chain done\", ch.GetNtrees(), 'files ')"
   ]
  },
  {
   "cell_type": "code",
   "execution_count": 3,
   "metadata": {},
   "outputs": [],
   "source": [
    "hBmas1 = ROOT.TH1F('hBmas1', 'B_mass', 150, 5.27963 - 0.19, 5.27963 + 0.18)\n",
    "hBmas2 = ROOT.TH1F('hBmas2', 'B_mass', 150, 5.27963 - 0.19, 5.27963 + 0.18)\n",
    "hBmas3 = ROOT.TH1F('hBmas3', 'B_mass', 150, 5.27963 - 0.19, 5.27963 + 0.18)\n",
    "hBmas4 = ROOT.TH1F('hBmas4', 'B_mass', 150, 5.27963 - 0.19, 5.27963 + 0.18)\n",
    "hBmas5 = ROOT.TH1F('hBmas5', 'B_mass', 150, 5.27963 - 0.19, 5.27963 + 0.18)"
   ]
  },
  {
   "cell_type": "code",
   "execution_count": 5,
   "metadata": {},
   "outputs": [
    {
     "data": {
      "text/plain": [
       "119648"
      ]
     },
     "execution_count": 5,
     "metadata": {},
     "output_type": "execute_result"
    },
    {
     "name": "stderr",
     "output_type": "stream",
     "text": [
      "Info in <TCanvas::MakeDefCanvas>:  created default TCanvas with name c1\n"
     ]
    }
   ],
   "source": [
    "cut_sign = 'B_pvdistsignif2_Cjp > 7'\n",
    "\n",
    "cut_cos = '&& B_pvcos2_Cjp > 0.9995'\n",
    "\n",
    "cut_bpt = []\n",
    "\n",
    "for i in\n",
    "\n",
    "cuts = []\n",
    "\n",
    "for cut in cut_cos:\n",
    "    cuts.append(cut_sign + cut)\n",
    "\n",
    "ch.Draw('B_mass_Cjp >> hBmas1', cuts[0])\n",
    "ch.Draw('B_mass_Cjp >> hBmas2', cuts[1])\n",
    "ch.Draw('B_mass_Cjp >> hBmas3', cuts[2])\n",
    "ch.Draw('B_mass_Cjp >> hBmas4', cuts[3])\n",
    "ch.Draw('B_mass_Cjp >> hBmas5', cuts[4])"
   ]
  },
  {
   "cell_type": "code",
   "execution_count": 6,
   "metadata": {},
   "outputs": [],
   "source": [
    "ff = ROOT.TFile(\"../data/B_cut_cos_test.root\", \"recreate\")\n",
    "\n",
    "hBmas1.Write()\n",
    "hBmas2.Write()\n",
    "hBmas3.Write()\n",
    "hBmas4.Write()\n",
    "hBmas5.Write()\n",
    "\n",
    "ff.Close()"
   ]
  },
  {
   "cell_type": "code",
   "execution_count": null,
   "metadata": {},
   "outputs": [],
   "source": []
  }
 ],
 "metadata": {
  "kernelspec": {
   "display_name": "Python 2",
   "language": "python",
   "name": "python2"
  },
  "language_info": {
   "codemirror_mode": {
    "name": "ipython",
    "version": 2
   },
   "file_extension": ".py",
   "mimetype": "text/x-python",
   "name": "python",
   "nbconvert_exporter": "python",
   "pygments_lexer": "ipython2",
   "version": "2.7.6"
  }
 },
 "nbformat": 4,
 "nbformat_minor": 0
}
