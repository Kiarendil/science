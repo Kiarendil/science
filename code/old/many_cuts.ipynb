{
 "cells": [
  {
   "cell_type": "heading",
   "metadata": {},
   "level": 2,
   "source": [
    "Importing and activation PyROOT"
   ]
  },
  {
   "cell_type": "code",
   "execution_count": 21,
   "metadata": {},
   "outputs": [
    {
     "name": "stdout",
     "output_type": "stream",
     "text": [
      "/Users/kirillivanov/soft/pyroot/lib\n/Users/kirillivanov/Documents/ФОПФ+/База Данилов/ROOT/4 сем/code\n"
     ]
    }
   ],
   "source": [
    "%cd /Users/kirillivanov/soft/pyroot/lib/\n",
    "import ROOT\n",
    "%cd /Users/kirillivanov/Documents/ФОПФ+/База Данилов/ROOT/4 сем/code"
   ]
  },
  {
   "cell_type": "code",
   "execution_count": 22,
   "metadata": {},
   "outputs": [],
   "source": [
    "import glob"
   ]
  },
  {
   "cell_type": "code",
   "execution_count": 23,
   "metadata": {},
   "outputs": [
    {
     "name": "stdout",
     "output_type": "stream",
     "text": [
      "Adding chain done 1 files \n"
     ]
    }
   ],
   "source": [
    "ch = ROOT.TChain(\"mytree\")\n",
    "MyFileNames12 = glob.glob('../data/data.root')\n",
    "for fName in MyFileNames12:\n",
    "    ch.Add(fName)\n",
    "\n",
    "print(\"Adding chain done\", ch.GetNtrees(), 'files ')"
   ]
  },
  {
   "cell_type": "code",
   "execution_count": 29,
   "metadata": {},
   "outputs": [
    {
     "name": "stderr",
     "output_type": "stream",
     "text": [
      "Warning in <TFile::Append>: Replacing existing TH1: hB_mass1 (Potential memory leak).\n"
     ]
    }
   ],
   "source": [
    "hBmas_single = ROOT.TH1F('hBmas', 'B_mass', 150, 5.27963 - 0.19, 5.27963 + 0.18)\n",
    "hB_mass = []\n",
    "for i in range(1, 6):\n",
    "    name = 'hB_mass' + str(i)\n",
    "    hB_mass.append(ROOT.TH1F(name, 'B_mass_Cjp', 150, 5.27963 - 0.15, 5.27963 + 0.18))"
   ]
  },
  {
   "cell_type": "code",
   "execution_count": 6,
   "metadata": {},
   "outputs": [
    {
     "data": {
      "text/plain": [
       "<ROOT.TH1F object (\"hBmas\") at 0x7fda78a61a10>"
      ]
     },
     "execution_count": 6,
     "metadata": {},
     "output_type": "execute_result"
    }
   ],
   "source": [
    "hBmas_single"
   ]
  },
  {
   "cell_type": "code",
   "execution_count": 8,
   "metadata": {},
   "outputs": [],
   "source": [
    "cut_sign = 'B_pvdistsignif2_Cjp > 3 '\n",
    "\n",
    "cut_cos = []\n",
    "\n",
    "# for i in range(0, 6):\n",
    "#     start = 0.01\n",
    "#     step = start / (5 * (i + 1))\n",
    "#     cut = '&& abs(B_pvcos2_Cjp - 1) < ' + str(start - step)\n",
    "#     cut_cos.append(cut)\n",
    "\n",
    "cut_cos.append('&& abs(B_pvcos2_Cjp - 1) < 0.01')\n",
    "cut_cos.append('&& abs(B_pvcos2_Cjp - 1) < 0.005')\n",
    "cut_cos.append('&& abs(B_pvcos2_Cjp - 1) < 0.001')\n",
    "cut_cos.append('&& abs(B_pvcos2_Cjp - 1) < 0.0005')\n",
    "cut_cos.append('&& abs(B_pvcos2_Cjp - 1) < 0.0001')"
   ]
  },
  {
   "cell_type": "code",
   "execution_count": 9,
   "metadata": {},
   "outputs": [],
   "source": [
    "cuts = []\n",
    "\n",
    "for cut in cut_cos:\n",
    "    cuts.append(cut_sign + cut)"
   ]
  },
  {
   "cell_type": "code",
   "execution_count": 30,
   "metadata": {},
   "outputs": [
    {
     "data": {
      "text/plain": [
       "[<ROOT.TH1F object (\"hB_mass1\") at 0x7fda78f18210>,\n <ROOT.TH1F object (\"hB_mass2\") at 0x7fda78f189b0>,\n <ROOT.TH1F object (\"hB_mass3\") at 0x7fda78f19000>,\n <ROOT.TH1F object (\"hB_mass4\") at 0x7fda78f19650>,\n <ROOT.TH1F object (\"hB_mass5\") at 0x7fda78f19ca0>]"
      ]
     },
     "execution_count": 30,
     "metadata": {},
     "output_type": "execute_result"
    }
   ],
   "source": [
    "hB_mass"
   ]
  },
  {
   "cell_type": "code",
   "execution_count": 32,
   "metadata": {},
   "outputs": [
    {
     "ename": "AttributeError",
     "evalue": "'PyROOT_NoneType' object has no attribute 'Write'",
     "traceback": [
      "\u001b[0;31m---------------------------------------------------------------------------\u001b[0m",
      "\u001b[0;31mAttributeError\u001b[0m                            Traceback (most recent call last)",
      "\u001b[0;32m<ipython-input-32-a2535a14a4dd>\u001b[0m in \u001b[0;36m<module>\u001b[0;34m()\u001b[0m\n\u001b[1;32m      3\u001b[0m     \u001b[0mhist\u001b[0m \u001b[0;34m=\u001b[0m \u001b[0;34m'hB_mass'\u001b[0m \u001b[0;34m+\u001b[0m \u001b[0mstr\u001b[0m\u001b[0;34m(\u001b[0m\u001b[0mi\u001b[0m \u001b[0;34m+\u001b[0m \u001b[0;36m1\u001b[0m\u001b[0;34m)\u001b[0m\u001b[0;34m\u001b[0m\u001b[0m\n\u001b[1;32m      4\u001b[0m     \u001b[0mch\u001b[0m\u001b[0;34m.\u001b[0m\u001b[0mDraw\u001b[0m\u001b[0;34m(\u001b[0m\u001b[0;34m'B_mass_Cjp >> '\u001b[0m \u001b[0;34m+\u001b[0m \u001b[0mhist\u001b[0m\u001b[0;34m,\u001b[0m \u001b[0mcuts\u001b[0m\u001b[0;34m[\u001b[0m\u001b[0mi\u001b[0m\u001b[0;34m]\u001b[0m\u001b[0;34m)\u001b[0m\u001b[0;34m\u001b[0m\u001b[0m\n\u001b[0;32m----> 5\u001b[0;31m     \u001b[0mhB_mass\u001b[0m\u001b[0;34m[\u001b[0m\u001b[0mi\u001b[0m\u001b[0;34m]\u001b[0m\u001b[0;34m.\u001b[0m\u001b[0mWrite\u001b[0m\u001b[0;34m(\u001b[0m\u001b[0;34m)\u001b[0m\u001b[0;34m\u001b[0m\u001b[0m\n\u001b[0m\u001b[1;32m      6\u001b[0m \u001b[0mff\u001b[0m\u001b[0;34m.\u001b[0m\u001b[0mClose\u001b[0m\u001b[0;34m(\u001b[0m\u001b[0;34m)\u001b[0m\u001b[0;34m\u001b[0m\u001b[0m\n",
      "\u001b[0;31mAttributeError\u001b[0m: 'PyROOT_NoneType' object has no attribute 'Write'"
     ],
     "output_type": "error"
    }
   ],
   "source": [
    "ff = ROOT.TFile(\"../data/B_cuts_many.root\", \"recreate\")\n",
    "for i in range(0, 4):\n",
    "    hist = 'hB_mass' + str(i + 1)\n",
    "    ch.Draw('B_mass_Cjp >> ' + hist, cuts[i])\n",
    "    hB_mass[i].Write()\n",
    "ff.Close()"
   ]
  },
  {
   "cell_type": "code",
   "execution_count": 33,
   "metadata": {},
   "outputs": [
    {
     "data": {
      "text/plain": [
       "[None, None, None, None, None]"
      ]
     },
     "execution_count": 33,
     "metadata": {},
     "output_type": "execute_result"
    }
   ],
   "source": [
    "hB_mass"
   ]
  },
  {
   "cell_type": "code",
   "execution_count": 15,
   "metadata": {
    "collapsed": true
   },
   "outputs": [
    {
     "ename": "AttributeError",
     "evalue": "'PyROOT_NoneType' object has no attribute 'Write'",
     "traceback": [
      "\u001b[0;31m---------------------------------------------------------------------------\u001b[0m",
      "\u001b[0;31mAttributeError\u001b[0m                            Traceback (most recent call last)",
      "\u001b[0;32m<ipython-input-15-d6d3125077d2>\u001b[0m in \u001b[0;36m<module>\u001b[0;34m()\u001b[0m\n\u001b[1;32m      1\u001b[0m \u001b[0;32mfor\u001b[0m \u001b[0mh\u001b[0m \u001b[0;32min\u001b[0m \u001b[0mhB_mass\u001b[0m\u001b[0;34m:\u001b[0m\u001b[0;34m\u001b[0m\u001b[0m\n\u001b[0;32m----> 2\u001b[0;31m     \u001b[0mh\u001b[0m\u001b[0;34m.\u001b[0m\u001b[0mWrite\u001b[0m\u001b[0;34m\u001b[0m\u001b[0m\n\u001b[0m\u001b[1;32m      3\u001b[0m \u001b[0;34m\u001b[0m\u001b[0m\n\u001b[1;32m      4\u001b[0m \u001b[0mff\u001b[0m\u001b[0;34m.\u001b[0m\u001b[0mClose\u001b[0m\u001b[0;34m(\u001b[0m\u001b[0;34m)\u001b[0m\u001b[0;34m\u001b[0m\u001b[0m\n",
      "\u001b[0;31mAttributeError\u001b[0m: 'PyROOT_NoneType' object has no attribute 'Write'"
     ],
     "output_type": "error"
    }
   ],
   "source": [
    "for h in hB_mass:\n",
    "    h.Write\n",
    "\n",
    "ff.Close()"
   ]
  },
  {
   "cell_type": "code",
   "execution_count": null,
   "metadata": {},
   "outputs": [],
   "source": []
  }
 ],
 "metadata": {
  "kernelspec": {
   "display_name": "Python 2",
   "language": "python",
   "name": "python2"
  },
  "language_info": {
   "codemirror_mode": {
    "name": "ipython",
    "version": 2
   },
   "file_extension": ".py",
   "mimetype": "text/x-python",
   "name": "python",
   "nbconvert_exporter": "python",
   "pygments_lexer": "ipython2",
   "version": "2.7.6"
  }
 },
 "nbformat": 4,
 "nbformat_minor": 0
}
