{
 "cells": [
  {
   "cell_type": "code",
   "execution_count": 50,
   "metadata": {},
   "outputs": [
    {
     "name": "stdout",
     "output_type": "stream",
     "text": [
      "/Users/kirillivanov/soft/pyroot/lib\n/Users/kirillivanov/Documents/ФОПФ+/База Данилов/ROOT/4 сем/code\n"
     ]
    }
   ],
   "source": [
    "%cd /Users/kirillivanov/soft/pyroot/lib/\n",
    "import ROOT\n",
    "%cd /Users/kirillivanov/Documents/ФОПФ+/База Данилов/ROOT/4 сем/code"
   ]
  },
  {
   "cell_type": "code",
   "execution_count": 51,
   "metadata": {},
   "outputs": [
    {
     "name": "stdout",
     "output_type": "stream",
     "text": [
      "Adding chain done 1 files \n"
     ]
    }
   ],
   "source": [
    "import glob\n",
    "\n",
    "ch = ROOT.TChain(\"mytree\")\n",
    "MyFileNames12 = glob.glob('../data/data.root')\n",
    "for fName in MyFileNames12:\n",
    "    ch.Add(fName)\n",
    "\n",
    "print(\"Adding chain done\", ch.GetNtrees(), 'files ')"
   ]
  },
  {
   "cell_type": "code",
   "execution_count": 53,
   "metadata": {},
   "outputs": [
    {
     "name": "stderr",
     "output_type": "stream",
     "text": [
      "Warning in <TFile::Append>: Replacing existing TH1: hBmas1 (Potential memory leak).\nWarning in <TFile::Append>: Replacing existing TH1: hBmas2 (Potential memory leak).\nWarning in <TFile::Append>: Replacing existing TH1: hBmas3 (Potential memory leak).\nWarning in <TFile::Append>: Replacing existing TH1: hBmas4 (Potential memory leak).\nWarning in <TFile::Append>: Replacing existing TH1: hBmas5 (Potential memory leak).\nWarning in <TFile::Append>: Replacing existing TH1: hBmas6 (Potential memory leak).\nWarning in <TFile::Append>: Replacing existing TH1: hBmas7 (Potential memory leak).\n"
     ]
    }
   ],
   "source": [
    "hBmas1 = ROOT.TH1F('hBmas1', 'B_mass', 150, 5.27963 - 0.179, 5.27963 + 0.18)\n",
    "hBmas2 = ROOT.TH1F('hBmas2', 'B_mass', 150, 5.27963 - 0.179, 5.27963 + 0.18)\n",
    "hBmas3 = ROOT.TH1F('hBmas3', 'B_mass', 150, 5.27963 - 0.179, 5.27963 + 0.18)\n",
    "hBmas4 = ROOT.TH1F('hBmas4', 'B_mass', 150, 5.27963 - 0.179, 5.27963 + 0.18)\n",
    "hBmas5 = ROOT.TH1F('hBmas5', 'B_mass', 150, 5.27963 - 0.179, 5.27963 + 0.18)\n",
    "hBmas6 = ROOT.TH1F('hBmas6', 'B_mass', 150, 5.27963 - 0.179, 5.27963 + 0.18)\n",
    "hBmas7 = ROOT.TH1F('hBmas7', 'B_mass', 150, 5.27963 - 0.179, 5.27963 + 0.18)"
   ]
  },
  {
   "cell_type": "code",
   "execution_count": 54,
   "metadata": {},
   "outputs": [],
   "source": [
    "cut_sign = 'B_pvdistsignif2_Cjp > 5'\n",
    "\n",
    "cut_cos = ' && B_pvcos2_Cjp > 0.9995'\n",
    "\n",
    "cut_bpt = [' && B_pt_Cjp > 8', ' && B_pt_Cjp > 10', ' && B_pt_Cjp > 15', ' && B_pt_Cjp > 20', ' && B_pt_Cjp > 25',\n",
    "           ' && B_pt_Cjp > 30', ' && B_pt_Cjp > 35']\n",
    "\n",
    "cuts = []\n",
    "\n",
    "for cut in cut_bpt:\n",
    "    cuts.append(cut_sign + cut_cos + cut)\n"
   ]
  },
  {
   "cell_type": "code",
   "execution_count": 56,
   "metadata": {},
   "outputs": [
    {
     "data": {
      "text/plain": [
       "37051"
      ]
     },
     "execution_count": 56,
     "metadata": {},
     "output_type": "execute_result"
    }
   ],
   "source": [
    "ch.Draw('B_mass_Cjp >> hBmas1', cuts[0])\n",
    "ch.Draw('B_mass_Cjp >> hBmas2', cuts[1])\n",
    "ch.Draw('B_mass_Cjp >> hBmas3', cuts[2])\n",
    "ch.Draw('B_mass_Cjp >> hBmas4', cuts[3])\n",
    "ch.Draw('B_mass_Cjp >> hBmas5', cuts[4])\n",
    "ch.Draw('B_mass_Cjp >> hBmas6', cuts[5])\n",
    "ch.Draw('B_mass_Cjp >> hBmas7', cuts[6])"
   ]
  },
  {
   "cell_type": "code",
   "execution_count": 58,
   "metadata": {},
   "outputs": [],
   "source": [
    "ff = ROOT.TFile(\"../data/B_cut_bpt.root\", \"recreate\")\n",
    "\n",
    "hBmas1.Write()\n",
    "hBmas2.Write()\n",
    "hBmas3.Write()\n",
    "hBmas4.Write()\n",
    "hBmas5.Write()\n",
    "hBmas6.Write()\n",
    "hBmas7.Write()\n",
    "\n",
    "ff.Close()"
   ]
  },
  {
   "cell_type": "code",
   "execution_count": 59,
   "metadata": {},
   "outputs": [],
   "source": [
    "from math import sqrt\n",
    "from array import array\n",
    "\n",
    "f = ROOT.TFile('../data/B_cut_bpt.root', 'read')  # file where to read from\n",
    "\n",
    "signals, signals_err = array('d'), array('d')"
   ]
  },
  {
   "cell_type": "code",
   "execution_count": 65,
   "metadata": {
    "collapsed": false
   },
   "outputs": [
    {
     "name": "stdout",
     "output_type": "stream",
     "text": [
      "Signif = 0.0033714673397768707\n"
     ]
    },
    {
     "name": "stdout",
     "output_type": "stream",
     "text": [
      "Signif = 0.004770440225112717\n"
     ]
    },
    {
     "name": "stdout",
     "output_type": "stream",
     "text": [
      "Signif = 0.004983787739696766\n"
     ]
    },
    {
     "name": "stdout",
     "output_type": "stream",
     "text": [
      "Signif = 0.007649296551584239\n"
     ]
    },
    {
     "name": "stdout",
     "output_type": "stream",
     "text": [
      "Signif = -0.0\n"
     ]
    },
    {
     "name": "stdout",
     "output_type": "stream",
     "text": [
      "Signif = 0.0027691023821402117\n"
     ]
    },
    {
     "name": "stdout",
     "output_type": "stream",
     "text": [
      "Signif = -0.0\n **********\n **    1 **SET PRINT           1\n **********\n **********\n **    2 **SET NOGRAD\n **********\n PARAMETER DEFINITIONS:\n    NO.   NAME         VALUE      STEP SIZE      LIMITS\n     1 B            2.31078e+04  4.42821e+02    1.00000e+00  9.00000e+08\n MINUIT WARNING IN PARAM DEF\n ============== LIMITS ON PARAM1 TOO FAR APART.\n PARAMETER DEFINITIONS:\n    NO.   NAME         VALUE      STEP SIZE      LIMITS\n     2 B_1          5.98484e-01  1.77500e-02    0.00000e+00  1.00000e+00\n     3 B_2          1.43253e-09  5.87282e-04    0.00000e+00  1.00000e+00\n MINUIT WARNING IN PARAMETR\n ============== VARIABLE3 IS AT ITS LOWER ALLOWED LIMIT.\n MINUIT WARNING IN PARAMETR\n ============== VARIABLE3 BROUGHT BACK INSIDE LIMITS.\n     4 B_3          2.23872e-04  7.05397e-01    0.00000e+00  1.00000e+00\n MINUIT WARNING IN PARAMETR\n ============== VARIABLE4 BROUGHT BACK INSIDE LIMITS.\n     5 B_4          3.36367e-01  2.92663e-02    0.00000e+00  1.00000e+00\n     6 S            1.13925e+05  4.76040e+02    4.00000e+00  9.00000e+05\n     7 S1_mean      5.27843e+00  5.21302e-05    5.17963e+00  5.37963e+00\n     8 S1_sigma     1.64897e-02  6.28676e-05    1.00000e-03  5.00000e-02\n     9 S2_frac      2.00000e-01  1.00000e-01    0.00000e+00  1.00000e+00\n    10 S2_sigma     4.02000e-02  4.06972e-04    7.00000e-03  8.00000e-02\n **********\n **    3 **SET ERR         0.5\n **********\n **********\n **    4 **SET PRINT           1\n **********\n **********\n **    5 **SET STR           1\n **********\n NOW USING STRATEGY  1: TRY TO BALANCE SPEED AGAINST RELIABILITY\n **********\n **    6 **MIGRAD        5000           1\n **********\n FIRST CALL TO USER FUNCTION AT NEW START POINT, WITH IFLAG=4.\n MINUIT WARNING IN MIGrad    \n ============== VARIABLE3 IS AT ITS LOWER ALLOWED LIMIT.\n START MIGRAD MINIMIZATION.  STRATEGY  1.  CONVERGENCE WHEN EDM .LT. 1.00e-03\n FCN=-1.74558e+06 FROM MIGRAD    STATUS=INITIATE       38 CALLS          39 TOTAL\n                     EDM= unknown      STRATEGY= 1      NO ERROR MATRIX       \n  EXT PARAMETER               CURRENT GUESS       STEP         FIRST   \n  NO.   NAME      VALUE            ERROR          SIZE      DERIVATIVE \n   1  B            2.31078e+04   4.42821e+02   9.71097e-05  -5.35746e+00\n   2  B_1          5.98484e-01   1.77500e-02   3.62183e-02   1.46657e-01\n   3  B_2          9.53674e-07   5.87282e-04   2.32794e-02   8.21398e-01\n   4  B_3          2.23872e-04   7.05397e-01   9.96330e-01   8.26979e+00\n   5  B_4          3.36367e-01   2.92663e-02   6.19978e-02   4.05798e-01\n   6  S            1.13925e+05   4.76040e+02   1.59078e-03  -2.14719e-01\n   7  S1_mean      5.27843e+00   5.21302e-05   5.21340e-04   1.70482e+00\n   8  S1_sigma     1.64897e-02   6.28676e-05   2.75941e-03   3.53887e-01\n   9  S2_frac      2.00000e-01   1.00000e-01   2.57889e-01  -1.03225e+03\n  10  S2_sigma     4.02000e-02   4.06972e-04   1.11960e-02  -6.22099e-01\n                               ERR DEF= 0.5\n MIGRAD MINIMIZATION HAS CONVERGED.\n MIGRAD WILL VERIFY CONVERGENCE AND ERROR MATRIX.\n COVARIANCE MATRIX CALCULATED SUCCESSFULLY\n FCN=-1.74576e+06 FROM MIGRAD    STATUS=CONVERGED     457 CALLS         458 TOTAL\n                     EDM=0.000584327    STRATEGY= 1      ERROR MATRIX ACCURATE \n  EXT PARAMETER                                   STEP         FIRST   \n  NO.   NAME      VALUE            ERROR          SIZE      DERIVATIVE \n   1  B            2.35262e+04   2.54830e+02   3.53815e-05   2.19492e+01\n   2  B_1          5.93960e-01   6.00433e-03   4.84256e-03  -5.02003e-01\n   3  B_2          4.27680e-10   5.64939e-04   4.26435e-02** at limit **\n   4  B_3          8.57724e-08   2.52449e-03   7.63497e-02** at limit **\n   5  B_4          3.41778e-01   9.07656e-03   7.16214e-03  -1.07713e+00\n   6  S            1.13507e+05   3.93596e+02   1.05784e-03  -6.03648e-01\n   7  S1_mean      5.27844e+00   6.31029e-05   5.65275e-04  -6.85427e-01\n   8  S1_sigma     1.43118e-02   1.43338e-04   2.65279e-03   1.30524e+00\n   9  S2_frac      3.80376e-01   1.17260e-02   6.58539e-03   1.54453e-01\n  10  S2_sigma     3.15454e-02   4.93149e-04   4.77293e-03   6.09325e-01\n                               ERR DEF= 0.5\n EXTERNAL ERROR MATRIX.    NDIM=  25    NPAR= 10    ERR DEF=0.5\n  6.494e+04 -8.473e-01  8.071e-06  7.529e-04  1.349e+00 -4.140e+04 -1.869e-03 -1.098e-02  9.961e-01 -6.922e-02 \n -8.473e-01  3.605e-05 -4.530e-10 -2.454e-08 -4.693e-05  8.470e-01  6.951e-08  2.054e-07 -1.823e-05  1.308e-06 \n  8.071e-06 -4.530e-10  9.666e-13  6.383e-15  3.267e-12 -8.065e-06  1.883e-13 -1.384e-12  1.133e-10 -9.873e-12 \n  7.529e-04 -2.454e-08  6.383e-15  8.669e-10 -3.458e-08 -7.519e-04  1.204e-11 -7.478e-11  4.604e-09 -6.288e-10 \n  1.349e+00 -4.693e-05  3.267e-12 -3.458e-08  8.239e-05 -1.349e+00 -1.037e-07 -3.246e-07  2.882e-05 -2.079e-06 \n -4.140e+04  8.470e-01 -8.065e-06 -7.519e-04 -1.349e+00  1.549e+05  1.869e-03  1.099e-02 -9.975e-01  6.928e-02 \n -1.869e-03  6.951e-08  1.883e-13  1.204e-11 -1.037e-07  1.869e-03  3.982e-09  4.100e-10 -3.536e-08  2.789e-09 \n -1.098e-02  2.054e-07 -1.384e-12 -7.478e-11 -3.246e-07  1.099e-02  4.100e-10  2.055e-08 -1.501e-06  5.330e-08 \n  9.961e-01 -1.823e-05  1.133e-10  4.604e-09  2.882e-05 -9.975e-01 -3.536e-08 -1.501e-06  1.375e-04 -5.080e-06 \n -6.922e-02  1.308e-06 -9.873e-12 -6.288e-10 -2.079e-06  6.928e-02  2.789e-09  5.330e-08 -5.080e-06  2.432e-07 \n PARAMETER  CORRELATION COEFFICIENTS  \n       NO.  GLOBAL      1      2      3      4      5      6      7      8      9     10\n        1  0.71393   1.000 -0.554  0.032  0.100  0.583 -0.413 -0.116 -0.301  0.333 -0.551\n        2  0.90088  -0.554  1.000 -0.077 -0.139 -0.861  0.358  0.183  0.239 -0.259  0.442\n        3  0.17810   0.032 -0.077  1.000  0.000  0.000 -0.021  0.003 -0.010  0.010 -0.020\n        4  0.54245   0.100 -0.139  0.000  1.000 -0.129 -0.065  0.006 -0.018  0.013 -0.043\n        5  0.91203   0.583 -0.861  0.000 -0.129  1.000 -0.378 -0.181 -0.250  0.271 -0.464\n        6  0.47476  -0.413  0.358 -0.021 -0.065 -0.378  1.000  0.075  0.195 -0.216  0.357\n        7  0.19031  -0.116  0.183  0.003  0.006 -0.181  0.075  1.000  0.045 -0.048  0.090\n        8  0.89695  -0.301  0.239 -0.010 -0.018 -0.250  0.195  0.045  1.000 -0.893  0.754\n        9  0.95432   0.333 -0.259  0.010  0.013  0.271 -0.216 -0.048 -0.893  1.000 -0.878\n       10  0.93073  -0.551  0.442 -0.020 -0.043 -0.464  0.357  0.090  0.754 -0.878  1.000\n **********\n **    7 **SET ERR         0.5\n **********\n **********\n **    8 **SET PRINT           1\n **********\n **********\n **    9 **HESSE        5000\n **********\n EIGENVALUES OF SECOND-DERIVATIVE MATRIX:\n        -1.9999e+00  4.6162e-02  1.6757e-01  6.0616e-01  9.8381e-01  9.9987e-01  1.0046e+00  1.1429e+00  2.2617e+00  4.7871e+00\n MINUIT WARNING IN HESSE   \n ============== MATRIX FORCED POS-DEF BY ADDING 2.004647 TO DIAGONAL.\n FCN=-1.74576e+06 FROM HESSE     STATUS=NOT POSDEF     92 CALLS         550 TOTAL\n                     EDM=0.00883372    STRATEGY= 1      ERR MATRIX NOT POS-DEF\n  EXT PARAMETER                APPROXIMATE     INTERNAL      INTERNAL  \n  NO.   NAME      VALUE            ERROR       STEP SIZE       VALUE   \n   1  B            2.35262e+04   1.06088e+02   1.41526e-06  -1.56057e+00\n   2  B_1          5.93960e-01   1.41246e-02   1.93702e-04   1.89044e-01\n   3  B_2          4.27680e-10   1.88546e-04   1.70574e-03  -1.57075e+00\n                                 WARNING -   - ABOVE PARAMETER IS AT LIMIT.\n   4  B_3          8.57724e-08   9.46044e-03   5.00000e-01  -1.57021e+00\n                                 WARNING -   - ABOVE PARAMETER IS AT LIMIT.\n   5  B_4          3.41778e-01   2.98188e-02   2.86486e-04  -3.21979e-01\n   6  S            1.13507e+05   2.01229e+02   4.23135e-05  -8.44698e-01\n   7  S1_mean      5.27844e+00   3.58375e-05   1.13055e-04  -1.19222e-02\n   8  S1_sigma     1.43118e-02   3.77218e-05   1.06112e-04  -4.74239e-01\n   9  S2_frac      3.80376e-01   2.14913e-03   2.63416e-04  -2.41592e-01\n  10  S2_sigma     3.15454e-02   1.08615e-04   1.90917e-04  -3.33681e-01\n                               ERR DEF= 0.5\n EXTERNAL ERROR MATRIX.    NDIM=  25    NPAR= 10    ERR DEF=0.5\n  1.125e+04 -2.746e-01 -5.649e-07  1.103e-03 -5.572e-01 -1.519e+03  3.586e-05 -4.690e-05 -1.124e-02 -1.142e-03 \n -2.746e-01  1.996e-04  4.217e-10 -8.012e-07  4.168e-04  2.353e-01 -3.415e-08  2.106e-08  1.128e-06 -1.232e-07 \n -5.649e-07  4.217e-10  3.226e-13 -1.721e-12  8.953e-10  4.839e-07 -7.260e-14  4.448e-14  2.260e-12 -2.786e-13 \n  1.103e-03 -8.012e-07 -1.721e-12  3.256e-09 -1.698e-06 -9.448e-04  1.436e-10 -8.542e-11 -4.508e-09  5.135e-10 \n -5.572e-01  4.168e-04  8.953e-10 -1.698e-06  8.903e-04  4.773e-01 -7.605e-08  4.408e-08  2.233e-06 -2.793e-07 \n -1.519e+03  2.353e-01  4.839e-07 -9.448e-04  4.773e-01  4.049e+04 -3.071e-05  4.017e-05  9.627e-03  9.781e-04 \n  3.586e-05 -3.415e-08 -7.260e-14  1.436e-10 -7.605e-08 -3.071e-05  1.284e-09 -3.305e-12  1.478e-11  3.563e-11 \n -4.690e-05  2.106e-08  4.448e-14 -8.542e-11  4.408e-08  4.017e-05 -3.305e-12  1.423e-09 -1.885e-08 -2.899e-11 \n -1.124e-02  1.128e-06  2.260e-12 -4.508e-09  2.233e-06  9.627e-03  1.478e-11 -1.885e-08  4.619e-06 -5.370e-08 \n -1.142e-03 -1.232e-07 -2.786e-13  5.135e-10 -2.793e-07  9.781e-04  3.563e-11 -2.899e-11 -5.370e-08  1.180e-08 \nERR MATRIX NOT POS-DEF\n PARAMETER  CORRELATION COEFFICIENTS  \n       NO.  GLOBAL      1      2      3      4      5      6      7      8      9     10\n        1  0.24179   1.000 -0.183 -0.009  0.182 -0.176 -0.071  0.009 -0.012 -0.049 -0.099\n        2  0.99432  -0.183  1.000  0.053 -0.994  0.989  0.083 -0.067  0.040  0.037 -0.080\n        3  0.05318  -0.009  0.053  1.000 -0.053  0.053  0.004 -0.004  0.002  0.002 -0.005\n        4  0.99856   0.182 -0.994 -0.053  1.000 -0.997 -0.082  0.070 -0.040 -0.037  0.083\n        5  0.99740  -0.176  0.989  0.053 -0.997  1.000  0.079 -0.071  0.039  0.035 -0.086\n        6  0.11708  -0.071  0.083  0.004 -0.082  0.079  1.000 -0.004  0.005  0.022  0.045\n        7  0.07412   0.009 -0.067 -0.004  0.070 -0.071 -0.004  1.000 -0.002  0.000  0.009\n        8  0.24610  -0.012  0.040  0.002 -0.040  0.039  0.005 -0.002  1.000 -0.232 -0.007\n        9  0.33957  -0.049  0.037  0.002 -0.037  0.035  0.022  0.000 -0.232  1.000 -0.230\n       10  0.28694  -0.099 -0.080 -0.005  0.083 -0.086  0.045  0.009 -0.007 -0.230  1.000\n ERR MATRIX NOT POS-DEF\n **********\n **    1 **SET PRINT           1\n **********\n **********\n **    2 **SET NOGRAD\n **********\n PARAMETER DEFINITIONS:\n    NO.   NAME         VALUE      STEP SIZE      LIMITS\n     1 B            2.30005e+04  1.96084e+02    1.00000e+00  9.00000e+08\n MINUIT WARNING IN PARAM DEF\n ============== LIMITS ON PARAM1 TOO FAR APART.\n PARAMETER DEFINITIONS:\n    NO.   NAME         VALUE      STEP SIZE      LIMITS\n     2 B_1          5.98709e-01  1.64022e-02    0.00000e+00  1.00000e+00\n     3 B_2          1.16396e-11  3.24170e-04    0.00000e+00  1.00000e+00\n MINUIT WARNING IN PARAMETR\n ============== VARIABLE3 IS AT ITS LOWER ALLOWED LIMIT.\n MINUIT WARNING IN PARAMETR\n ============== VARIABLE3 BROUGHT BACK INSIDE LIMITS.\n     4 B_3          3.25608e-04  3.06703e-02    0.00000e+00  1.00000e+00\n MINUIT WARNING IN PARAMETR\n ============== VARIABLE4 BROUGHT BACK INSIDE LIMITS.\n     5 B_4          3.36231e-01  3.17480e-02    0.00000e+00  1.00000e+00\n     6 S            1.13729e+05  2.81797e+02    4.00000e+00  9.00000e+05\n     7 S1_mean      5.27843e+00  4.53188e-05    5.17963e+00  5.37963e+00\n     8 S1_sigma     1.64803e-02  4.40753e-05    1.00000e-03  5.00000e-02\n     9 S2_frac      2.00000e-01  1.00000e-01    0.00000e+00  1.00000e+00\n    10 S2_sigma     4.00927e-02  2.66199e-04    7.00000e-03  8.00000e-02\n **********\n **    3 **SET ERR         0.5\n **********\n **********\n **    4 **SET PRINT           1\n **********\n **********\n **    5 **SET STR           1\n **********\n NOW USING STRATEGY  1: TRY TO BALANCE SPEED AGAINST RELIABILITY\n **********\n **    6 **MIGRAD        5000           1\n **********\n FIRST CALL TO USER FUNCTION AT NEW START POINT, WITH IFLAG=4.\n MINUIT WARNING IN MIGrad    \n ============== VARIABLE3 IS AT ITS LOWER ALLOWED LIMIT.\n START MIGRAD MINIMIZATION.  STRATEGY  1.  CONVERGENCE WHEN EDM .LT. 1.00e-03\n FCN=-1.74166e+06 FROM MIGRAD    STATUS=INITIATE       40 CALLS          41 TOTAL\n                     EDM= unknown      STRATEGY= 1      NO ERROR MATRIX       \n  EXT PARAMETER               CURRENT GUESS       STEP         FIRST   \n  NO.   NAME      VALUE            ERROR          SIZE      DERIVATIVE \n   1  B            2.30005e+04   1.96084e+02   4.30995e-05   1.21158e+02\n   2  B_1          5.98709e-01   1.64022e-02   3.34699e-02   6.05564e-01\n   3  B_2          9.53674e-07   3.24170e-04   1.70556e-02   8.36015e-01\n   4  B_3          3.25608e-04   3.06703e-02   1.76003e-01   3.33898e+00\n   5  B_4          3.36231e-01   3.17480e-02   6.72722e-02   1.12262e+00\n   6  S            1.13729e+05   2.81797e+02   9.42370e-04  -8.48527e-02\n   7  S1_mean      5.27843e+00   4.53188e-05   4.53220e-04   6.21516e+00\n   8  S1_sigma     1.64803e-02   4.40753e-05   1.93489e-03  -8.75088e-02\n   9  S2_frac      2.00000e-01   1.00000e-01   2.57889e-01  -1.02628e+03\n  10  S2_sigma     4.00927e-02   2.66199e-04   7.32517e-03  -1.29929e-01\n                               ERR DEF= 0.5\n MIGRAD MINIMIZATION HAS CONVERGED.\n FCN=-1.74185e+06 FROM MIGRAD    STATUS=CONVERGED     321 CALLS         322 TOTAL\n                     EDM=5.68916e-05    STRATEGY= 1  ERROR MATRIX UNCERTAINTY   8.2 per cent\n  EXT PARAMETER                                   STEP         FIRST   \n  NO.   NAME      VALUE            ERROR          SIZE      DERIVATIVE \n   1  B            2.34138e+04   2.40503e+02   5.15173e-07   4.83569e+01\n   2  B_1          5.94209e-01   5.02462e-03   5.40685e-05   1.13397e+00\n   3  B_2          1.90351e-08   5.49210e-04  -8.27029e-04** at limit **\n   4  B_3          7.95965e-10   1.31830e-03   2.36000e-03** at limit **\n   5  B_4          3.41741e-01   7.62636e-03   1.69638e-04   6.40806e-01\n   6  S            1.13316e+05   3.85637e+02  -1.49835e-05   5.60413e-01\n   7  S1_mean      5.27844e+00   6.33864e-05  -1.15746e-06  -6.52477e-01\n   8  S1_sigma     1.42993e-02   1.32247e-04  -3.73527e-06   4.77598e-01\n   9  S2_frac      3.81073e-01   1.04058e-02   8.36820e-05   7.81872e-02\n  10  S2_sigma     3.14654e-02   4.60519e-04  -9.44083e-05  -1.39846e-01\n                               ERR DEF= 0.5\n EXTERNAL ERROR MATRIX.    NDIM=  25    NPAR= 10    ERR DEF=0.5\n  5.784e+04 -5.950e-01 -1.888e-05 -2.070e-06  1.027e+00 -3.298e+04 -1.395e-03 -7.515e-03  6.912e-01 -5.585e-02 \n -5.950e-01  2.525e-05 -2.519e-10  3.021e-10 -3.312e-05  5.678e-01  4.907e-08  1.593e-07 -1.402e-05  9.578e-07 \n -1.888e-05 -2.519e-10  4.182e-11 -1.466e-13  1.043e-09 -1.314e-04 -1.143e-12 -5.988e-12  9.800e-10 -5.252e-11 \n -2.070e-06  3.021e-10 -1.466e-13  4.199e-12  4.203e-10 -2.398e-05 -4.257e-13  1.034e-12  8.776e-11 -8.825e-13 \n  1.027e+00 -3.312e-05  1.043e-09  4.203e-10  5.817e-05 -9.867e-01 -7.066e-08 -2.733e-07  2.375e-05 -1.626e-06 \n -3.298e+04  5.678e-01 -1.314e-04 -2.398e-05 -9.867e-01  1.487e+05  1.318e-03  8.753e-03 -8.145e-01  5.937e-02 \n -1.395e-03  4.907e-08 -1.143e-12 -4.257e-13 -7.066e-08  1.318e-03  4.018e-09  3.209e-10 -2.615e-08  2.020e-09 \n -7.515e-03  1.593e-07 -5.988e-12  1.034e-12 -2.733e-07  8.753e-03  3.209e-10  1.749e-08 -1.205e-06  4.396e-08 \n  6.912e-01 -1.402e-05  9.800e-10  8.776e-11  2.375e-05 -8.145e-01 -2.615e-08 -1.205e-06  1.083e-04 -4.154e-06 \n -5.585e-02  9.578e-07 -5.252e-11 -8.825e-13 -1.626e-06  5.937e-02  2.020e-09  4.396e-08 -4.154e-06  2.121e-07 \n PARAMETER  CORRELATION COEFFICIENTS  \n       NO.  GLOBAL      1      2      3      4      5      6      7      8      9     10\n        1  0.67828   1.000 -0.492 -0.012 -0.004  0.560 -0.356 -0.092 -0.236  0.276 -0.504\n        2  0.86644  -0.492  1.000 -0.008  0.029 -0.864  0.293  0.154  0.240 -0.268  0.414\n        3  0.07325  -0.012 -0.008  1.000 -0.011  0.021 -0.053 -0.003 -0.007  0.015 -0.018\n        4  0.11722  -0.004  0.029 -0.011  1.000  0.027 -0.030 -0.003  0.004  0.004 -0.001\n        5  0.88280   0.560 -0.864  0.021  0.027  1.000 -0.335 -0.146 -0.271  0.299 -0.463\n        6  0.43051  -0.356  0.293 -0.053 -0.030 -0.335  1.000  0.054  0.172 -0.203  0.334\n        7  0.15706  -0.092  0.154 -0.003 -0.003 -0.146  0.054  1.000  0.038 -0.040  0.069\n        8  0.88086  -0.236  0.240 -0.007  0.004 -0.271  0.172  0.038  1.000 -0.876  0.722\n        9  0.94683   0.276 -0.268  0.015  0.004  0.299 -0.203 -0.040 -0.876  1.000 -0.867\n       10  0.91876  -0.504  0.414 -0.018 -0.001 -0.463  0.334  0.069  0.722 -0.867  1.000\n **********\n **    7 **SET ERR         0.5\n **********\n **********\n **    8 **SET PRINT           1\n **********\n **********\n **    9 **HESSE        5000\n **********\n COVARIANCE MATRIX CALCULATED SUCCESSFULLY\n FCN=-1.74185e+06 FROM HESSE     STATUS=OK            104 CALLS         426 TOTAL\n                     EDM=0.000468329    STRATEGY= 1      ERROR MATRIX ACCURATE \n  EXT PARAMETER                                INTERNAL      INTERNAL  \n  NO.   NAME      VALUE            ERROR       STEP SIZE       VALUE   \n   1  B            2.34138e+04   2.53533e+02   3.53344e-05  -1.56060e+00\n   2  B_1          5.94209e-01   6.01359e-03   4.84714e-03   1.89550e-01\n   3  B_2          1.90351e-08   5.54339e-04   4.24808e-02  -1.57107e+00\n                                 WARNING -   - ABOVE PARAMETER IS AT LIMIT.\n   4  B_3          7.95965e-10   2.42115e-03   7.84011e-02  -1.57074e+00\n                                 WARNING -   - ABOVE PARAMETER IS AT LIMIT.\n   5  B_4          3.41741e-01   9.08357e-03   7.16641e-03  -3.22057e-01\n   6  S            1.13316e+05   3.92657e+02   1.05640e-03  -8.45337e-01\n   7  S1_mean      5.27844e+00   6.30977e-05   5.64590e-04  -1.18974e-02\n   8  S1_sigma     1.42993e-02   1.43544e-04   2.65317e-03  -4.74811e-01\n   9  S2_frac      3.81073e-01   1.17704e-02   6.59057e-03  -2.40155e-01\n  10  S2_sigma     3.14654e-02   4.90733e-04   4.74816e-03  -3.36002e-01\n                               ERR DEF= 0.5\n EXTERNAL ERROR MATRIX.    NDIM=  25    NPAR= 10    ERR DEF=0.5\n  6.428e+04 -8.423e-01  5.131e-05  6.965e-05  1.341e+00 -4.086e+04 -1.858e-03 -1.088e-02  9.915e-01 -6.829e-02 \n -8.423e-01  3.617e-05 -2.906e-09 -2.287e-09 -4.708e-05  8.419e-01  6.958e-08  2.054e-07 -1.832e-05  1.301e-06 \n  5.131e-05 -2.906e-09  4.222e-11  3.590e-15  1.434e-11 -5.127e-05  1.209e-12 -8.816e-12  7.256e-10 -6.266e-11 \n  6.965e-05 -2.287e-09  3.590e-15  7.715e-12 -3.254e-09 -6.956e-05  1.139e-12 -6.914e-12  4.280e-10 -5.800e-11 \n  1.341e+00 -4.708e-05  1.434e-11 -3.254e-09  8.252e-05 -1.341e+00 -1.037e-07 -3.245e-07  2.893e-05 -2.067e-06 \n -4.086e+04  8.419e-01 -5.127e-05 -6.956e-05 -1.341e+00  1.542e+05  1.857e-03  1.090e-02 -9.930e-01  6.835e-02 \n -1.858e-03  6.958e-08  1.209e-12  1.139e-12 -1.037e-07  1.857e-03  3.981e-09  4.133e-10 -3.578e-08  2.781e-09 \n -1.088e-02  2.054e-07 -8.816e-12 -6.914e-12 -3.245e-07  1.090e-02  4.133e-10  2.061e-08 -1.509e-06  5.311e-08 \n  9.915e-01 -1.832e-05  7.256e-10  4.280e-10  2.893e-05 -9.930e-01 -3.578e-08 -1.509e-06  1.386e-04 -5.076e-06 \n -6.829e-02  1.301e-06 -6.266e-11 -5.800e-11 -2.067e-06  6.835e-02  2.781e-09  5.311e-08 -5.076e-06  2.408e-07 \n PARAMETER  CORRELATION COEFFICIENTS  \n       NO.  GLOBAL      1      2      3      4      5      6      7      8      9     10\n        1  0.71221   1.000 -0.552  0.031  0.099  0.582 -0.410 -0.116 -0.299  0.332 -0.549\n        2  0.90090  -0.552  1.000 -0.074 -0.137 -0.862  0.357  0.183  0.238 -0.259  0.441\n        3  0.17302   0.031 -0.074  1.000  0.000  0.000 -0.020  0.003 -0.009  0.009 -0.020\n        4  0.53908   0.099 -0.137  0.000  1.000 -0.129 -0.064  0.006 -0.017  0.013 -0.043\n        5  0.91204   0.582 -0.862  0.000 -0.129  1.000 -0.376 -0.181 -0.249  0.271 -0.464\n        6  0.47242  -0.410  0.357 -0.020 -0.064 -0.376  1.000  0.075  0.193 -0.215  0.355\n        7  0.19014  -0.116  0.183  0.003  0.006 -0.181  0.075  1.000  0.046 -0.048  0.090\n        8  0.89704  -0.299  0.238 -0.009 -0.017 -0.249  0.193  0.046  1.000 -0.893  0.754\n        9  0.95445   0.332 -0.259  0.009  0.013  0.271 -0.215 -0.048 -0.893  1.000 -0.879\n       10  0.93070  -0.549  0.441 -0.020 -0.043 -0.464  0.355  0.090  0.754 -0.879  1.000\n **********\n **    1 **SET PRINT           1\n **********\n **********\n **    2 **SET NOGRAD\n **********\n PARAMETER DEFINITIONS:\n    NO.   NAME         VALUE      STEP SIZE      LIMITS\n     1 B            2.00037e+04  1.53163e+02    1.00000e+00  9.00000e+08\n MINUIT WARNING IN PARAM DEF\n ============== LIMITS ON PARAM1 TOO FAR APART.\n PARAMETER DEFINITIONS:\n    NO.   NAME         VALUE      STEP SIZE      LIMITS\n     2 B_1          6.02612e-01  1.69276e-02    0.00000e+00  1.00000e+00\n     3 B_2          8.30886e-10  3.56062e-04    0.00000e+00  1.00000e+00\n MINUIT WARNING IN PARAMETR\n ============== VARIABLE3 IS AT ITS LOWER ALLOWED LIMIT.\n MINUIT WARNING IN PARAMETR\n ============== VARIABLE3 BROUGHT BACK INSIDE LIMITS.\n     4 B_3          6.73061e-09  2.54144e-02    0.00000e+00  1.00000e+00\n MINUIT WARNING IN PARAMETR\n ============== VARIABLE4 IS AT ITS LOWER ALLOWED LIMIT.\n MINUIT WARNING IN PARAMETR\n ============== VARIABLE4 BROUGHT BACK INSIDE LIMITS.\n     5 B_4          3.33047e-01  3.58001e-02    0.00000e+00  1.00000e+00\n     6 S            1.04693e+05  2.62375e+02    4.00000e+00  9.00000e+05\n     7 S1_mean      5.27846e+00  4.88054e-05    5.17963e+00  5.37963e+00\n     8 S1_sigma     1.63701e-02  4.56674e-05    1.00000e-03  5.00000e-02\n     9 S2_frac      2.00000e-01  1.00000e-01    0.00000e+00  1.00000e+00\n    10 S2_sigma     3.92944e-02  2.80160e-04    7.00000e-03  8.00000e-02\n **********\n **    3 **SET ERR         0.5\n **********\n **********\n **    4 **SET PRINT           1\n **********\n **********\n **    5 **SET STR           1\n **********\n NOW USING STRATEGY  1: TRY TO BALANCE SPEED AGAINST RELIABILITY\n **********\n **    6 **MIGRAD        5000           1\n **********\n FIRST CALL TO USER FUNCTION AT NEW START POINT, WITH IFLAG=4.\n MINUIT WARNING IN MIGrad    \n ============== VARIABLE3 IS AT ITS LOWER ALLOWED LIMIT.\n MINUIT WARNING IN MIGrad    \n ============== VARIABLE4 IS AT ITS LOWER ALLOWED LIMIT.\n START MIGRAD MINIMIZATION.  STRATEGY  1.  CONVERGENCE WHEN EDM .LT. 1.00e-03\n FCN=-1.58008e+06 FROM MIGRAD    STATUS=INITIATE       40 CALLS          41 TOTAL\n                     EDM= unknown      STRATEGY= 1      NO ERROR MATRIX       \n  EXT PARAMETER               CURRENT GUESS       STEP         FIRST   \n  NO.   NAME      VALUE            ERROR          SIZE      DERIVATIVE \n   1  B            2.00037e+04   1.53163e+02   3.60990e-05  -1.77757e+01\n   2  B_1          6.02612e-01   1.69276e-02   3.45993e-02  -3.17522e-01\n   3  B_2          9.53674e-07   3.56062e-04   1.79194e-02   8.21687e-01\n   4  B_3          9.53674e-07   2.54144e-02   1.59129e-01   2.72477e-01\n   5  B_4          3.33047e-01   3.58001e-02   7.60609e-02   1.39886e-01\n   6  S            1.04693e+05   2.62375e+02   9.09297e-04   7.16574e-01\n   7  S1_mean      5.27846e+00   4.88054e-05   4.88088e-04  -1.28191e-02\n   8  S1_sigma     1.63701e-02   4.56674e-05   2.00865e-03   1.49478e-01\n   9  S2_frac      2.00000e-01   1.00000e-01   2.57889e-01  -9.14016e+02\n  10  S2_sigma     3.92944e-02   2.80160e-04   7.72717e-03   1.06528e-01\n                               ERR DEF= 0.5\n MIGRAD MINIMIZATION HAS CONVERGED.\n MIGRAD WILL VERIFY CONVERGENCE AND ERROR MATRIX.\n COVARIANCE MATRIX CALCULATED SUCCESSFULLY\n FCN=-1.58024e+06 FROM MIGRAD    STATUS=CONVERGED     405 CALLS         406 TOTAL\n                     EDM=0.000394341    STRATEGY= 1      ERROR MATRIX ACCURATE \n  EXT PARAMETER                                   STEP         FIRST   \n  NO.   NAME      VALUE            ERROR          SIZE      DERIVATIVE \n   1  B            2.03932e+04   2.33671e+02   3.36349e-05   6.29883e+01\n   2  B_1          5.97101e-01   6.43960e-03   4.92929e-03   1.73024e-01\n   3  B_2          1.59900e-10   5.70007e-04   4.08924e-02** at limit **\n   4  B_3          3.32153e-08   2.33335e-03   7.24721e-02** at limit **\n   5  B_4          3.39889e-01   9.70122e-03   7.27232e-03  -8.81897e-01\n   6  S            1.04302e+05   3.72166e+02   9.98858e-04  -2.14802e+00\n   7  S1_mean      5.27846e+00   6.50676e-05   5.54808e-04  -1.95949e-01\n   8  S1_sigma     1.42221e-02   1.49387e-04   2.62291e-03  -1.33466e+00\n   9  S2_frac      3.81670e-01   1.24950e-02   6.58095e-03  -3.59634e-01\n  10  S2_sigma     3.09502e-02   4.96716e-04   4.58045e-03   1.23543e-01\n                               ERR DEF= 0.5\n EXTERNAL ERROR MATRIX.    NDIM=  25    NPAR= 10    ERR DEF=0.5\n  5.460e+04 -8.250e-01  3.993e-06  3.453e-04  1.324e+00 -3.420e+04 -1.749e-03 -1.027e-02  9.645e-01 -6.266e-02 \n -8.250e-01  4.147e-05 -2.662e-10 -1.315e-08 -5.452e-05  8.246e-01  7.626e-08  2.291e-07 -2.111e-05  1.407e-06 \n  3.993e-06 -2.662e-10  3.646e-13  1.417e-15 -1.074e-12 -3.989e-06  1.059e-13 -7.641e-13  6.536e-11 -5.305e-12 \n  3.453e-04 -1.315e-08  1.417e-15  3.103e-10 -1.905e-08 -3.448e-04  6.358e-12 -3.850e-11  2.553e-09 -3.148e-10 \n  1.324e+00 -5.452e-05 -1.074e-12 -1.905e-08  9.413e-05 -1.324e+00 -1.131e-07 -3.619e-07  3.331e-05 -2.238e-06 \n -3.420e+04  8.246e-01 -3.989e-06 -3.448e-04 -1.324e+00  1.385e+05  1.748e-03  1.028e-02 -9.659e-01  6.271e-02 \n -1.749e-03  7.626e-08  1.059e-13  6.358e-12 -1.131e-07  1.748e-03  4.234e-09  4.866e-10 -4.254e-08  2.950e-09 \n -1.027e-02  2.291e-07 -7.641e-13 -3.850e-11 -3.619e-07  1.028e-02  4.866e-10  2.232e-08 -1.668e-06  5.603e-08 \n  9.645e-01 -2.111e-05  6.536e-11  2.553e-09  3.331e-05 -9.659e-01 -4.254e-08 -1.668e-06  1.562e-04 -5.476e-06 \n -6.266e-02  1.407e-06 -5.305e-12 -3.148e-10 -2.238e-06  6.271e-02  2.950e-09  5.603e-08 -5.476e-06  2.467e-07 \n PARAMETER  CORRELATION COEFFICIENTS  \n       NO.  GLOBAL      1      2      3      4      5      6      7      8      9     10\n        1  0.70383   1.000 -0.548  0.028  0.084  0.584 -0.393 -0.115 -0.294  0.330 -0.540\n        2  0.90163  -0.548  1.000 -0.068 -0.116 -0.873  0.344  0.182  0.238 -0.262  0.440\n        3  0.16082   0.028 -0.068  1.000  0.000 -0.000 -0.018  0.003 -0.008  0.009 -0.018\n        4  0.48106   0.084 -0.116  0.000  1.000 -0.111 -0.053  0.006 -0.015  0.012 -0.036\n        5  0.91251   0.584 -0.873 -0.000 -0.111  1.000 -0.367 -0.179 -0.250  0.275 -0.464\n        6  0.45459  -0.393  0.344 -0.018 -0.053 -0.367  1.000  0.072  0.185 -0.208  0.339\n        7  0.18781  -0.115  0.182  0.003  0.006 -0.179  0.072  1.000  0.050 -0.052  0.091\n        8  0.89804  -0.294  0.238 -0.008 -0.015 -0.250  0.185  0.050  1.000 -0.893  0.755\n        9  0.95558   0.330 -0.262  0.009  0.012  0.275 -0.208 -0.052 -0.893  1.000 -0.882\n       10  0.93136  -0.540  0.440 -0.018 -0.036 -0.464  0.339  0.091  0.755 -0.882  1.000\n **********\n **    7 **SET ERR         0.5\n **********\n **********\n **    8 **SET PRINT           1\n **********\n **********\n **    9 **HESSE        5000\n **********\n EIGENVALUES OF SECOND-DERIVATIVE MATRIX:\n        -2.2224e+00  4.5399e-02  1.6968e-01  6.1239e-01  9.7842e-01  9.9989e-01  1.0041e+00  1.1380e+00  2.2657e+00  5.0088e+00\n MINUIT WARNING IN HESSE   \n ============== MATRIX FORCED POS-DEF BY ADDING 2.227440 TO DIAGONAL.\n FCN=-1.58024e+06 FROM HESSE     STATUS=NOT POSDEF     92 CALLS         498 TOTAL\n                     EDM=0.00376938    STRATEGY= 1      ERR MATRIX NOT POS-DEF\n  EXT PARAMETER                APPROXIMATE     INTERNAL      INTERNAL  \n  NO.   NAME      VALUE            ERROR       STEP SIZE       VALUE   \n   1  B            2.03932e+04   9.44861e+01   1.34540e-06  -1.56128e+00\n   2  B_1          5.97101e-01   1.48498e-02   1.97172e-04   1.95443e-01\n   3  B_2          1.59900e-10   1.77051e-04   1.63570e-03  -1.57077e+00\n                                 WARNING -   - ABOVE PARAMETER IS AT LIMIT.\n   4  B_3          3.32153e-08   9.89943e-03   5.00000e-01  -1.57043e+00\n                                 WARNING -   - ABOVE PARAMETER IS AT LIMIT.\n   5  B_4          3.39889e-01   3.11446e-02   2.90893e-04  -3.25964e-01\n   6  S            1.04302e+05   1.85418e+02   3.99543e-05  -8.76064e-01\n   7  S1_mean      5.27846e+00   3.56507e-05   1.10962e-04  -1.17346e-02\n   8  S1_sigma     1.42221e-02   3.75868e-05   1.04916e-04  -4.78359e-01\n   9  S2_frac      3.81670e-01   2.16189e-03   2.63238e-04  -2.38926e-01\n  10  S2_sigma     3.09502e-02   1.04517e-04   1.83218e-04  -3.50991e-01\n                               ERR DEF= 0.5\n EXTERNAL ERROR MATRIX.    NDIM=  25    NPAR= 10    ERR DEF=0.5\n  8.928e+03 -2.125e-01 -2.282e-07  5.164e-04 -4.269e-01 -1.044e+03  2.122e-05 -3.371e-05 -9.018e-03 -9.098e-04 \n -2.125e-01  2.206e-04  2.443e-10 -5.364e-07  4.581e-04  1.807e-01 -3.146e-08  1.888e-08  8.496e-07 -1.208e-07 \n -2.282e-07  2.443e-10  1.132e-13 -6.032e-13  5.151e-10  1.940e-07 -3.503e-14  2.087e-14  8.755e-13 -1.423e-13 \n  5.164e-04 -5.364e-07 -6.032e-13  1.320e-09 -1.129e-06 -4.391e-04  8.007e-11 -4.637e-11 -2.047e-09  3.040e-10 \n -4.269e-01  4.581e-04  5.151e-10 -1.129e-06  9.714e-04  3.630e-01 -6.955e-08  3.924e-08  1.640e-06 -2.705e-07 \n -1.044e+03  1.807e-01  1.940e-07 -4.391e-04  3.630e-01  3.438e+04 -1.804e-05  2.866e-05  7.669e-03  7.738e-04 \n  2.122e-05 -3.146e-08 -3.503e-14  8.007e-11 -6.955e-08 -1.804e-05  1.271e-09 -1.038e-12  5.672e-11  2.889e-11 \n -3.371e-05  1.888e-08  2.087e-14 -4.637e-11  3.924e-08  2.866e-05 -1.038e-12  1.413e-09 -1.766e-08 -5.039e-11 \n -9.018e-03  8.496e-07  8.755e-13 -2.047e-09  1.640e-06  7.669e-03  5.672e-11 -1.766e-08  4.674e-06 -4.872e-08 \n -9.098e-04 -1.208e-07 -1.423e-13  3.040e-10 -2.705e-07  7.738e-04  2.889e-11 -5.039e-11 -4.872e-08  1.092e-08 \nERR MATRIX NOT POS-DEF\n PARAMETER  CORRELATION COEFFICIENTS  \n       NO.  GLOBAL      1      2      3      4      5      6      7      8      9     10\n        1  0.20907   1.000 -0.151 -0.007  0.150 -0.145 -0.060  0.006 -0.009 -0.044 -0.092\n        2  0.99454  -0.151  1.000  0.049 -0.994  0.990  0.066 -0.059  0.034  0.026 -0.078\n        3  0.04940  -0.007  0.049  1.000 -0.049  0.049  0.003 -0.003  0.002  0.001 -0.004\n        4  0.99859   0.150 -0.994 -0.049  1.000 -0.997 -0.065  0.062 -0.034 -0.026  0.080\n        5  0.99748  -0.145  0.990  0.049 -0.997  1.000  0.063 -0.063  0.033  0.024 -0.083\n        6  0.09835  -0.060  0.066  0.003 -0.065  0.063  1.000 -0.003  0.004  0.019  0.040\n        7  0.06538   0.006 -0.059 -0.003  0.062 -0.063 -0.003  1.000 -0.001  0.001  0.008\n        8  0.22975  -0.009  0.034  0.002 -0.034  0.033  0.004 -0.001  1.000 -0.217 -0.013\n        9  0.31750  -0.044  0.026  0.001 -0.026  0.024  0.019  0.001 -0.217  1.000 -0.216\n       10  0.26862  -0.092 -0.078 -0.004  0.080 -0.083  0.040  0.008 -0.013 -0.216  1.000\n ERR MATRIX NOT POS-DEF\n **********\n **    1 **SET PRINT           1\n **********\n **********\n **    2 **SET NOGRAD\n **********\n PARAMETER DEFINITIONS:\n    NO.   NAME         VALUE      STEP SIZE      LIMITS\n     1 B            1.46544e+04  1.93841e+02    1.00000e+00  9.00000e+08\n MINUIT WARNING IN PARAM DEF\n ============== LIMITS ON PARAM1 TOO FAR APART.\n PARAMETER DEFINITIONS:\n    NO.   NAME         VALUE      STEP SIZE      LIMITS\n     2 B_1          6.25620e-01  6.65188e-03    0.00000e+00  1.00000e+00\n     3 B_2          5.60113e-12  7.21519e-04    0.00000e+00  1.00000e+00\n MINUIT WARNING IN PARAMETR\n ============== VARIABLE3 IS AT ITS LOWER ALLOWED LIMIT.\n MINUIT WARNING IN PARAMETR\n ============== VARIABLE3 BROUGHT BACK INSIDE LIMITS.\n     4 B_3          6.04903e-09  7.10101e-04    0.00000e+00  1.00000e+00\n MINUIT WARNING IN PARAMETR\n ============== VARIABLE4 IS AT ITS LOWER ALLOWED LIMIT.\n MINUIT WARNING IN PARAMETR\n ============== VARIABLE4 BROUGHT BACK INSIDE LIMITS.\n     5 B_4          3.20906e-01  9.66106e-03    0.00000e+00  1.00000e+00\n     6 S            8.27957e+04  3.25141e+02    4.00000e+00  9.00000e+05\n     7 S1_mean      5.27848e+00  7.27726e-05    5.17963e+00  5.37963e+00\n     8 S1_sigma     1.63097e-02  6.73780e-05    1.00000e-03  5.00000e-02\n     9 S2_frac      2.00000e-01  1.00000e-01    0.00000e+00  1.00000e+00\n    10 S2_sigma     3.87447e-02  4.97165e-04    7.00000e-03  8.00000e-02\n **********\n **    3 **SET ERR         0.5\n **********\n **********\n **    4 **SET PRINT           1\n **********\n **********\n **    5 **SET STR           1\n **********\n NOW USING STRATEGY  1: TRY TO BALANCE SPEED AGAINST RELIABILITY\n **********\n **    6 **MIGRAD        5000           1\n **********\n FIRST CALL TO USER FUNCTION AT NEW START POINT, WITH IFLAG=4.\n MINUIT WARNING IN MIGrad    \n ============== VARIABLE3 IS AT ITS LOWER ALLOWED LIMIT.\n MINUIT WARNING IN MIGrad    \n ============== VARIABLE4 IS AT ITS LOWER ALLOWED LIMIT.\n START MIGRAD MINIMIZATION.  STRATEGY  1.  CONVERGENCE WHEN EDM .LT. 1.00e-03\n FCN=-1.21373e+06 FROM MIGRAD    STATUS=INITIATE       30 CALLS          31 TOTAL\n                     EDM= unknown      STRATEGY= 1      NO ERROR MATRIX       \n  EXT PARAMETER               CURRENT GUESS       STEP         FIRST   \n  NO.   NAME      VALUE            ERROR          SIZE      DERIVATIVE \n   1  B            1.46544e+04   1.93841e+02   5.33788e-05  -3.97606e+01\n   2  B_1          6.25620e-01   6.65188e-03   1.37451e-02   7.79639e-01\n   3  B_2          9.53674e-07   7.21519e-04   2.59055e-02   7.12275e-01\n   4  B_3          9.53674e-07   7.10101e-04   2.56922e-02   3.41211e-01\n   5  B_4          3.20906e-01   9.66106e-03   2.06974e-02   1.23672e+00\n   6  S            8.27957e+04   3.25141e+02   1.25001e-03   4.16435e-01\n   7  S1_mean      5.27848e+00   7.27726e-05   7.27775e-04  -2.40627e-01\n   8  S1_sigma     1.63097e-02   6.73780e-05   2.96677e-03   1.88942e-02\n   9  S2_frac      2.00000e-01   1.00000e-01   2.57889e-01  -7.27773e+02\n  10  S2_sigma     3.87447e-02   4.97165e-04   1.37385e-02  -1.63815e-01\n                               ERR DEF= 0.5\n MIGRAD MINIMIZATION HAS CONVERGED.\n FCN=-1.21386e+06 FROM MIGRAD    STATUS=CONVERGED     265 CALLS         266 TOTAL\n                     EDM=3.47112e-05    STRATEGY= 1  ERROR MATRIX UNCERTAINTY   2.6 per cent\n  EXT PARAMETER                                   STEP         FIRST   \n  NO.   NAME      VALUE            ERROR          SIZE      DERIVATIVE \n   1  B            1.49628e+04   1.86412e+02   4.78755e-07   3.13163e+01\n   2  B_1          6.18628e-01   6.27990e-03   7.51404e-05   7.24113e-01\n   3  B_2          2.65017e-11   7.02191e-04   7.79294e-05** at limit **\n   4  B_3          7.89926e-09   1.83483e-03  -6.16466e-04** at limit **\n   5  B_4          3.29638e-01   9.23624e-03   1.77445e-04   4.81609e-01\n   6  S            8.24874e+04   3.23377e+02   1.03150e-05  -2.21986e-01\n   7  S1_mean      5.27848e+00   7.28274e-05   2.60187e-07  -5.80976e-02\n   8  S1_sigma     1.41282e-02   1.48764e-04  -1.22302e-05  -1.21063e+00\n   9  S2_frac      3.85853e-01   1.28772e-02  -2.02640e-04  -3.42179e-01\n  10  S2_sigma     3.05474e-02   5.26695e-04   2.79102e-05  -1.64392e-01\n                               ERR DEF= 0.5\n EXTERNAL ERROR MATRIX.    NDIM=  25    NPAR= 10    ERR DEF=0.5\n  3.475e+04 -5.500e-01 -2.877e-07 -3.374e-06  9.027e-01 -1.941e+04 -1.080e-03 -7.350e-03  7.388e-01 -4.801e-02 \n -5.500e-01  3.944e-05  1.470e-12 -3.732e-10 -5.038e-05  5.384e-01  6.666e-08  2.481e-07 -2.368e-05  1.344e-06 \n -2.877e-07  1.470e-12  7.445e-14 -1.700e-14 -5.028e-12 -2.893e-07  2.047e-15  2.402e-13 -2.085e-11  1.166e-12 \n -3.374e-06 -3.732e-10 -1.700e-14  5.801e-11  7.409e-10 -2.539e-05 -6.129e-13  3.413e-12 -1.331e-09  6.092e-11 \n  9.027e-01 -5.038e-05 -5.028e-12  7.409e-10  8.532e-05 -9.281e-01 -9.336e-08 -3.699e-07  3.478e-05 -2.081e-06 \n -1.941e+04  5.384e-01 -2.893e-07 -2.539e-05 -9.281e-01  1.046e+05  1.010e-03  9.685e-03 -9.523e-01  5.533e-02 \n -1.080e-03  6.666e-08  2.047e-15 -6.129e-13 -9.336e-08  1.010e-03  5.304e-09  3.470e-10 -3.070e-08  2.129e-09 \n -7.350e-03  2.481e-07  2.402e-13  3.413e-12 -3.699e-07  9.685e-03  3.470e-10  2.213e-08 -1.673e-06  5.855e-08 \n  7.388e-01 -2.368e-05 -2.085e-11 -1.331e-09  3.478e-05 -9.523e-01 -3.070e-08 -1.673e-06  1.659e-04 -6.021e-06 \n -4.801e-02  1.344e-06  1.166e-12  6.092e-11 -2.081e-06  5.533e-02  2.129e-09  5.855e-08 -6.021e-06  2.774e-07 \n PARAMETER  CORRELATION COEFFICIENTS  \n       NO.  GLOBAL      1      2      3      4      5      6      7      8      9     10\n        1  0.64104   1.000 -0.470 -0.006 -0.002  0.524 -0.322 -0.080 -0.265  0.308 -0.489\n        2  0.87002  -0.470  1.000  0.001 -0.008 -0.869  0.265  0.146  0.266 -0.293  0.406\n        3  0.01451  -0.006  0.001  1.000 -0.008 -0.002 -0.003  0.000  0.006 -0.006  0.008\n        4  0.03303  -0.002 -0.008 -0.008  1.000  0.011 -0.010 -0.001  0.003 -0.014  0.015\n        5  0.88154   0.524 -0.869 -0.002  0.011  1.000 -0.311 -0.139 -0.269  0.292 -0.428\n        6  0.40177  -0.322  0.265 -0.003 -0.010 -0.311  1.000  0.043  0.201 -0.229  0.325\n        7  0.14867  -0.080  0.146  0.000 -0.001 -0.139  0.043  1.000  0.032 -0.033  0.056\n        8  0.87666  -0.265  0.266  0.006  0.003 -0.269  0.201  0.032  1.000 -0.873  0.747\n        9  0.94764   0.308 -0.293 -0.006 -0.014  0.292 -0.229 -0.033 -0.873  1.000 -0.888\n       10  0.92281  -0.489  0.406  0.008  0.015 -0.428  0.325  0.056  0.747 -0.888  1.000\n **********\n **    7 **SET ERR         0.5\n **********\n **********\n **    8 **SET PRINT           1\n **********\n **********\n **    9 **HESSE        5000\n **********\n COVARIANCE MATRIX CALCULATED SUCCESSFULLY\n FCN=-1.21386e+06 FROM HESSE     STATUS=OK            104 CALLS         370 TOTAL\n                     EDM=0.000350294    STRATEGY= 1      ERROR MATRIX ACCURATE \n  EXT PARAMETER                                INTERNAL      INTERNAL  \n  NO.   NAME      VALUE            ERROR       STEP SIZE       VALUE   \n   1  B            1.49628e+04   2.02272e+02   2.94651e-05  -1.56264e+00\n   2  B_1          6.18628e-01   8.09979e-03   4.87765e-03   2.39539e-01\n   3  B_2          2.65017e-11   6.60637e-04   3.88739e-02  -1.57079e+00\n                                 WARNING -   - ABOVE PARAMETER IS AT LIMIT.\n   4  B_3          7.89926e-09   2.58488e-03   7.02166e-02  -1.57097e+00\n                                 WARNING -   - ABOVE PARAMETER IS AT LIMIT.\n   5  B_4          3.29638e-01   1.18097e-02   7.00706e-03  -3.47687e-01\n   6  S            8.24874e+04   3.29293e+02   8.61951e-04  -9.55674e-01\n   7  S1_mean      5.27848e+00   7.27010e-05   5.42541e-04  -1.14582e-02\n   8  S1_sigma     1.41282e-02   1.69094e-04   2.58827e-03  -4.82683e-01\n   9  S2_frac      3.85853e-01   1.42586e-02   6.48243e-03  -2.30326e-01\n  10  S2_sigma     3.05474e-02   5.45557e-04   4.34862e-03  -3.62771e-01\n                               ERR DEF= 0.5\n EXTERNAL ERROR MATRIX.    NDIM=  25    NPAR= 10    ERR DEF=0.5\n  4.091e+04 -9.504e-01  1.378e-06  1.246e-04  1.456e+00 -2.594e+04 -1.782e-03 -1.041e-02  9.954e-01 -6.077e-02 \n -9.504e-01  6.561e-05 -1.271e-10 -6.670e-09 -8.647e-05  9.500e-01  1.124e-07  3.615e-07 -3.418e-05  2.116e-06 \n  1.378e-06 -1.271e-10  7.005e-14  9.459e-16  8.416e-12 -1.376e-06  3.343e-14 -3.563e-13  3.130e-11 -2.344e-12 \n  1.246e-04 -6.670e-09  9.459e-16  8.174e-11 -1.016e-08 -1.244e-04  3.515e-12 -1.722e-11  1.148e-09 -1.381e-10 \n  1.456e+00 -8.647e-05  8.416e-12 -1.016e-08  1.395e-04 -1.456e+00 -1.613e-07 -5.443e-07  5.137e-05 -3.207e-06 \n -2.594e+04  9.500e-01 -1.376e-06 -1.244e-04 -1.456e+00  1.084e+05  1.781e-03  1.042e-02 -9.966e-01  6.082e-02 \n -1.782e-03  1.124e-07  3.343e-14  3.515e-12 -1.613e-07  1.781e-03  5.285e-09  5.838e-10 -5.393e-08  3.739e-09 \n -1.041e-02  3.615e-07 -3.563e-13 -1.722e-11 -5.443e-07  1.042e-02  5.838e-10  2.859e-08 -2.158e-06  6.990e-08 \n  9.954e-01 -3.418e-05  3.130e-11  1.148e-09  5.137e-05 -9.966e-01 -5.393e-08 -2.158e-06  2.034e-04 -6.885e-06 \n -6.077e-02  2.116e-06 -2.344e-12 -1.381e-10 -3.207e-06  6.082e-02  3.739e-09  6.990e-08 -6.885e-06  2.977e-07 \n PARAMETER  CORRELATION COEFFICIENTS  \n       NO.  GLOBAL      1      2      3      4      5      6      7      8      9     10\n        1  0.71156   1.000 -0.580  0.026  0.068  0.610 -0.390 -0.121 -0.304  0.345 -0.551\n        2  0.92328  -0.580  1.000 -0.059 -0.091 -0.904  0.356  0.191  0.264 -0.296  0.479\n        3  0.14926   0.026 -0.059  1.000  0.000  0.003 -0.016  0.002 -0.008  0.008 -0.016\n        4  0.44950   0.068 -0.091  0.000  1.000 -0.095 -0.042  0.005 -0.011  0.009 -0.028\n        5  0.93061   0.610 -0.904  0.003 -0.095  1.000 -0.374 -0.188 -0.273  0.305 -0.498\n        6  0.44917  -0.390  0.356 -0.016 -0.042 -0.374  1.000  0.074  0.187 -0.212  0.339\n        7  0.19509  -0.121  0.191  0.002  0.005 -0.188  0.074  1.000  0.047 -0.052  0.094\n        8  0.89969  -0.304  0.264 -0.008 -0.011 -0.273  0.187  0.047  1.000 -0.895  0.758\n        9  0.95677   0.345 -0.296  0.008  0.009  0.305 -0.212 -0.052 -0.895  1.000 -0.885\n       10  0.93389  -0.551  0.479 -0.016 -0.028 -0.498  0.339  0.094  0.758 -0.885  1.000\n **********\n **    1 **SET PRINT           1\n **********\n **********\n **    2 **SET NOGRAD\n **********\n PARAMETER DEFINITIONS:\n    NO.   NAME         VALUE      STEP SIZE      LIMITS\n     1 B            1.10171e+04  1.69388e+02    1.00000e+00  9.00000e+08\n MINUIT WARNING IN PARAM DEF\n ============== LIMITS ON PARAM1 TOO FAR APART.\n PARAMETER DEFINITIONS:\n    NO.   NAME         VALUE      STEP SIZE      LIMITS\n     2 B_1          6.43651e-01  7.78878e-03    0.00000e+00  1.00000e+00\n     3 B_2          1.20610e-09  1.07546e-03    0.00000e+00  1.00000e+00\n MINUIT WARNING IN PARAMETR\n ============== VARIABLE3 IS AT ITS LOWER ALLOWED LIMIT.\n MINUIT WARNING IN PARAMETR\n ============== VARIABLE3 BROUGHT BACK INSIDE LIMITS.\n     4 B_3          2.29630e-08  9.78421e-04    0.00000e+00  1.00000e+00\n MINUIT WARNING IN PARAMETR\n ============== VARIABLE4 BROUGHT BACK INSIDE LIMITS.\n     5 B_4          3.13889e-01  1.09435e-02    0.00000e+00  1.00000e+00\n     6 S            6.29329e+04  2.83916e+02    4.00000e+00  9.00000e+05\n     7 S1_mean      5.27846e+00  8.47680e-05    5.17963e+00  5.37963e+00\n     8 S1_sigma     1.65609e-02  7.84236e-05    1.00000e-03  5.00000e-02\n     9 S2_frac      2.00000e-01  1.00000e-01    0.00000e+00  1.00000e+00\n    10 S2_sigma     3.93319e-02  5.85054e-04    7.00000e-03  8.00000e-02\n **********\n **    3 **SET ERR         0.5\n **********\n **********\n **    4 **SET PRINT           1\n **********\n **********\n **    5 **SET STR           1\n **********\n NOW USING STRATEGY  1: TRY TO BALANCE SPEED AGAINST RELIABILITY\n **********\n **    6 **MIGRAD        5000           1\n **********\n FIRST CALL TO USER FUNCTION AT NEW START POINT, WITH IFLAG=4.\n MINUIT WARNING IN MIGrad    \n ============== VARIABLE3 IS AT ITS LOWER ALLOWED LIMIT.\n START MIGRAD MINIMIZATION.  STRATEGY  1.  CONVERGENCE WHEN EDM .LT. 1.00e-03\n FCN=-900160 FROM MIGRAD    STATUS=INITIATE       30 CALLS          31 TOTAL\n                     EDM= unknown      STRATEGY= 1      NO ERROR MATRIX       \n  EXT PARAMETER               CURRENT GUESS       STEP         FIRST   \n  NO.   NAME      VALUE            ERROR          SIZE      DERIVATIVE \n   1  B            1.10171e+04   1.69388e+02   5.37976e-05  -2.56680e+01\n   2  B_1          6.43651e-01   7.78878e-03   1.62641e-02   8.83215e-01\n   3  B_2          9.53674e-07   1.07546e-03   3.18380e-02   4.87158e-01\n   4  B_3          2.29630e-08   9.78421e-04   3.19587e-02** at limit **\n   5  B_4          3.13889e-01   1.09435e-02   2.35847e-02   1.14462e+00\n   6  S            6.29329e+04   2.83916e+02   1.23705e-03  -2.05292e-02\n   7  S1_mean      5.27846e+00   8.47680e-05   8.47738e-04  -1.09465e-01\n   8  S1_sigma     1.65609e-02   7.84236e-05   3.43798e-03   4.51385e-02\n   9  S2_frac      2.00000e-01   1.00000e-01   2.57889e-01  -5.49394e+02\n  10  S2_sigma     3.93319e-02   5.85054e-04   1.61351e-02  -1.67729e-01\n                               ERR DEF= 0.5\n MIGRAD FAILS TO FIND IMPROVEMENT\n MIGRAD MINIMIZATION HAS CONVERGED.\n FCN=-900263 FROM MIGRAD    STATUS=CONVERGED     247 CALLS         248 TOTAL\n                     EDM=0.000106525    STRATEGY= 1  ERROR MATRIX UNCERTAINTY   1.2 per cent\n  EXT PARAMETER                                   STEP         FIRST   \n  NO.   NAME      VALUE            ERROR          SIZE      DERIVATIVE \n   1  B            1.12698e+04   1.60706e+02  -0.00000e+00   2.71943e+00\n   2  B_1          6.35639e-01   7.31040e-03   0.00000e+00   7.94821e-01\n   3  B_2          2.03201e-09   1.03367e-03  -0.00000e+00** at limit **\n   4  B_3          4.51875e-10   2.41295e-03   0.00000e+00** at limit **\n   5  B_4          3.23711e-01   1.04349e-02  -0.00000e+00   6.01292e-01\n   6  S            6.26793e+04   2.80099e+02   0.00000e+00  -3.65294e+00\n   7  S1_mean      5.27846e+00   8.48221e-05   0.00000e+00  -5.20399e-01\n   8  S1_sigma     1.42995e-02   1.74230e-04   0.00000e+00  -2.35256e-01\n   9  S2_frac      3.89823e-01   1.48496e-02  -0.00000e+00  -1.93813e-01\n  10  S2_sigma     3.08661e-02   6.04090e-04   0.00000e+00  -6.90648e-01\n                               ERR DEF= 0.5\n EXTERNAL ERROR MATRIX.    NDIM=  25    NPAR= 10    ERR DEF=0.5\n  2.583e+04 -5.536e-01 -7.812e-06  1.607e-07  8.631e-01 -1.399e+04 -1.030e-03 -7.543e-03  7.238e-01 -4.635e-02 \n -5.536e-01  5.345e-05  8.421e-11 -1.243e-11 -6.709e-05  5.362e-01  9.123e-08  3.448e-07 -3.226e-05  1.821e-06 \n -7.812e-06  8.421e-11  8.405e-12  1.367e-15 -3.615e-10 -2.341e-06  2.462e-13  6.686e-12 -7.128e-10  4.208e-11 \n  1.607e-07 -1.243e-11  1.367e-15  4.365e-12  4.813e-11 -7.654e-07 -6.610e-14  7.542e-13 -8.821e-11  7.906e-12 \n  8.631e-01 -6.709e-05 -3.615e-10  4.813e-11  1.089e-04 -8.600e-01 -1.244e-07 -5.078e-07  4.746e-05 -2.726e-06 \n -1.399e+04  5.362e-01 -2.341e-06 -7.654e-07 -8.600e-01  7.846e+04  9.199e-04  9.479e-03 -8.940e-01  5.224e-02 \n -1.030e-03  9.123e-08  2.462e-13 -6.610e-14 -1.244e-07  9.199e-04  7.195e-09  4.873e-10 -4.080e-08  2.700e-09 \n -7.543e-03  3.448e-07  6.686e-12  7.542e-13 -5.078e-07  9.479e-03  4.873e-10  3.036e-08 -2.250e-06  7.845e-08 \n  7.238e-01 -3.226e-05 -7.128e-10 -8.821e-11  4.746e-05 -8.940e-01 -4.080e-08 -2.250e-06  2.206e-04 -7.992e-06 \n -4.635e-02  1.821e-06  4.208e-11  7.906e-12 -2.726e-06  5.224e-02  2.700e-09  7.845e-08 -7.992e-06  3.650e-07 \n PARAMETER  CORRELATION COEFFICIENTS  \n       NO.  GLOBAL      1      2      3      4      5      6      7      8      9     10\n        1  0.63038   1.000 -0.471 -0.017  0.000  0.515 -0.311 -0.076 -0.269  0.303 -0.477\n        2  0.88056  -0.471  1.000  0.004 -0.001 -0.879  0.262  0.147  0.271 -0.297  0.412\n        3  0.03341  -0.017  0.004  1.000  0.000 -0.012 -0.003  0.001  0.013 -0.017  0.024\n        4  0.01219   0.000 -0.001  0.000  1.000  0.002 -0.001 -0.000  0.002 -0.003  0.006\n        5  0.88861   0.515 -0.879 -0.012  0.002  1.000 -0.294 -0.140 -0.279  0.306 -0.432\n        6  0.38619  -0.311  0.262 -0.003 -0.001 -0.294  1.000  0.039  0.194 -0.215  0.309\n        7  0.14982  -0.076  0.147  0.001 -0.000 -0.140  0.039  1.000  0.033 -0.032  0.053\n        8  0.87356  -0.269  0.271  0.013  0.002 -0.279  0.194  0.033  1.000 -0.870  0.745\n        9  0.94824   0.303 -0.297 -0.017 -0.003  0.306 -0.215 -0.032 -0.870  1.000 -0.891\n       10  0.92399  -0.477  0.412  0.024  0.006 -0.432  0.309  0.053  0.745 -0.891  1.000\n **********\n **    7 **SET ERR         0.5\n **********\n **********\n **    8 **SET PRINT           1\n **********\n **********\n **    9 **HESSE        5000\n **********\n COVARIANCE MATRIX CALCULATED SUCCESSFULLY\n FCN=-900263 FROM HESSE     STATUS=OK            102 CALLS         350 TOTAL\n                     EDM=0.000172145    STRATEGY= 1      ERROR MATRIX ACCURATE \n  EXT PARAMETER                                INTERNAL      INTERNAL  \n  NO.   NAME      VALUE            ERROR       STEP SIZE       VALUE   \n   1  B            1.12698e+04   1.85766e+02   2.54087e-05  -1.56372e+00\n   2  B_1          6.35639e-01   1.07204e-02   4.65043e-03   2.74722e-01\n   3  B_2          2.03201e-09   9.74252e-04   4.08450e-02  -1.57071e+00\n                                 WARNING -   - ABOVE PARAMETER IS AT LIMIT.\n   4  B_3          4.51875e-10   3.99075e-03   7.59961e-02  -1.57084e+00\n                                 WARNING -   - ABOVE PARAMETER IS AT LIMIT.\n   5  B_4          3.23711e-01   1.51189e-02   6.48253e-03  -3.60325e-01\n   6  S            6.26793e+04   2.93107e+02   7.33455e-04  -1.03668e+00\n   7  S1_mean      5.27846e+00   8.51677e-05   5.44227e-04  -1.16872e-02\n   8  S1_sigma     1.42995e-02   2.03309e-04   2.59794e-03  -4.74801e-01\n   9  S2_frac      3.89823e-01   1.69388e-02   6.41617e-03  -2.22177e-01\n  10  S2_sigma     3.08661e-02   6.59106e-04   4.29170e-03  -3.53448e-01\n                               ERR DEF= 0.5\n EXTERNAL ERROR MATRIX.    NDIM=  25    NPAR= 10    ERR DEF=0.5\n  3.451e+04 -1.277e+00  1.719e-05  3.566e-05  1.842e+00 -2.323e+04 -2.316e-03 -1.284e-02  1.207e+00 -7.242e-02 \n -1.277e+00  1.149e-04 -2.009e-09 -2.566e-09 -1.503e-04  1.276e+00  1.996e-07  6.781e-07 -6.316e-05  3.826e-06 \n  1.719e-05 -2.009e-09  7.921e-12  8.949e-15  4.626e-10 -1.717e-05  2.132e-14 -6.564e-12  5.776e-10 -4.075e-11 \n  3.566e-05 -2.566e-09  8.949e-15  7.223e-12 -4.323e-09 -3.560e-05  1.772e-12 -5.752e-12  3.401e-10 -4.780e-11 \n  1.842e+00 -1.503e-04  4.626e-10 -4.323e-09  2.287e-04 -1.841e+00 -2.787e-07 -9.712e-07  9.042e-05 -5.498e-06 \n -2.323e+04  1.276e+00 -1.717e-05 -3.560e-05 -1.841e+00  8.591e+04  2.315e-03  1.285e-02 -1.208e+00  7.247e-02 \n -2.316e-03  1.996e-07  2.132e-14  1.772e-12 -2.787e-07  2.315e-03  7.254e-09  1.144e-09 -1.030e-07  6.645e-09 \n -1.284e-02  6.781e-07 -6.564e-12 -5.752e-12 -9.712e-07  1.285e-02  1.144e-09  4.134e-08 -3.103e-06  1.029e-07 \n  1.207e+00 -6.316e-05  5.776e-10  3.401e-10  9.042e-05 -1.208e+00 -1.030e-07 -3.103e-06  2.870e-04 -9.924e-06 \n -7.242e-02  3.826e-06 -4.075e-11 -4.780e-11 -5.498e-06  7.247e-02  6.645e-09  1.029e-07 -9.924e-06  4.345e-07 \n PARAMETER  CORRELATION COEFFICIENTS  \n       NO.  GLOBAL      1      2      3      4      5      6      7      8      9     10\n        1  0.74693   1.000 -0.641  0.033  0.071  0.656 -0.427 -0.146 -0.340  0.383 -0.591\n        2  0.94820  -0.641  1.000 -0.067 -0.089 -0.927  0.406  0.219  0.311 -0.348  0.541\n        3  0.17706   0.033 -0.067  1.000  0.001  0.011 -0.021  0.000 -0.011  0.012 -0.022\n        4  0.53710   0.071 -0.089  0.001  1.000 -0.106 -0.045  0.008 -0.011  0.007 -0.027\n        5  0.95246   0.656 -0.927  0.011 -0.106  1.000 -0.415 -0.216 -0.316  0.353 -0.552\n        6  0.48422  -0.427  0.406 -0.021 -0.045 -0.415  1.000  0.093  0.216 -0.243  0.375\n        7  0.22240  -0.146  0.219  0.000  0.008 -0.216  0.093  1.000  0.066 -0.071  0.118\n        8  0.90532  -0.340  0.311 -0.011 -0.011 -0.316  0.216  0.066  1.000 -0.901  0.768\n        9  0.95945   0.383 -0.348  0.012  0.007  0.353 -0.243 -0.071 -0.901  1.000 -0.889\n       10  0.94036  -0.591  0.541 -0.022 -0.027 -0.552  0.375  0.118  0.768 -0.889  1.000\n **********\n **    1 **SET PRINT           1\n **********\n **********\n **    2 **SET NOGRAD\n **********\n PARAMETER DEFINITIONS:\n    NO.   NAME         VALUE      STEP SIZE      LIMITS\n     1 B            7.92016e+03  1.45957e+02    1.00000e+00  9.00000e+08\n MINUIT WARNING IN PARAM DEF\n ============== LIMITS ON PARAM1 TOO FAR APART.\n PARAMETER DEFINITIONS:\n    NO.   NAME         VALUE      STEP SIZE      LIMITS\n     2 B_1          6.50283e-01  9.33148e-03    0.00000e+00  1.00000e+00\n     3 B_2          1.91229e-09  1.70079e-03    0.00000e+00  1.00000e+00\n MINUIT WARNING IN PARAMETR\n ============== VARIABLE3 IS AT ITS LOWER ALLOWED LIMIT.\n MINUIT WARNING IN PARAMETR\n ============== VARIABLE3 BROUGHT BACK INSIDE LIMITS.\n     4 B_3          6.99789e-09  1.13646e-03    0.00000e+00  1.00000e+00\n MINUIT WARNING IN PARAMETR\n ============== VARIABLE4 IS AT ITS LOWER ALLOWED LIMIT.\n MINUIT WARNING IN PARAMETR\n ============== VARIABLE4 BROUGHT BACK INSIDE LIMITS.\n     5 B_4          3.12820e-01  1.27897e-02    0.00000e+00  1.00000e+00\n     6 S            4.52568e+04  2.42157e+02    4.00000e+00  9.00000e+05\n     7 S1_mean      5.27851e+00  1.01530e-04    5.17963e+00  5.37963e+00\n     8 S1_sigma     1.67803e-02  9.38948e-05    1.00000e-03  5.00000e-02\n     9 S2_frac      2.00000e-01  1.00000e-01    0.00000e+00  1.00000e+00\n    10 S2_sigma     4.03176e-02  7.16009e-04    7.00000e-03  8.00000e-02\n **********\n **    3 **SET ERR         0.5\n **********\n **********\n **    4 **SET PRINT           1\n **********\n **********\n **    5 **SET STR           1\n **********\n NOW USING STRATEGY  1: TRY TO BALANCE SPEED AGAINST RELIABILITY\n **********\n **    6 **MIGRAD        5000           1\n **********\n FIRST CALL TO USER FUNCTION AT NEW START POINT, WITH IFLAG=4.\n MINUIT WARNING IN MIGrad    \n ============== VARIABLE3 IS AT ITS LOWER ALLOWED LIMIT.\n MINUIT WARNING IN MIGrad    \n ============== VARIABLE4 IS AT ITS LOWER ALLOWED LIMIT.\n START MIGRAD MINIMIZATION.  STRATEGY  1.  CONVERGENCE WHEN EDM .LT. 1.00e-03\n FCN=-629131 FROM MIGRAD    STATUS=INITIATE       32 CALLS          33 TOTAL\n                     EDM= unknown      STRATEGY= 1      NO ERROR MATRIX       \n  EXT PARAMETER               CURRENT GUESS       STEP         FIRST   \n  NO.   NAME      VALUE            ERROR          SIZE      DERIVATIVE \n   1  B            7.92016e+03   1.45957e+02   5.46746e-05   1.43418e+01\n   2  B_1          6.50283e-01   9.33148e-03   1.95694e-02  -2.68956e-01\n   3  B_2          9.53674e-07   1.70079e-03   4.02873e-02   3.15478e-01\n   4  B_3          9.53674e-07   1.13646e-03   3.27554e-02   7.37469e-02\n   5  B_4          3.12820e-01   1.27897e-02   2.75905e-02   1.58803e-01\n   6  S            4.52568e+04   2.42157e+02   1.23128e-03  -3.14219e-01\n   7  S1_mean      5.27851e+00   1.01530e-04   1.01537e-03  -1.23725e-01\n   8  S1_sigma     1.67803e-02   9.38948e-05   4.10098e-03   2.41485e-02\n   9  S2_frac      2.00000e-01   1.00000e-01   2.57889e-01  -4.16617e+02\n  10  S2_sigma     4.03176e-02   7.16009e-04   1.96930e-02  -2.25871e-02\n                               ERR DEF= 0.5\n MIGRAD MINIMIZATION HAS CONVERGED.\n MIGRAD WILL VERIFY CONVERGENCE AND ERROR MATRIX.\n COVARIANCE MATRIX CALCULATED SUCCESSFULLY\n FCN=-629208 FROM MIGRAD    STATUS=CONVERGED     401 CALLS         402 TOTAL\n                     EDM=0.000438288    STRATEGY= 1      ERROR MATRIX ACCURATE \n  EXT PARAMETER                                   STEP         FIRST   \n  NO.   NAME      VALUE            ERROR          SIZE      DERIVATIVE \n   1  B            8.08762e+03   1.69650e+02   2.13185e-05  -1.46120e+01\n   2  B_1          6.43267e-01   1.44981e-02   4.46653e-03  -2.57879e-01\n   3  B_2          1.18279e-11   1.47531e-03   4.11685e-02** at limit **\n   4  B_3          1.01936e-07   6.18956e-03   7.12101e-02** at limit **\n   5  B_4          3.20806e-01   2.00355e-02   6.09638e-03  -6.30159e-01\n   6  S            4.50886e+04   2.56465e+02   6.07111e-04  -3.26717e+00\n   7  S1_mean      5.27851e+00   1.02779e-04   5.44440e-04  -7.63191e-01\n   8  S1_sigma     1.45036e-02   2.39524e-04   2.56666e-03  -5.41007e-01\n   9  S2_frac      3.86219e-01   1.93688e-02   6.25582e-03  -9.36826e-02\n  10  S2_sigma     3.16873e-02   8.21002e-04   4.34373e-03   2.02054e-01\n                               ERR DEF= 0.5\n EXTERNAL ERROR MATRIX.    NDIM=  25    NPAR= 10    ERR DEF=0.5\n  2.878e+04 -1.720e+00  1.766e-06  5.361e-04  2.413e+00 -2.069e+04 -3.128e-03 -1.488e-02  1.340e+00 -8.822e-02 \n -1.720e+00  2.103e-04 -2.715e-10 -5.330e-08 -2.753e-04  1.720e+00  3.744e-07  1.194e-06 -1.065e-04  7.082e-06 \n  1.766e-06 -2.715e-10  6.983e-14  2.155e-14  1.038e-10 -1.765e-06 -6.363e-14 -9.282e-13  7.869e-11 -5.980e-12 \n  5.361e-04 -5.330e-08  2.155e-14  2.529e-09 -9.528e-08 -5.353e-04  4.361e-11 -9.038e-11  3.584e-09 -8.936e-10 \n  2.413e+00 -2.753e-04  1.038e-10 -9.528e-08  4.017e-04 -2.412e+00 -5.134e-07 -1.665e-06  1.484e-04 -9.904e-06 \n -2.069e+04  1.720e+00 -1.765e-06 -5.353e-04 -2.412e+00  6.577e+04  3.127e-03  1.488e-02 -1.341e+00  8.826e-02 \n -3.128e-03  3.744e-07 -6.363e-14  4.361e-11 -5.134e-07  3.127e-03  1.056e-08  2.298e-09 -1.896e-07  1.258e-08 \n -1.488e-02  1.194e-06 -9.282e-13 -9.038e-11 -1.665e-06  1.488e-02  2.298e-09  5.737e-08 -4.175e-06  1.504e-07 \n  1.340e+00 -1.065e-04  7.869e-11  3.584e-09  1.484e-04 -1.341e+00 -1.896e-07 -4.175e-06  3.753e-04 -1.403e-05 \n -8.822e-02  7.082e-06 -5.980e-12 -8.936e-10 -9.904e-06  8.826e-02  1.258e-08  1.504e-07 -1.403e-05  6.742e-07 \n PARAMETER  CORRELATION COEFFICIENTS  \n       NO.  GLOBAL      1      2      3      4      5      6      7      8      9     10\n        1  0.78546   1.000 -0.699  0.039  0.063  0.710 -0.475 -0.179 -0.366  0.408 -0.633\n        2  0.96300  -0.699  1.000 -0.071 -0.073 -0.947  0.462  0.251  0.344 -0.379  0.595\n        3  0.19237   0.039 -0.071  1.000  0.002  0.020 -0.026 -0.002 -0.015  0.015 -0.028\n        4  0.54102   0.063 -0.073  0.002  1.000 -0.095 -0.042  0.008 -0.008  0.004 -0.022\n        5  0.96577   0.710 -0.947  0.020 -0.095  1.000 -0.469 -0.249 -0.347  0.382 -0.602\n        6  0.52925  -0.475  0.462 -0.026 -0.042 -0.469  1.000  0.119  0.242 -0.270  0.419\n        7  0.25467  -0.179  0.251 -0.002  0.008 -0.249  0.119  1.000  0.093 -0.095  0.149\n        8  0.90364  -0.366  0.344 -0.015 -0.008 -0.347  0.242  0.093  1.000 -0.900  0.765\n        9  0.95793   0.408 -0.379  0.015  0.004  0.382 -0.270 -0.095 -0.900  1.000 -0.882\n       10  0.94272  -0.633  0.595 -0.028 -0.022 -0.602  0.419  0.149  0.765 -0.882  1.000\n **********\n **    7 **SET ERR         0.5\n **********\n **********\n **    8 **SET PRINT           1\n **********\n **********\n **    9 **HESSE        5000\n **********\n COVARIANCE MATRIX CALCULATED SUCCESSFULLY\n FCN=-629208 FROM HESSE     STATUS=OK             92 CALLS         494 TOTAL\n                     EDM=0.00018571    STRATEGY= 1      ERROR MATRIX ACCURATE \n  EXT PARAMETER                                INTERNAL      INTERNAL  \n  NO.   NAME      VALUE            ERROR       STEP SIZE       VALUE   \n   1  B            8.08762e+03   1.38209e+02   8.52740e-07  -1.56480e+00\n   2  B_1          6.43267e-01   8.66179e-03   1.78661e-04   2.90606e-01\n   3  B_2          1.18279e-11   1.47294e-03   1.64674e-03  -1.57079e+00\n                                 WARNING -   - ABOVE PARAMETER IS AT LIMIT.\n   4  B_3          1.01936e-07   1.97987e-04   5.00000e-01  -1.57143e+00\n                                 WARNING -   - ABOVE PARAMETER IS AT LIMIT.\n   5  B_4          3.20806e-01   1.19862e-02   2.43855e-04  -3.66541e-01\n   6  S            4.50886e+04   2.36855e+02   1.21422e-04  -1.11934e+00\n   7  S1_mean      5.27851e+00   1.00598e-04   1.08888e-04  -1.12474e-02\n   8  S1_sigma     1.45036e-02   2.35459e-04   1.02666e-04  -4.65460e-01\n   9  S2_frac      3.86219e-01   1.87033e-02   2.50233e-04  -2.29574e-01\n  10  S2_sigma     3.16873e-02   7.17935e-04   1.73749e-04  -3.29568e-01\n                               ERR DEF= 0.5\n EXTERNAL ERROR MATRIX.    NDIM=  25    NPAR= 10    ERR DEF=0.5\n  1.910e+04 -5.734e-01  3.775e-08 -1.774e-06  8.736e-01 -1.101e+04 -1.082e-03 -8.370e-03  7.513e-01 -4.867e-02 \n -5.734e-01  7.503e-05 -6.963e-12  1.662e-10 -9.261e-05  5.733e-01  1.324e-07  4.136e-07 -3.656e-05  2.397e-06 \n  3.775e-08 -6.963e-12  6.972e-14  1.432e-15 -1.205e-12 -3.765e-08  4.644e-15 -1.424e-14  1.095e-12 -1.033e-13 \n -1.774e-06  1.662e-10  1.432e-15  8.073e-11 -2.190e-10  7.538e-06  3.016e-12  2.777e-12 -2.146e-10  1.251e-11 \n  8.736e-01 -9.261e-05 -1.205e-12 -2.190e-10  1.437e-04 -8.734e-01 -1.760e-07 -5.973e-07  5.242e-05 -3.520e-06 \n -1.101e+04  5.733e-01 -3.765e-08  7.538e-06 -8.734e-01  5.610e+04  1.082e-03  8.370e-03 -7.514e-01  4.866e-02 \n -1.082e-03  1.324e-07  4.644e-15  3.016e-12 -1.760e-07  1.082e-03  1.012e-08  8.880e-10 -6.428e-08  4.177e-09 \n -8.370e-03  4.136e-07 -1.424e-14  2.777e-12 -5.973e-07  8.370e-03  8.880e-10  5.544e-08 -3.946e-06  1.276e-07 \n  7.513e-01 -3.656e-05  1.095e-12 -2.146e-10  5.242e-05 -7.514e-01 -6.428e-08 -3.946e-06  3.500e-04 -1.183e-05 \n -4.867e-02  2.397e-06 -1.033e-13  1.251e-11 -3.520e-06  4.866e-02  4.177e-09  1.276e-07 -1.183e-05  5.155e-07 \n PARAMETER  CORRELATION COEFFICIENTS  \n       NO.  GLOBAL      1      2      3      4      5      6      7      8      9     10\n        1  0.65027   1.000 -0.479  0.001 -0.001  0.527 -0.336 -0.078 -0.257  0.291 -0.490\n        2  0.89242  -0.479  1.000 -0.003  0.002 -0.892  0.279  0.152  0.203 -0.226  0.385\n        3  0.00766   0.001 -0.003  1.000  0.001 -0.000 -0.001  0.000 -0.000  0.000 -0.001\n        4  0.00496  -0.001  0.002  0.001  1.000 -0.002  0.004  0.003  0.001 -0.001  0.002\n        5  0.90094   0.527 -0.892 -0.000 -0.002  1.000 -0.308 -0.146 -0.212  0.234 -0.409\n        6  0.39492  -0.336  0.279 -0.001  0.004 -0.308  1.000  0.045  0.150 -0.170  0.286\n        7  0.15450  -0.078  0.152  0.000  0.003 -0.146  0.045  1.000  0.037 -0.034  0.058\n        8  0.90010  -0.257  0.203 -0.000  0.001 -0.212  0.150  0.037  1.000 -0.896  0.755\n        9  0.95481   0.291 -0.226  0.000 -0.001  0.234 -0.170 -0.034 -0.896  1.000 -0.881\n       10  0.92437  -0.490  0.385 -0.001  0.002 -0.409  0.286  0.058  0.755 -0.881  1.000\n **********\n **    1 **SET PRINT           1\n **********\n **********\n **    2 **SET NOGRAD\n **********\n PARAMETER DEFINITIONS:\n    NO.   NAME         VALUE      STEP SIZE      LIMITS\n     1 B            5.48429e+03  2.93504e+02    1.00000e+00  9.00000e+08\n MINUIT WARNING IN PARAM DEF\n ============== LIMITS ON PARAM1 TOO FAR APART.\n PARAMETER DEFINITIONS:\n    NO.   NAME         VALUE      STEP SIZE      LIMITS\n     2 B_1          6.38918e-01  3.88684e-02    0.00000e+00  1.00000e+00\n     3 B_2          5.26669e-07  2.54684e-03    0.00000e+00  1.00000e+00\n MINUIT WARNING IN PARAMETR\n ============== VARIABLE3 BROUGHT BACK INSIDE LIMITS.\n     4 B_3          5.67882e-03  2.23336e-01    0.00000e+00  1.00000e+00\n MINUIT WARNING IN PARAMETR\n ============== VARIABLE4 BROUGHT BACK INSIDE LIMITS.\n     5 B_4          3.27285e-01  4.02858e-02    0.00000e+00  1.00000e+00\n     6 S            3.09098e+04  3.33679e+02    4.00000e+00  9.00000e+05\n     7 S1_mean      5.27853e+00  1.25124e-04    5.17963e+00  5.37963e+00\n     8 S1_sigma     1.70551e-02  1.46825e-04    1.00000e-03  5.00000e-02\n     9 S2_frac      2.00000e-01  1.00000e-01    0.00000e+00  1.00000e+00\n    10 S2_sigma     4.09655e-02  1.37891e-03    7.00000e-03  8.00000e-02\n **********\n **    3 **SET ERR         0.5\n **********\n **********\n **    4 **SET PRINT           1\n **********\n **********\n **    5 **SET STR           1\n **********\n NOW USING STRATEGY  1: TRY TO BALANCE SPEED AGAINST RELIABILITY\n **********\n **    6 **MIGRAD        5000           1\n **********\n FIRST CALL TO USER FUNCTION AT NEW START POINT, WITH IFLAG=4.\n START MIGRAD MINIMIZATION.  STRATEGY  1.  CONVERGENCE WHEN EDM .LT. 1.00e-03\n FCN=-416286 FROM MIGRAD    STATUS=INITIATE       36 CALLS          37 TOTAL\n                     EDM= unknown      STRATEGY= 1      NO ERROR MATRIX       \n  EXT PARAMETER               CURRENT GUESS       STEP         FIRST   \n  NO.   NAME      VALUE            ERROR          SIZE      DERIVATIVE \n   1  B            5.48429e+03   2.93504e+02   1.32169e-04   3.90339e+01\n   2  B_1          6.38918e-01   3.88684e-02   8.10338e-02  -4.19902e-01\n   3  B_2          5.26669e-07   2.54684e-03   5.00180e-02   1.58557e-01\n   4  B_3          5.67882e-03   2.23336e-01   4.98032e-01   3.33481e-01\n   5  B_4          3.27285e-01   4.02858e-02   8.60058e-02  -4.77826e-02\n   6  S            3.09098e+04   3.33679e+02   2.03602e-03  -2.49130e-01\n   7  S1_mean      5.27853e+00   1.25124e-04   1.25132e-03   2.02166e-01\n   8  S1_sigma     1.70551e-02   1.46825e-04   6.38418e-03  -1.02778e-01\n   9  S2_frac      2.00000e-01   1.00000e-01   2.57889e-01  -2.75161e+02\n  10  S2_sigma     4.09655e-02   1.37891e-03   3.78789e-02  -1.05857e-01\n                               ERR DEF= 0.5\n MIGRAD MINIMIZATION HAS CONVERGED.\n FCN=-416338 FROM MIGRAD    STATUS=CONVERGED     305 CALLS         306 TOTAL\n                     EDM=6.7761e-05    STRATEGY= 1  ERROR MATRIX UNCERTAINTY   8.8 per cent\n  EXT PARAMETER                                   STEP         FIRST   \n  NO.   NAME      VALUE            ERROR          SIZE      DERIVATIVE \n   1  B            5.59285e+03   1.18445e+02  -2.30714e-07  -1.44558e+01\n   2  B_1          6.34774e-01   1.03274e-02  -1.80812e-05   1.00080e-01\n   3  B_2          7.09348e-10   2.40324e-03  -9.86632e-05** at limit **\n   4  B_3          5.45776e-10   4.57700e-03  -4.31119e-03** at limit **\n   5  B_4          3.38073e-01   1.37483e-02   1.34578e-05   2.41473e-01\n   6  S            3.08015e+04   1.99273e+02  -1.33718e-06   2.15015e+00\n   7  S1_mean      5.27852e+00   1.25214e-04   9.98067e-07   5.58814e-01\n   8  S1_sigma     1.46667e-02   2.64659e-04   8.97805e-05  -8.71912e-01\n   9  S2_frac      3.92399e-01   2.15620e-02  -1.48529e-04  -5.24395e-01\n  10  S2_sigma     3.19880e-02   9.20325e-04   2.34226e-05  -2.70444e-01\n                               ERR DEF= 0.5\n EXTERNAL ERROR MATRIX.    NDIM=  25    NPAR= 10    ERR DEF=0.5\n  1.403e+04 -5.946e-01 -6.536e-07  5.093e-06  8.929e-01 -8.164e+03 -1.010e-03 -9.580e-03  8.648e-01 -5.761e-02 \n -5.946e-01  1.067e-04  3.345e-10 -1.789e-10 -1.273e-04  6.206e-01  1.940e-07  7.795e-07 -6.670e-05  4.060e-06 \n -6.536e-07  3.345e-10  6.824e-12 -4.288e-14 -5.320e-10 -8.463e-07  1.843e-13 -9.532e-13  1.006e-10 -2.999e-12 \n  5.093e-06 -1.789e-10 -4.288e-14  1.001e-11 -4.585e-10 -2.967e-06  4.805e-13 -7.926e-11  5.353e-09 -1.441e-10 \n  8.929e-01 -1.273e-04 -5.320e-10 -4.585e-10  1.891e-04 -9.010e-01 -2.488e-07 -1.080e-06  9.208e-05 -5.821e-06 \n -8.164e+03  6.206e-01 -8.463e-07 -2.967e-06 -9.010e-01  3.971e+04  9.662e-04  1.143e-02 -9.615e-01  6.021e-02 \n -1.010e-03  1.940e-07  1.843e-13  4.805e-13 -2.488e-07  9.662e-04  1.568e-08  1.197e-09 -6.267e-08  4.581e-09 \n -9.580e-03  7.795e-07 -9.532e-13 -7.926e-11 -1.080e-06  1.143e-02  1.197e-09  7.005e-08 -5.048e-06  1.867e-07 \n  8.648e-01 -6.670e-05  1.006e-10  5.353e-09  9.208e-05 -9.615e-01 -6.267e-08 -5.048e-06  4.652e-04 -1.763e-05 \n -5.761e-02  4.060e-06 -2.999e-12 -1.441e-10 -5.821e-06  6.021e-02  4.581e-09  1.867e-07 -1.763e-05  8.472e-07 \n PARAMETER  CORRELATION COEFFICIENTS  \n       NO.  GLOBAL      1      2      3      4      5      6      7      8      9     10\n        1  0.67070   1.000 -0.486 -0.002  0.014  0.548 -0.346 -0.068 -0.306  0.339 -0.528\n        2  0.89708  -0.486  1.000  0.012 -0.005 -0.896  0.302  0.150  0.285 -0.299  0.427\n        3  0.01957  -0.002  0.012  1.000 -0.005 -0.015 -0.002  0.001 -0.001  0.002 -0.001\n        4  0.11159   0.014 -0.005 -0.005  1.000 -0.011 -0.005  0.001 -0.095  0.078 -0.050\n        5  0.90772   0.548 -0.896 -0.015 -0.011  1.000 -0.329 -0.145 -0.297  0.310 -0.460\n        6  0.41563  -0.346  0.302 -0.002 -0.005 -0.329  1.000  0.039  0.217 -0.224  0.328\n        7  0.15702  -0.068  0.150  0.001  0.001 -0.145  0.039  1.000  0.036 -0.023  0.040\n        8  0.88720  -0.306  0.285 -0.001 -0.095 -0.297  0.217  0.036  1.000 -0.884  0.766\n        9  0.94958   0.339 -0.299  0.002  0.078  0.310 -0.224 -0.023 -0.884  1.000 -0.888\n       10  0.92731  -0.528  0.427 -0.001 -0.050 -0.460  0.328  0.040  0.766 -0.888  1.000\n **********\n **    7 **SET ERR         0.5\n **********\n **********\n **    8 **SET PRINT           1\n **********\n **********\n **    9 **HESSE        5000\n **********\n COVARIANCE MATRIX CALCULATED SUCCESSFULLY\n FCN=-416338 FROM HESSE     STATUS=OK            100 CALLS         406 TOTAL\n                     EDM=0.000772979    STRATEGY= 1      ERROR MATRIX ACCURATE \n  EXT PARAMETER                                INTERNAL      INTERNAL  \n  NO.   NAME      VALUE            ERROR       STEP SIZE       VALUE   \n   1  B            5.59285e+03   2.07178e+02   1.74242e-05  -1.56581e+00\n   2  B_1          6.34774e-01   3.08646e-02   4.11112e-03   2.72924e-01\n   3  B_2          7.09348e-10   2.29177e-03   4.15726e-02  -1.57074e+00\n                                 WARNING -   - ABOVE PARAMETER IS AT LIMIT.\n   4  B_3          5.45776e-10   1.13474e-02   7.19778e-02  -1.57075e+00\n                                 WARNING -   - ABOVE PARAMETER IS AT LIMIT.\n   5  B_4          3.38073e-01   4.11401e-02   5.37778e-03  -3.29801e-01\n   6  S            3.08015e+04   2.60987e+02   4.90267e-04  -1.19868e+00\n   7  S1_mean      5.27852e+00   1.34962e-04   5.45344e-04  -1.10670e-02\n   8  S1_sigma     1.46667e-02   3.48946e-04   2.58202e-03  -4.58023e-01\n   9  S2_frac      3.92399e-01   2.84017e-02   6.18628e-03  -2.16898e-01\n  10  S2_sigma     3.19880e-02   1.38228e-03   4.30203e-03  -3.20876e-01\n                               ERR DEF= 0.5\n EXTERNAL ERROR MATRIX.    NDIM=  25    NPAR= 10    ERR DEF=0.5\n  4.292e+04 -5.571e+00  3.913e-05  9.819e-06  7.437e+00 -3.732e+04 -1.022e-02 -4.137e-02  3.628e+00 -2.326e-01 \n -5.571e+00  9.539e-04 -7.376e-09 -1.580e-10 -1.250e-03  5.569e+00  1.745e-06  6.059e-06 -5.290e-04  3.413e-05 \n  3.913e-05 -7.376e-09  6.508e-12  2.628e-15  6.606e-09 -3.911e-05 -8.226e-12 -3.891e-11  3.350e-09 -2.242e-10 \n  9.819e-06 -1.580e-10  2.628e-15  2.487e-11 -2.280e-08 -9.760e-06  1.948e-11  3.077e-11 -3.303e-09  1.267e-10 \n  7.437e+00 -1.250e-03  6.606e-09 -2.280e-08  1.697e-03 -7.435e+00 -2.323e-06 -8.092e-06  7.067e-04 -4.560e-05 \n -3.732e+04  5.569e+00 -3.911e-05 -9.760e-06 -7.435e+00  6.811e+04  1.022e-02  4.138e-02 -3.629e+00  2.326e-01 \n -1.022e-02  1.745e-06 -8.226e-12  1.948e-11 -2.323e-06  1.022e-02  1.821e-08  1.117e-08 -9.367e-07  6.105e-08 \n -4.137e-02  6.059e-06 -3.891e-11  3.077e-11 -8.092e-06  4.138e-02  1.117e-08  1.218e-07 -9.202e-06  3.980e-07 \n  3.628e+00 -5.290e-04  3.350e-09 -3.303e-09  7.067e-04 -3.629e+00 -9.367e-07 -9.202e-06  8.076e-04 -3.567e-05 \n -2.326e-01  3.413e-05 -2.242e-10  1.267e-10 -4.560e-05  2.326e-01  6.105e-08  3.980e-07 -3.567e-05  1.912e-06 \n PARAMETER  CORRELATION COEFFICIENTS  \n       NO.  GLOBAL      1      2      3      4      5      6      7      8      9     10\n        1  0.90592   1.000 -0.871  0.074  0.010  0.871 -0.690 -0.366 -0.572  0.616 -0.812\n        2  0.98960  -0.871  1.000 -0.094 -0.001 -0.983  0.691  0.419  0.562 -0.603  0.799\n        3  0.22278   0.074 -0.094  1.000  0.000  0.063 -0.059 -0.024 -0.044  0.046 -0.064\n        4  0.63002   0.010 -0.001  0.000  1.000 -0.111 -0.007  0.029  0.018 -0.023  0.018\n        5  0.99034   0.871 -0.983  0.063 -0.111  1.000 -0.692 -0.418 -0.563  0.604 -0.801\n        6  0.72400  -0.690  0.691 -0.059 -0.007 -0.692  1.000  0.290  0.454 -0.489  0.645\n        7  0.42145  -0.366  0.419 -0.024  0.029 -0.418  0.290  1.000  0.237 -0.244  0.327\n        8  0.93103  -0.572  0.562 -0.044  0.018 -0.563  0.454  0.237  1.000 -0.928  0.825\n        9  0.97112   0.616 -0.603  0.046 -0.023  0.604 -0.489 -0.244 -0.928  1.000 -0.908\n       10  0.97030  -0.812  0.799 -0.064  0.018 -0.801  0.645  0.327  0.825 -0.908  1.000\n"
     ]
    },
    {
     "name": "stderr",
     "output_type": "stream",
     "text": [
      "Warning in <TCanvas::Constructor>: Deleting canvas with same name: cB\nInfo in <TCanvas::Print>: png file ../pictures/Pic_mass_bin_pt1.png has been created\nWarning in <TCanvas::Constructor>: Deleting canvas with same name: cB\nInfo in <TCanvas::Print>: png file ../pictures/Pic_mass_bin_pt2.png has been created\nWarning in <TCanvas::Constructor>: Deleting canvas with same name: cB\nInfo in <TCanvas::Print>: png file ../pictures/Pic_mass_bin_pt3.png has been created\nWarning in <TCanvas::Constructor>: Deleting canvas with same name: cB\nInfo in <TCanvas::Print>: png file ../pictures/Pic_mass_bin_pt4.png has been created\nWarning in <TCanvas::Constructor>: Deleting canvas with same name: cB\nInfo in <TCanvas::Print>: png file ../pictures/Pic_mass_bin_pt5.png has been created\nError in <TMath::NormQuantile>: probability outside (0, 1)\nWarning in <TCanvas::Constructor>: Deleting canvas with same name: cB\nInfo in <TCanvas::Print>: png file ../pictures/Pic_mass_bin_pt6.png has been created\nWarning in <TCanvas::Constructor>: Deleting canvas with same name: cB\nInfo in <TCanvas::Print>: png file ../pictures/Pic_mass_bin_pt7.png has been created\nError in <TMath::NormQuantile>: probability outside (0, 1)\n"
     ]
    }
   ],
   "source": [
    "for i in range(1, 8):\n",
    "    pname = 'Pic_mass_bin_pt' + str(i) + '.png'\n",
    "\n",
    "    histname = \"hBmas\" + str(i)\n",
    "\n",
    "    mbmin = 5.105\n",
    "    mbmax = 5.46\n",
    "    mbNbins = 150  # range of plot + N(bins)\n",
    "\n",
    "    varname = \"M(B) , [GeV]\"\n",
    "    TwoGaus = 1\n",
    "\n",
    "    canvW = 1000\n",
    "    canvH = 600\n",
    "    _PicName = '../pictures/' + pname  # name of file with picture\n",
    "\n",
    "    fit_M0 = 5.27963\n",
    "    fit_Sigma0 = 0.015\n",
    "    fit_N0 = 80000\n",
    "\n",
    "    mb = ROOT.RooRealVar(\"mb\", varname, mbmin, mbmax)\n",
    "\n",
    "    exec('hh = f.%s.Clone();' % histname)\n",
    "    hh.SetName('hh')\n",
    "\n",
    "    datahist = ROOT.RooDataHist('datahist', 'datahist', ROOT.RooArgList(mb), hh)  ## create RooHist from histogram\n",
    "\n",
    "    ###                                          initial  lower   upper\n",
    "    ###                                          values   bound   bound\n",
    "\n",
    "    S1 = ROOT.RooRealVar(\"S1\", \"Signal\", fit_N0, 1, 900000)\n",
    "    S1_mean = ROOT.RooRealVar(\"S1_mean\", \"mean \", fit_M0, fit_M0 - 0.1, fit_M0 + 0.1)\n",
    "    S1_sigma = ROOT.RooRealVar(\"S1_sigma\", \"sigma\", fit_Sigma0, 0.001, 0.05)\n",
    "\n",
    "    B = ROOT.RooRealVar(\"B\", \"B\", 40000, 1, 900000000)\n",
    "    B_c = ROOT.RooRealVar(\"B_c\", \"B_c \", -2.3, -20, 100)\n",
    "    B_1 = ROOT.RooRealVar(\"B_1\", \"B_1 \", 0.1, 0.0, 1.0)\n",
    "    B_2 = ROOT.RooRealVar(\"B_2\", \"B_2 \", 0.1, 0.0, 1.0)\n",
    "    B_3 = ROOT.RooRealVar(\"B_3\", \"B_3 \", 0.1, 0.0, 1.0)\n",
    "    B_4 = ROOT.RooRealVar(\"B_4\", \"B_4 \", 0.1, 0.0, 1.0)\n",
    "    BX1 = ROOT.RooFormulaVar(\"BX1\", \"BX1\", '1.0 - @0', ROOT.RooArgList(B_1))\n",
    "    BX2 = ROOT.RooFormulaVar(\"BX2\", \"BX2\", '1.0 - @0 -@1', ROOT.RooArgList(B_1, B_2))\n",
    "    BX3 = ROOT.RooFormulaVar(\"BX3\", \"BX3\", '1.0 - @0 -@1 -@2', ROOT.RooArgList(B_1, B_2, B_3))\n",
    "    BX4 = ROOT.RooFormulaVar(\"BX4\", \"BX4\", '1.0 - @0 -@1 -@2 -@3', ROOT.RooArgList(B_1, B_2, B_3, B_4))\n",
    "\n",
    "    if TwoGaus:\n",
    "        S = ROOT.RooRealVar(\"S\", \"Signal\", fit_N0, 4, 900000)\n",
    "        S2_frac = ROOT.RooRealVar(\"S2_frac\", \"frac\", 0.2, 0., 1.0)\n",
    "        S1 = ROOT.RooFormulaVar(\"S1\", \"Signal\", 'S * (1.0 - S2_frac)', ROOT.RooArgList(S, S2_frac))\n",
    "        S2 = ROOT.RooFormulaVar(\"S2\", \"Signal\", 'S * S2_frac', ROOT.RooArgList(S, S2_frac))\n",
    "        S2_sigma = ROOT.RooRealVar(\"S2_sigma\", \"sigma\", fit_Sigma0 * 1.5, 0.007, 0.08)\n",
    "        pdfS2 = ROOT.RooGaussian(\"pdfS2\", \"gaus\", mb, S1_mean, S2_sigma)\n",
    "\n",
    "    pdfS1 = ROOT.RooGaussian(\"pdfS1\", \"gaus\", mb, S1_mean, S1_sigma)\n",
    "\n",
    "    # pdfB    = RooExponential(\"pdfB\" , \"pdfB\"    , mb    , B_c)\n",
    "    # pdfB    = RooBernstein(\"pdfB\" , \"pdfB\"    , mb, RooArgList(B_1, BX1)) ## 1st order\n",
    "    # pdfB    = RooBernstein(\"pdfB\" , \"pdfB\"    , mb, RooArgList(B_1, B_2, BX2)) ## 2nd order\n",
    "    # pdfB    = ROOT.RooBernstein(\"pdfB\" , \"pdfB\"    , mb, ROOT.RooArgList(B_1, B_2, B_3, BX3)) ## 3rd order\n",
    "    pdfB = ROOT.RooBernstein(\"pdfB\", \"pdfB\", mb, ROOT.RooArgList(B_1, B_2, B_3, B_4, BX4))  # 4rd order\n",
    "\n",
    "    alist1 = ROOT.RooArgList(pdfS1, pdfB);\n",
    "    alist2 = ROOT.RooArgList(S1, B);\n",
    "\n",
    "    if TwoGaus:\n",
    "        alist1 = ROOT.RooArgList(pdfS1, pdfS2, pdfB);\n",
    "        alist2 = ROOT.RooArgList(S1, S2, B);\n",
    "\n",
    "    pdfSum = ROOT.RooAddPdf(\"model\", \"model\", alist1, alist2)\n",
    "\n",
    "    # FIX Mass and Sigma\n",
    "    # S1_mean.setConstant(True)\n",
    "    # S1_sigma.setConstant(True)\n",
    "    if TwoGaus: S2_frac.setConstant(True)\n",
    "    if TwoGaus: S2_sigma.setConstant(True)\n",
    "\n",
    "    rrr = pdfSum.fitTo(datahist, ROOT.RooFit.NumCPU(4), ROOT.RooFit.PrintLevel(-1), ROOT.RooFit.Save())\n",
    "    # S1_sigma.setConstant(False)\n",
    "    if TwoGaus: S2_sigma.setConstant(False)\n",
    "\n",
    "    rrr = pdfSum.fitTo(datahist, ROOT.RooFit.NumCPU(4), ROOT.RooFit.PrintLevel(-1), ROOT.RooFit.Save())\n",
    "    # S1_mean.setConstant(False)\n",
    "    rrr = pdfSum.fitTo(datahist, ROOT.RooFit.NumCPU(4), ROOT.RooFit.PrintLevel(-1), ROOT.RooFit.Save())\n",
    "    if TwoGaus: S2_frac.setConstant(False)\n",
    "    rrr = pdfSum.fitTo(datahist, ROOT.RooFit.Save())\n",
    "\n",
    "    cB = ROOT.TCanvas(\"cB\", \"cB\", canvW, canvH)\n",
    "    mframe = 0\n",
    "    mframe = mb.frame(mbNbins)\n",
    "    datahist.plotOn(mframe, ROOT.RooFit.MarkerSize(0.6))\n",
    "    pdfSum.plotOn(mframe, ROOT.RooFit.Components('pdfB'), ROOT.RooFit.LineColor(ROOT.kBlue),\n",
    "                  ROOT.RooFit.LineStyle(ROOT.kDashed), ROOT.RooFit.LineWidth(2))\n",
    "    pdfSum.plotOn(mframe, ROOT.RooFit.Components('pdfS1'), ROOT.RooFit.LineColor(ROOT.kGreen), ROOT.RooFit.LineWidth(1))\n",
    "\n",
    "    # if TwoGaus : pdfSum.plotOn(mframe, ROOT.RooFit().Components('pdfS2'), ROOT.RooFit().LineColor(kGreen), ROOT.RooFit().LineWidth(1))\n",
    "\n",
    "    pdfSum.plotOn(mframe, ROOT.RooFit.LineColor(ROOT.kRed))\n",
    "    pdfSum.paramOn(mframe, ROOT.RooFit.Layout(0.57, 0.98, 0.94))\n",
    "    datahist.plotOn(mframe, ROOT.RooFit.MarkerSize(0.6))\n",
    "    mframe.SetTitle(_PicName)\n",
    "    mframe.Draw()\n",
    "    # L1=TLine(3.706, 0, 3.706, 300)\n",
    "    # L2=TLine(3.666, 0, 3.666, 300)\n",
    "    # L1.Draw(\"same\")\n",
    "    # L2.Draw(\"same\")\n",
    "\n",
    "    cB.SaveAs(_PicName)\n",
    "\n",
    "    rrr.Print()\n",
    "\n",
    "    LS = rrr.minNll()\n",
    "\n",
    "    S1_sigma.setConstant(True)\n",
    "    S1_mean.setConstant(True)\n",
    "\n",
    "    if TwoGaus:\n",
    "        S2_sigma.setConstant(True)\n",
    "    # S1.setVal(0)\n",
    "    # S1.setConstant(True)\n",
    "\n",
    "    rrr = pdfSum.fitTo(datahist, ROOT.RooFit.NumCPU(4), ROOT.RooFit.PrintLevel(-1), ROOT.RooFit.Save())\n",
    "    # rrr = pdfSum.fitTo( datahist, RooFit.NumCPU(4), RooFit.PrintLevel(-1), RooFit.Save())\n",
    "    # rrr = pdfSum.fitTo( datahist, RooFit.NumCPU(4), RooFit.PrintLevel(-1), RooFit.Save())\n",
    "\n",
    "    L0 = rrr.minNll()\n",
    "\n",
    "    prob = ROOT.TMath.Prob(L0 - LS, 1)\n",
    "    print('Signif =', ROOT.TMath.ErfcInverse(prob) * sqrt(2.))\n",
    "\n",
    "    signals.append(int(S.getValV()))\n",
    "    signals_err.append(int(S.getError()))\n",
    "    # print('\\n\\n\\n\\n\\n\\n   S1 = ' + str(S.getValV()) + '\\n\\n\\n\\n\\n\\n')\n",
    "\n",
    "    # END\n"
   ]
  },
  {
   "cell_type": "code",
   "execution_count": 61,
   "metadata": {},
   "outputs": [
    {
     "data": {
      "text/plain": [
       "(array('d', [113506.0, 113315.0, 104303.0, 82487.0, 62680.0, 45089.0, 30801.0]),\n array('d', [202.0, 200.0, 186.0, 304.0, 265.0, 225.0, 186.0]))"
      ]
     },
     "execution_count": 61,
     "metadata": {},
     "output_type": "execute_result"
    }
   ],
   "source": [
    "signals, signals_err\n"
   ]
  },
  {
   "cell_type": "code",
   "execution_count": 62,
   "metadata": {},
   "outputs": [],
   "source": [
    "signals_err = array('d', [202.0, 393.0, 186.0, 329.0, 293.0, 237.0, 261.0])\n",
    "\n",
    "sign = array('d')\n",
    "\n",
    "for i in range(0, 7):\n",
    "    sign.append(signals[i] / signals_err[i])\n",
    "\n",
    "cuts = array('d')\n",
    "cuts.append(8)\n",
    "cuts.append(10)\n",
    "cuts.append(15)\n",
    "cuts.append(20)\n",
    "cuts.append(25)\n",
    "cuts.append(30)\n",
    "cuts.append(35)"
   ]
  },
  {
   "cell_type": "code",
   "execution_count": 63,
   "metadata": {},
   "outputs": [
    {
     "data": {
      "text/plain": [
       "(array('d', [561.9108910891089, 288.3333333333333, 560.7688172043011, 250.72036474164133, 213.92491467576792, 190.24894514767934, 118.01149425287356]),\n array('d', [8.0, 10.0, 15.0, 20.0, 25.0, 30.0, 35.0]))"
      ]
     },
     "execution_count": 63,
     "metadata": {},
     "output_type": "execute_result"
    }
   ],
   "source": [
    "sign, cuts"
   ]
  },
  {
   "cell_type": "code",
   "execution_count": 39,
   "metadata": {},
   "outputs": [
    {
     "data": {
      "text/plain": [
       "(43914.0, 234.0, 187.66666666666666)"
      ]
     },
     "execution_count": 39,
     "metadata": {},
     "output_type": "execute_result"
    }
   ],
   "source": [
    "signals[5], signals_err[5], signals[5] / signals_err[5]"
   ]
  },
  {
   "cell_type": "code",
   "execution_count": 64,
   "metadata": {},
   "outputs": [],
   "source": [
    "graph = ROOT.TGraph(7, cuts, sign)\n",
    "\n",
    "gf = ROOT.TFile(\"../data/graf_bpt.root\", \"recreate\")\n",
    "\n",
    "graph.Write()\n",
    "\n",
    "gf.Close()"
   ]
  },
  {
   "cell_type": "code",
   "execution_count": null,
   "metadata": {},
   "outputs": [],
   "source": []
  }
 ],
 "metadata": {
  "kernelspec": {
   "display_name": "Python 2",
   "language": "python",
   "name": "python2"
  },
  "language_info": {
   "codemirror_mode": {
    "name": "ipython",
    "version": 2
   },
   "file_extension": ".py",
   "mimetype": "text/x-python",
   "name": "python",
   "nbconvert_exporter": "python",
   "pygments_lexer": "ipython2",
   "version": "2.7.6"
  }
 },
 "nbformat": 4,
 "nbformat_minor": 0
}
